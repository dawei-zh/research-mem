{
 "cells": [
  {
   "cell_type": "code",
   "execution_count": 1,
   "id": "bdfb2532-7333-42c9-8fa9-f8e1541fe2b2",
   "metadata": {},
   "outputs": [],
   "source": [
    "import numpy as np\n",
    "from qiskit import QuantumCircuit, transpile, IBMQ, assemble\n",
    "from qiskit.providers.ibmq.job import job_monitor\n",
    "\n",
    "provider = IBMQ.load_account()\n",
    "backend = provider.backend.ibmq_lima"
   ]
  },
  {
   "cell_type": "code",
   "execution_count": 2,
   "id": "fcdb96a1-1756-4d9f-8fbb-844e666f7474",
   "metadata": {},
   "outputs": [],
   "source": [
    "def get_basis_state(nqubit):\n",
    "    if nqubit <= 0:\n",
    "        print(\"nqubit should be greater than 0\")\n",
    "        return 0\n",
    "    \n",
    "    if nqubit > 1:\n",
    "        tmp1 = ['0' + i for i in get_basis_state(nqubit-1)]\n",
    "        tmp2 = ['1' + i for i in get_basis_state(nqubit-1)]\n",
    "        return tmp1 + tmp2\n",
    "    if nqubit == 1:\n",
    "        return ['0', '1']"
   ]
  },
  {
   "cell_type": "code",
   "execution_count": 3,
   "id": "05656fac-5e1f-45b0-936a-4741ef989493",
   "metadata": {},
   "outputs": [],
   "source": [
    "def calibrate_experiment(basis_state):\n",
    "    qasmString = ['OPENQASM 2.0;\\n',\n",
    "                  'include \"qelib1.inc\";\\n', \n",
    "                  '\\n', \n",
    "                  'qreg q[' + str(len(basis_state)) + '];\\n', \n",
    "                  'creg c[' + str(len(basis_state)) + '];\\n', \n",
    "                  '\\n']\n",
    "    tmp = basis_state[-1::-1]\n",
    "    for i in range(len(tmp)):\n",
    "        if tmp[i] == '0':\n",
    "            qasmString.append('id q[' + str(i) + '];\\n')\n",
    "        if tmp[i] == '1':\n",
    "            qasmString.append('x q[' + str(i) + '];\\n')\n",
    "    for i in range(len(tmp)):\n",
    "        qasmString.append('measure q[' + str(i) + '] -> c[' + str(i) + '];\\n')\n",
    "    \n",
    "    f = open('./calibrate/' + basis_state + '.txt', 'w')\n",
    "    f.writelines(qasmString)\n",
    "    f.close()\n",
    "    return qasmString"
   ]
  },
  {
   "cell_type": "code",
   "execution_count": 4,
   "id": "f3e206f8-92ed-4b5e-b37b-1f4bba4aec9a",
   "metadata": {},
   "outputs": [],
   "source": [
    "def run_calibration(basis_state, jobName):\n",
    "    circList = []\n",
    "    for i in range(len(basis_state)):\n",
    "        circList.append(QuantumCircuit.from_qasm_file('./calibrate/' + basis_state[i] + '.txt'))\n",
    "    \n",
    "    transpiled = transpile(circList, backend=backend)\n",
    "    #qobj = assemble(transpiled, backend=backend) # Avoid Warning\n",
    "    job = backend.run(transpiled, job_name= jobName, shots = 20000)\n",
    "    #job_monitor(job)\n",
    "    return job.job_id()"
   ]
  },
  {
   "cell_type": "code",
   "execution_count": 5,
   "id": "158f3a07-8fad-4649-b4e1-ec02b80b32ae",
   "metadata": {},
   "outputs": [
    {
     "data": {
      "text/plain": [
       "['00000',\n",
       " '00001',\n",
       " '00010',\n",
       " '00011',\n",
       " '00100',\n",
       " '00101',\n",
       " '00110',\n",
       " '00111',\n",
       " '01000',\n",
       " '01001',\n",
       " '01010',\n",
       " '01011',\n",
       " '01100',\n",
       " '01101',\n",
       " '01110',\n",
       " '01111',\n",
       " '10000',\n",
       " '10001',\n",
       " '10010',\n",
       " '10011',\n",
       " '10100',\n",
       " '10101',\n",
       " '10110',\n",
       " '10111',\n",
       " '11000',\n",
       " '11001',\n",
       " '11010',\n",
       " '11011',\n",
       " '11100',\n",
       " '11101',\n",
       " '11110',\n",
       " '11111']"
      ]
     },
     "execution_count": 5,
     "metadata": {},
     "output_type": "execute_result"
    }
   ],
   "source": [
    "basis_state = get_basis_state(5)\n",
    "basis_state"
   ]
  },
  {
   "cell_type": "code",
   "execution_count": null,
   "id": "f2330d4c-c7e7-43e1-988f-5c905b481451",
   "metadata": {},
   "outputs": [],
   "source": [
    "for state in basis_state:\n",
    "    calibrate_experiment(state)\n",
    "    \n",
    "run_calibration(basis_state, 'lima_calibrate')"
   ]
  },
  {
   "cell_type": "code",
   "execution_count": null,
   "id": "9678ebfb-5576-4a8e-bfb7-8b6829d152c3",
   "metadata": {},
   "outputs": [],
   "source": []
  },
  {
   "cell_type": "code",
   "execution_count": 6,
   "id": "635ef33a-061e-42aa-9a58-c08da349ef29",
   "metadata": {},
   "outputs": [],
   "source": [
    "def get_response_matrix(data, nqubit):\n",
    "    \"\"\"\n",
    "    Be careful for the row and column of response matrix\n",
    "    \"\"\"\n",
    "    basis_state = get_basis_state(nqubit)\n",
    "    size = len(basis_state)\n",
    "    response = np.zeros((size,size)) * np.nan\n",
    "    for i in range(size): \n",
    "        for j in range(size):\n",
    "            state = basis_state[j]\n",
    "            try: \n",
    "                response[i][j] = data[i][state]\n",
    "            except KeyError:\n",
    "                response[i][j] = 0\n",
    "    \n",
    "    return response"
   ]
  },
  {
   "cell_type": "code",
   "execution_count": 7,
   "id": "7a23a0f4-e4b3-4503-bc2c-8df49a4d52f0",
   "metadata": {},
   "outputs": [],
   "source": [
    "job_id = '61d64935a90e53713073287b'\n",
    "data = backend.retrieve_job('61d64935a90e53713073287b').result().get_counts()"
   ]
  },
  {
   "cell_type": "code",
   "execution_count": 8,
   "id": "7f6d8a02-ec75-47d9-a98e-8d62ec7e61c0",
   "metadata": {},
   "outputs": [
    {
     "data": {
      "text/plain": [
       "<AxesSubplot:>"
      ]
     },
     "execution_count": 8,
     "metadata": {},
     "output_type": "execute_result"
    },
    {
     "data": {
      "image/png": "[encoded data removed]",
      "text/plain": [
       "<Figure size 720x720 with 2 Axes>"
      ]
     },
     "metadata": {},
     "output_type": "display_data"
    }
   ],
   "source": [
    "import seaborn as sns\n",
    "sns.set(rc={'axes.facecolor':'black', 'figure.facecolor':'white'})\n",
    "sns.set(rc = {'figure.figsize':(10,10)})\n",
    "sns.heatmap(\n",
    "    get_response_matrix(data, 5)/20000,\n",
    "    cmap=sns.color_palette(\"Blues\", as_cmap=True),\n",
    "    linewidths=.5,\n",
    "    xticklabels = basis_state,\n",
    "    yticklabels = basis_state,\n",
    "    square = True\n",
    ")"
   ]
  }
 ],
 "metadata": {
  "kernelspec": {
   "display_name": "Qiskit v0.34.0 (ipykernel)",
   "language": "python",
   "name": "python3"
  },
  "language_info": {
   "codemirror_mode": {
    "name": "ipython",
    "version": 3
   },
   "file_extension": ".py",
   "mimetype": "text/x-python",
   "name": "python",
   "nbconvert_exporter": "python",
   "pygments_lexer": "ipython3",
   "version": "3.8.10"
  },
  "widgets": {
   "application/vnd.jupyter.widget-state+json": {
    "state": {},
    "version_major": 2,
    "version_minor": 0
   }
  }
 },
 "nbformat": 4,
 "nbformat_minor": 5
}
