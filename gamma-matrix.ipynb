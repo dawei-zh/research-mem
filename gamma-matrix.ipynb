{
 "cells": [
  {
   "cell_type": "markdown",
   "id": "20ed4343-a00c-441c-ab7e-91b605f45dea",
   "metadata": {},
   "source": [
    "# Gamma Matrix Estimation\n",
    "\n",
    "In this notebook, I am going to use the pyGSTi data to estimate the state-preparation-error-free response matrix. "
   ]
  },
  {
   "cell_type": "code",
   "execution_count": 1,
   "id": "eb42e3c5-fc8b-47a7-930a-8497eb3fed9b",
   "metadata": {},
   "outputs": [],
   "source": [
    "import numpy as np\n",
    "\n",
    "# Importing standard Qiskit libraries\n",
    "from qiskit import QuantumCircuit, transpile, Aer, IBMQ\n",
    "from qiskit.tools.jupyter import *\n",
    "from qiskit.visualization import *\n",
    "from ibm_quantum_widgets import *\n",
    "from qiskit.providers.aer import QasmSimulator\n",
    "\n",
    "# Loading your IBM Quantum account(s)\n",
    "provider = IBMQ.load_account()"
   ]
  },
  {
   "cell_type": "code",
   "execution_count": 2,
   "id": "1729b144-6bfe-4747-8353-2dbdd32f2d31",
   "metadata": {},
   "outputs": [],
   "source": [
    "# Validation\n",
    "rho0 = np.array([[0.9945645, -0.0085467],\n",
    "                 [-0.0269976, 0.0054355]])\n",
    "\n",
    "Gx = np.array([[1, 0, 0, 0], \n",
    "               [0.0003134, 0.9912031, 0.0037473, -0.0033693], \n",
    "               [-0.0019327, 0.0037024, -0.0016431, -0.9904943], \n",
    "               [0.0031495, 0.003414, 0.99052, -0.0008703]])\n",
    "\n",
    "Gy = np.array([[1, 0, 0, 0], \n",
    "               [-0.0018068, 0.0057858, 0.0001531, 0.991508], \n",
    "               [-4.8e-5, 9.79e-5, 0.9924849, -0.0001799], \n",
    "               [0.0050456, -0.9916214, 0.0002356, 0.0007144]])\n",
    "\n",
    "Gx2 = np.matmul(Gx, Gx)\n",
    "Gx3 = np.matmul(Gx2, Gx)"
   ]
  },
  {
   "cell_type": "code",
   "execution_count": null,
   "id": "299c5d27-d483-445b-86b7-7266f7900f83",
   "metadata": {},
   "outputs": [],
   "source": [
    "def getLMatrix(state):\n",
    "    \"\"\"\n",
    "    Calculate the L Matrix from noisy density operator\n",
    "    \"\"\"\n",
    "    a = state[0][0]\n",
    "    b = state[0][1]\n",
    "    c = state[1][0]\n",
    "    d = state[1][1]\n",
    "    \n",
    "    x = b+c\n",
    "    y = (b-c)*1j\n",
    "    z = 2*a - 1\n",
    "    \n",
    "    return 0.5*np.array([[1+z, x-y*1j], \n",
    "                         [x+y*1j, 1-z]])"
   ]
  },
  {
   "cell_type": "markdown",
   "id": "56045a0a-5f6d-4a15-9f53-cc7e23f43bf7",
   "metadata": {},
   "source": [
    "### Get GST Vector\n",
    "\n",
    "In the GST language, one should use the GST vector of a noisy state to perform calculation. In this case, we have\n",
    "\\begin{equation}\n",
    "|\\rho_{\\lambda}\\rangle\\rangle = \\frac{1}{2}\\begin{pmatrix}\n",
    "a+d \\\\\n",
    "b+c \\\\\n",
    "(b-c)i \\\\\n",
    "a-d \\\\\n",
    "\\end{pmatrix}\n",
    "\\end{equation}"
   ]
  },
  {
   "cell_type": "code",
   "execution_count": 9,
   "id": "885c9cf9-d0ec-425a-a3de-ad436cea7337",
   "metadata": {},
   "outputs": [],
   "source": [
    "def getGSTVector(state):\n",
    "    a = state[0][0]\n",
    "    b = state[0][1]\n",
    "    c = state[1][0]\n",
    "    d = state[1][1]\n",
    "    return 0.5*np.array([a+d, b+c, (b-c)*1j, a-d])"
   ]
  },
  {
   "cell_type": "code",
   "execution_count": 10,
   "id": "e34e7e02-49bd-437d-bf21-63ffc3760cd9",
   "metadata": {},
   "outputs": [],
   "source": [
    "def getDenOper(GSTVector):\n",
    "    a = GSTVector[0]\n",
    "    b = GSTVector[1]\n",
    "    c = GSTVector[2]\n",
    "    d = GSTVector[3]\n",
    "    return np.array([[a+d, b-c*1j], \n",
    "                     [b+c*1j, a-d]])"
   ]
  },
  {
   "cell_type": "code",
   "execution_count": 11,
   "id": "4495a4cb-4ad3-42c5-bdda-dbec8dbca4f5",
   "metadata": {},
   "outputs": [
    {
     "data": {
      "text/plain": [
       "array([[ 0.9945645+0.j, -0.0085467+0.j],\n",
       "       [-0.0269976+0.j,  0.0054355+0.j]])"
      ]
     },
     "execution_count": 11,
     "metadata": {},
     "output_type": "execute_result"
    }
   ],
   "source": [
    "getDenOper(getGSTVector(rho0))"
   ]
  },
  {
   "cell_type": "code",
   "execution_count": 13,
   "id": "64368685-e613-46f6-b878-a1b892ea57b5",
   "metadata": {},
   "outputs": [],
   "source": [
    "rho0_GST = getGSTVector(rho0)\n",
    "rho1_GST = np.matmul(Gx2, rho0_GST)\n",
    "rhop_GST = np.matmul(Gy, rho0_GST)\n",
    "rhoi_GST = np.matmul(Gx3, rho0_GST)\n",
    "\n",
    "rho1 = getDenOper(rho1_GST)\n",
    "rhop = getDenOper(rhop_GST)\n",
    "rhoi = getDenOper(rhoi_GST)"
   ]
  },
  {
   "cell_type": "markdown",
   "id": "281e136f-ba8e-4c25-a8af-6c5f6e02d5c9",
   "metadata": {},
   "source": [
    "### Gamma Matrix Estimation"
   ]
  },
  {
   "cell_type": "code",
   "execution_count": 11,
   "id": "92e7726f-07c2-4926-b05e-0109da6f87a4",
   "metadata": {},
   "outputs": [
    {
     "data": {
      "text/plain": [
       "array([0., 0., 0., 0.])"
      ]
     },
     "execution_count": 11,
     "metadata": {},
     "output_type": "execute_result"
    }
   ],
   "source": [
    "np.zeros(4)"
   ]
  },
  {
   "cell_type": "code",
   "execution_count": null,
   "id": "d5d34978-ecfb-4dae-b4ae-b77b7491bbf1",
   "metadata": {},
   "outputs": [],
   "source": [
    "gamma1 = np.array([[0.9981, 0.0063], [0.0019, 0.9937]])\n",
    "gamma2 = np.array([[0.9981, 0.0063], [0.0019, 0.9937]])\n",
    "gamma3 = np.array([[0.9977, 0.0108], [0.0023, 0.9892]])\n",
    "gamma4 = np.array([[0.9986, 0.0125], [0.0014, 0.9875]])"
   ]
  },
  {
   "cell_type": "code",
   "execution_count": null,
   "id": "e12ad31c-8acd-47bb-a58a-93e231453e43",
   "metadata": {},
   "outputs": [],
   "source": [
    "tmp1 = np.kron(gamma1, gamma2)\n",
    "tmp2 = np.kron(gamma3, gamma4)\n",
    "Gamma = np.kron(tmp1, tmp2)"
   ]
  },
  {
   "cell_type": "code",
   "execution_count": null,
   "id": "24437471-c7a7-47f4-b84b-d5b03f7b0f41",
   "metadata": {},
   "outputs": [],
   "source": [
    "Gamma"
   ]
  },
  {
   "cell_type": "code",
   "execution_count": null,
   "id": "0d9b342e-a370-4148-8b2f-f6c8dd3cd04d",
   "metadata": {},
   "outputs": [],
   "source": []
  }
 ],
 "metadata": {
  "kernelspec": {
   "display_name": "Qiskit v0.34.1 (ipykernel)",
   "language": "python",
   "name": "python3"
  },
  "language_info": {
   "codemirror_mode": {
    "name": "ipython",
    "version": 3
   },
   "file_extension": ".py",
   "mimetype": "text/x-python",
   "name": "python",
   "nbconvert_exporter": "python",
   "pygments_lexer": "ipython3",
   "version": "3.8.10"
  },
  "widgets": {
   "application/vnd.jupyter.widget-state+json": {
    "state": {},
    "version_major": 2,
    "version_minor": 0
   }
  }
 },
 "nbformat": 4,
 "nbformat_minor": 5
}
