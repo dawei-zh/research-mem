{
 "cells": [
  {
   "cell_type": "markdown",
   "id": "20ed4343-a00c-441c-ab7e-91b605f45dea",
   "metadata": {},
   "source": [
    "# Gamma Matrix Estimation\n",
    "\n",
    "In this notebook, I am going to use the pyGSTi data to estimate the response matrix for measurement process. \n",
    "\n",
    "## I. Introduction of Background Knowledge\n",
    "The $\\Gamma$ matrix here in our discussion is a kind of response matrix without the state-preparation error. In general calibration experiment, we need to prepare every possible basis state for $n$ qubits experiment, and measure the output result with different input basis state. Based on the measurement result, we can define the response matrix $A$, \n",
    "\\begin{equation}\n",
    "p_{\\rm exp} = Ap_{\\rm ideal}\n",
    "\\end{equation}\n",
    "where $p_{\\rm exp}$ and $p_{\\rm ideal}$ are the probability of each basis state from experiment and theory, respectively. The element of response matrix $A$ is given by\n",
    "\\begin{equation}\n",
    "a_{ij} = Pr(\\text{measure }i|\\text{true }j)\n",
    "\\end{equation}\n",
    "\n",
    "However, the initial state is not precisely prepared as expected, so from the final measurement we will obtain a response matrix with state-preparation error. Namely, the element of $A$ matrix is not precisely $Pr(\\text{measure }i|\\text{true }j)$. To consider the state-preparation error, Michael Geller purposes a method using gate-set tomography (GST) to estimate $Pr(\\text{measure }i|\\text{true }j)$. (see here: [Conditionally rigorous mitigation of multiqubit measurement errors](https://journals.aps.org/prl/abstract/10.1103/PhysRevLett.127.090502)). We call the response matrix estimated from GST techniques $\\Gamma$ matrix to distinguish the response matrix $A$ obtained from traditional calibration experiment. The estimation for one qubit will mainly follow the procedure below:\n",
    "\n",
    "- Perform calibration experiment\n",
    "    - Prepare $|0\\rangle$, $|1\\rangle$, $|+\\rangle$ and $|\\psi\\rangle = SH|0\\rangle$ for one qubit\n",
    "    - Get the measurement result for every qubit\n",
    "- Perform GST experiment\n",
    "- Estimate the $\\Gamma$ matrix\n",
    "    - Estimate noisy state $\\rho_0$, $\\rho_1$, $\\rho_{+}$ and $\\rho_{+i}$ via GST experiment result\n",
    "    - Estimatie $L$ matrix from noisy state and noisy $G_{x}$ and $G_{y}$ gate\n",
    "    - Estimate the $\\Gamma$ matrix via $L$ matrix\n",
    "- Perform error mitigation with $\\Gamma$ matrix\n",
    "\n",
    "In the following sections, I will provide details of the third step. Please refer to other notebook for details about the first, second and last step. "
   ]
  },
  {
   "cell_type": "code",
   "execution_count": 2,
   "id": "eb42e3c5-fc8b-47a7-930a-8497eb3fed9b",
   "metadata": {},
   "outputs": [],
   "source": [
    "# Import require package\n",
    "import numpy as np\n",
    "from qiskit import IBMQ\n",
    "# Loading your IBM Quantum account(s)\n",
    "provider = IBMQ.load_account()"
   ]
  },
  {
   "cell_type": "markdown",
   "id": "7b26560a-c054-41e1-a122-380eb9933e43",
   "metadata": {},
   "source": [
    "## II. The Procedure of $\\Gamma$ Matrix Estimation\n",
    "In this section, I will describe details of how to finish 4 steps of $\\Gamma$ matrix estimation. \n",
    "\n",
    "### A. Perform Calibration Experiment\n",
    "The calibration experiment is used to collect required data from the device to estimate the bias of measurement. Please refer to other notebook for details. \n",
    "\n",
    "### B. Perform GST Experiment\n",
    "The GST experiment is used to collect required data from the device to estimate the noisy prepared state. Please refer to other notebook for details. \n",
    "\n",
    "### C. Estimate $\\Gamma$ Matrix\n",
    "In this section, I will use the calibration and GST result to estimate the $\\Gamma$ matrix. For illustration, I will focus only on qubit 0 of quantum device ibmq\\_lima as an example. We need to prepare four single-qubit state, \n",
    "\n",
    "\\begin{equation}\n",
    "|0\\rangle = \\begin{pmatrix} 1 \\\\ 0 \\end{pmatrix}, \n",
    "|1\\rangle = \\begin{pmatrix} 0 \\\\ 1 \\end{pmatrix}, \n",
    "|+\\rangle = \\frac{1}{\\sqrt{2}}\\begin{pmatrix} 1 \\\\ 1 \\end{pmatrix},\n",
    "|\\psi\\rangle = \\frac{1}{\\sqrt{2}}\\begin{pmatrix} 1 \\\\ i \\end{pmatrix}\n",
    "\\end{equation}\n",
    " \n",
    "which correspond to the density matrix\n",
    "\\begin{equation}\n",
    "\\pi_0 = \\begin{pmatrix} 1 & 0 \\\\ 0 & 0 \\end{pmatrix}, \n",
    "|1\\rangle = \\begin{pmatrix} 0 & 0 \\\\ 0 & 1 \\end{pmatrix}, \n",
    "|+\\rangle = \\frac{1}{2}\\begin{pmatrix} 1 & 1\\\\ 1 & 1 \\end{pmatrix},\n",
    "|\\psi\\rangle = \\frac{1}{2}\\begin{pmatrix} 1 & -i\\\\ i & 1 \\end{pmatrix}\n",
    "\\end{equation}\n",
    "\n",
    "The output of prepare these four state for qubit 0 is given below. "
   ]
  },
  {
   "cell_type": "code",
   "execution_count": null,
   "id": "e373b24a-2852-4191-b340-023b7cbac863",
   "metadata": {},
   "outputs": [],
   "source": [
    "try_zero_result = {'get-zero': 505, 'get-one': 495}\n",
    "try_one_result = {'get-zero': 505, 'get-one': 495}\n",
    "try_plus_result = {'get-zero': 496, 'get-one': 504}\n",
    "try_psi_result = {'get-zero': 505, 'get-one': 495}"
   ]
  },
  {
   "cell_type": "markdown",
   "id": "b0d0e1f3-37a5-4517-87dd-64f121ab8b21",
   "metadata": {},
   "source": [
    "Due to the presence of state-preparation error, instead of preparing $\\{\\pi_0, \\pi_1, \\pi_+, \\pi_{+i}\\}$, we will prepare a set of noisy state $\\{\\rho_0, \\rho_1, \\rho_+, \\rho_{+i}\\}$. The noisy $\\rho_0$ can be directly obtained from GST experiment result, while the other three noisy state can only be estimated by noisy gate $G_{x}$ and $G_y$, with their noise-free form as\n",
    "\n",
    "\\begin{equation}\n",
    "G_{x} = \\begin{pmatrix}\n",
    "1 & 0 & 0 & 0 \\\\\n",
    "0 & 1 & 0 & 0 \\\\\n",
    "0 & 0 & 0 & -1 \\\\\n",
    "0 & 0 & 1 & 0 \\\\\n",
    "\\end{pmatrix}, G_{y} = \\begin{pmatrix}\n",
    "1 & 0 & 0 & 0 \\\\\n",
    "0 & 0 & 0 & 1 \\\\\n",
    "0 & 0 & 1 & 0 \\\\\n",
    "0 & -1 & 0 & 0 \\\\\n",
    "\\end{pmatrix}\n",
    "\\end{equation}\n",
    "\n",
    "The noisy $\\rho_0$, $G_{x}$ and $G_y$ result from GST experiment is shown below."
   ]
  },
  {
   "cell_type": "code",
   "execution_count": 2,
   "id": "1729b144-6bfe-4747-8353-2dbdd32f2d31",
   "metadata": {},
   "outputs": [],
   "source": [
    "# Noisy state rho0\n",
    "rho0 = np.array([[0.9945645, -0.0085467],\n",
    "                 [-0.0269976, 0.0054355]])\n",
    "\n",
    "# Noisy gate Gx\n",
    "Gx = np.array([[1, 0, 0, 0], \n",
    "               [0.0003134, 0.9975053, 0.0070664, 0.0061008], \n",
    "               [-0.003582, 0.0017868, -0.0002412, -0.9982639], \n",
    "               [0.0199663, -0.0008216, 0.9994638, 0.0049076]])\n",
    "\n",
    "# Noisy gate Gy\n",
    "Gy = np.array([[1, 0, 0, 0], \n",
    "               [-0.0035356, -0.0031584, 0.0092401, 0.9983456], \n",
    "               [0.0001654, 0.0035338, 0.9994461, 0.0013525], \n",
    "               [0.0113752, -0.9985736, 0.0043543, 0.0006209]])\n",
    "\n",
    "Gx2 = np.matmul(Gx, Gx)\n",
    "Gx3 = np.matmul(Gx2, Gx)"
   ]
  },
  {
   "cell_type": "markdown",
   "id": "6bba6f53-235d-4782-a338-1e972a820569",
   "metadata": {},
   "source": []
  },
  {
   "cell_type": "code",
   "execution_count": null,
   "id": "b7e859b0-7262-4053-992a-ce5af500788e",
   "metadata": {},
   "outputs": [],
   "source": []
  },
  {
   "cell_type": "markdown",
   "id": "c4b60f88-e879-4642-82c4-74394d6244a8",
   "metadata": {},
   "source": [
    "With data of noisy state and noisy gate, I will estimate the matrix $L$ below. The matrix $L$ is defined "
   ]
  },
  {
   "cell_type": "code",
   "execution_count": null,
   "id": "299c5d27-d483-445b-86b7-7266f7900f83",
   "metadata": {},
   "outputs": [],
   "source": [
    "def getLMatrix(state):\n",
    "    \"\"\"\n",
    "    Calculate the L Matrix from noisy density operator\n",
    "    \"\"\"\n",
    "    a = state[0][0]\n",
    "    b = state[0][1]\n",
    "    c = state[1][0]\n",
    "    d = state[1][1]\n",
    "    \n",
    "    x = b+c\n",
    "    y = (b-c)*1j\n",
    "    z = 2*a - 1\n",
    "    \n",
    "    return 0.5*np.array([[1+z, x-y*1j], \n",
    "                         [x+y*1j, 1-z]])"
   ]
  },
  {
   "cell_type": "markdown",
   "id": "56045a0a-5f6d-4a15-9f53-cc7e23f43bf7",
   "metadata": {},
   "source": [
    "### Get GST Vector\n",
    "\n",
    "In the GST language, one should use the GST vector of a noisy state to perform calculation. In this case, we have\n",
    "\\begin{equation}\n",
    "|\\rho_{\\lambda}\\rangle\\rangle = \\frac{1}{2}\\begin{pmatrix}\n",
    "a+d \\\\\n",
    "b+c \\\\\n",
    "(b-c)i \\\\\n",
    "a-d \\\\\n",
    "\\end{pmatrix}\n",
    "\\end{equation}"
   ]
  },
  {
   "cell_type": "code",
   "execution_count": 9,
   "id": "885c9cf9-d0ec-425a-a3de-ad436cea7337",
   "metadata": {},
   "outputs": [],
   "source": [
    "def getGSTVector(state):\n",
    "    a = state[0][0]\n",
    "    b = state[0][1]\n",
    "    c = state[1][0]\n",
    "    d = state[1][1]\n",
    "    return 0.5*np.array([a+d, b+c, (b-c)*1j, a-d])"
   ]
  },
  {
   "cell_type": "code",
   "execution_count": 10,
   "id": "e34e7e02-49bd-437d-bf21-63ffc3760cd9",
   "metadata": {},
   "outputs": [],
   "source": [
    "def getDenOper(GSTVector):\n",
    "    a = GSTVector[0]\n",
    "    b = GSTVector[1]\n",
    "    c = GSTVector[2]\n",
    "    d = GSTVector[3]\n",
    "    return np.array([[a+d, b-c*1j], \n",
    "                     [b+c*1j, a-d]])"
   ]
  },
  {
   "cell_type": "code",
   "execution_count": 11,
   "id": "4495a4cb-4ad3-42c5-bdda-dbec8dbca4f5",
   "metadata": {},
   "outputs": [
    {
     "data": {
      "text/plain": [
       "array([[ 0.9945645+0.j, -0.0085467+0.j],\n",
       "       [-0.0269976+0.j,  0.0054355+0.j]])"
      ]
     },
     "execution_count": 11,
     "metadata": {},
     "output_type": "execute_result"
    }
   ],
   "source": [
    "getDenOper(getGSTVector(rho0))"
   ]
  },
  {
   "cell_type": "code",
   "execution_count": 13,
   "id": "64368685-e613-46f6-b878-a1b892ea57b5",
   "metadata": {},
   "outputs": [],
   "source": [
    "rho0_GST = getGSTVector(rho0)\n",
    "rho1_GST = np.matmul(Gx2, rho0_GST)\n",
    "rhop_GST = np.matmul(Gy, rho0_GST)\n",
    "rhoi_GST = np.matmul(Gx3, rho0_GST)\n",
    "\n",
    "rho1 = getDenOper(rho1_GST)\n",
    "rhop = getDenOper(rhop_GST)\n",
    "rhoi = getDenOper(rhoi_GST)"
   ]
  },
  {
   "cell_type": "markdown",
   "id": "281e136f-ba8e-4c25-a8af-6c5f6e02d5c9",
   "metadata": {},
   "source": [
    "### Gamma Matrix Estimation"
   ]
  },
  {
   "cell_type": "code",
   "execution_count": 11,
   "id": "92e7726f-07c2-4926-b05e-0109da6f87a4",
   "metadata": {},
   "outputs": [
    {
     "data": {
      "text/plain": [
       "array([0., 0., 0., 0.])"
      ]
     },
     "execution_count": 11,
     "metadata": {},
     "output_type": "execute_result"
    }
   ],
   "source": [
    "np.zeros(4)"
   ]
  },
  {
   "cell_type": "code",
   "execution_count": null,
   "id": "d5d34978-ecfb-4dae-b4ae-b77b7491bbf1",
   "metadata": {},
   "outputs": [],
   "source": [
    "gamma1 = np.array([[0.9981, 0.0063], [0.0019, 0.9937]])\n",
    "gamma2 = np.array([[0.9981, 0.0063], [0.0019, 0.9937]])\n",
    "gamma3 = np.array([[0.9977, 0.0108], [0.0023, 0.9892]])\n",
    "gamma4 = np.array([[0.9986, 0.0125], [0.0014, 0.9875]])"
   ]
  },
  {
   "cell_type": "code",
   "execution_count": null,
   "id": "e12ad31c-8acd-47bb-a58a-93e231453e43",
   "metadata": {},
   "outputs": [],
   "source": [
    "tmp1 = np.kron(gamma1, gamma2)\n",
    "tmp2 = np.kron(gamma3, gamma4)\n",
    "Gamma = np.kron(tmp1, tmp2)"
   ]
  },
  {
   "cell_type": "code",
   "execution_count": null,
   "id": "24437471-c7a7-47f4-b84b-d5b03f7b0f41",
   "metadata": {},
   "outputs": [],
   "source": [
    "Gamma"
   ]
  },
  {
   "cell_type": "code",
   "execution_count": null,
   "id": "0d9b342e-a370-4148-8b2f-f6c8dd3cd04d",
   "metadata": {},
   "outputs": [],
   "source": []
  }
 ],
 "metadata": {
  "kernelspec": {
   "display_name": "Qiskit v0.34.1 (ipykernel)",
   "language": "python",
   "name": "python3"
  },
  "language_info": {
   "codemirror_mode": {
    "name": "ipython",
    "version": 3
   },
   "file_extension": ".py",
   "mimetype": "text/x-python",
   "name": "python",
   "nbconvert_exporter": "python",
   "pygments_lexer": "ipython3",
   "version": "3.8.12"
  },
  "widgets": {
   "application/vnd.jupyter.widget-state+json": {
    "state": {},
    "version_major": 2,
    "version_minor": 0
   }
  }
 },
 "nbformat": 4,
 "nbformat_minor": 5
}
