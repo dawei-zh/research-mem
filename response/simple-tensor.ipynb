{
 "cells": [
  {
   "cell_type": "markdown",
   "id": "d5814472-06a5-4bc4-bdc9-435daab7aea0",
   "metadata": {},
   "source": [
    "# Response for Tensor Noise\n",
    "\n",
    "In this notebook, I will provide a code to generate response matrix based on tensor noise model. \n",
    "\n",
    "## I. Introduction of Background Knowledge\n",
    "For simplicity, we will assume the measurement error of each qubit is independent, and the response matrix can be constructed directly from given data of the quantum device. Assume that for qubit $0$, the probability of getting $1$ when preparing $0$ is $p$, the probability of getting $0$ when preparing $1$ is $q$, the response matrix is given by\n",
    "\\begin{equation}\n",
    "A_0 = \\begin{pmatrix}\n",
    "p(\\text{measure }0|\\text{true }0) & p(\\text{measure }0|\\text{true }1)\\\\\n",
    "p(\\text{measure }1|\\text{true }0) & p(\\text{measure }1|\\text{true }1)\n",
    "\\end{pmatrix} = \n",
    "\\begin{pmatrix}\n",
    "1-p & q\\\\\n",
    "p & 1-q\n",
    "\\end{pmatrix}\n",
    "\\end{equation}\n",
    "\n",
    "The total response matrix $A$ is then given by\n",
    "\\begin{equation}\n",
    "A = A_0\\otimes A_1 \\otimes \\cdots \\otimes A_n \n",
    "= \\bigotimes_{i=0}^{n}A_i = \\bigotimes_{i=0}^{n}A_i \n",
    "\\begin{pmatrix}\n",
    "1-p_i & q_i\\\\\n",
    "p_i & 1-q_i\n",
    "\\end{pmatrix}\n",
    "\\end{equation}\n",
    "\n",
    "As an example, we can use the readout error rate for each qubit in quantum processor ibmq\\_lima to estimate the response matrix. The table with error rate is shown below. \n",
    "Note that *at least for current stage*, IBM will provide the readout error rate for each qubit as reference, and with the data it is easy to use tensor error method to get the response matrix. You can find an example provided by IBM below (edited in the afternoon on 01/06/2021). \n",
    "\n",
    "| Qubit | Prob meas0 prep1 ($q$)| Prob meas1 prep0 ($p$)|\n",
    "| :----:   | :----:  |  :----: |\n",
    "|  Q0  |   0.0396     | 0.014  |\n",
    "|  Q1  |  0.029  | 0.0086  |\n",
    "|  Q2  | 0.057      | 0.0118    |\n",
    "|  Q3  | 0.0356   | 0.0126   |\n",
    "|  Q4  | 0.0962   | 0.0128    |"
   ]
  },
  {
   "cell_type": "code",
   "execution_count": 1,
   "id": "f847ca3c-7add-4021-af66-b55e3cae974a",
   "metadata": {},
   "outputs": [],
   "source": [
    "import numpy as np\n",
    "\n",
    "p0 = 0.014\n",
    "p1 = 0.0086\n",
    "p2 = 0.0118\n",
    "p3 = 0.0126\n",
    "p4 = 0.0128\n",
    "\n",
    "q0 = 0.0396\n",
    "q1 = 0.029\n",
    "q2 = 0.057\n",
    "q3 = 0.0356\n",
    "q4 = 0.0962"
   ]
  },
  {
   "cell_type": "code",
   "execution_count": 2,
   "id": "3f98c509-e533-4512-af6c-0a6f1d52dc25",
   "metadata": {},
   "outputs": [],
   "source": [
    "qubit0 = np.array([[1-p0, q0], \n",
    "                   [p0, 1-q0]])\n",
    "\n",
    "qubit1 = np.array([[1-p1, q1], \n",
    "                   [p1, 1-q1]])\n",
    "\n",
    "qubit2 = np.array([[1-p2, q2], \n",
    "                   [p2, 1-q2]])\n",
    "\n",
    "qubit3 = np.array([[1-p3, q3], \n",
    "                   [p3, 1-q3]])\n",
    "\n",
    "qubit4 = np.array([[1-p4, q4], \n",
    "                   [p4, 1-q4]])\n",
    "\n",
    "qubit = [qubit0, qubit1, qubit2, qubit3, qubit4]"
   ]
  },
  {
   "cell_type": "code",
   "execution_count": 3,
   "id": "e26bd7f1-a233-4052-bc07-820766bf661d",
   "metadata": {},
   "outputs": [],
   "source": [
    "nqubit = 5\n",
    "for i in range(1, nqubit):\n",
    "    if i == 1:\n",
    "        matrixA = np.kron(qubit[i-1], qubit[i])\n",
    "    else:\n",
    "        matrixA = np.kron(matrixA, qubit[i])"
   ]
  },
  {
   "cell_type": "code",
   "execution_count": 4,
   "id": "acf68c2a-7894-4ee4-8310-6a7e61ea132f",
   "metadata": {},
   "outputs": [
    {
     "data": {
      "text/plain": [
       "<AxesSubplot:>"
      ]
     },
     "execution_count": 4,
     "metadata": {},
     "output_type": "execute_result"
    },
    {
     "data": {
      "image/png": "[encoded data removed]",
      "text/plain": [
       "<Figure size 720x720 with 2 Axes>"
      ]
     },
     "metadata": {},
     "output_type": "display_data"
    }
   ],
   "source": [
    "import seaborn as sns\n",
    "sns.set(rc={'axes.facecolor':'black', 'figure.facecolor':'white'})\n",
    "sns.set(rc = {'figure.figsize':(10,10)})\n",
    "sns.heatmap(\n",
    "    matrixA,\n",
    "    cmap=sns.color_palette(\"Blues\", as_cmap=True),\n",
    "    linewidths=.5,\n",
    "    #xticklabels = basis_state,\n",
    "    #yticklabels = basis_state,\n",
    "    square = True\n",
    ")"
   ]
  },
  {
   "cell_type": "code",
   "execution_count": 5,
   "id": "95037eb2-3488-4125-b156-a00b644ede1c",
   "metadata": {},
   "outputs": [],
   "source": [
    "np.savetxt('simple-tensor.txt', matrixA)"
   ]
  }
 ],
 "metadata": {
  "kernelspec": {
   "display_name": "Qiskit v0.34.1 (ipykernel)",
   "language": "python",
   "name": "python3"
  },
  "language_info": {
   "codemirror_mode": {
    "name": "ipython",
    "version": 3
   },
   "file_extension": ".py",
   "mimetype": "text/x-python",
   "name": "python",
   "nbconvert_exporter": "python",
   "pygments_lexer": "ipython3",
   "version": "3.8.12"
  },
  "widgets": {
   "application/vnd.jupyter.widget-state+json": {
    "state": {},
    "version_major": 2,
    "version_minor": 0
   }
  }
 },
 "nbformat": 4,
 "nbformat_minor": 5
}
