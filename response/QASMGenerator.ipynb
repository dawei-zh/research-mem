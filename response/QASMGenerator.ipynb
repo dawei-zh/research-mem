{
 "cells": [
  {
   "cell_type": "markdown",
   "id": "d7083eb3-f73f-42f3-872d-40f2b83f950e",
   "metadata": {},
   "source": [
    "## QASM Files Generators for Qiskit Run"
   ]
  },
  {
   "cell_type": "code",
   "execution_count": 1,
   "id": "bfa4d1e3-dac6-46a1-b3e6-d3e46bf1fe74",
   "metadata": {},
   "outputs": [],
   "source": [
    "f = open('out.txt', 'r')\n",
    "a = f.readlines()"
   ]
  },
  {
   "cell_type": "code",
   "execution_count": 2,
   "id": "4db857ef-4850-470d-aeba-1487c2e54eb6",
   "metadata": {},
   "outputs": [],
   "source": [
    "def getQASMFile(circuitString, filename, qubitNo):\n",
    "    tmpStr = circuitString.split('-')[3:-3]\n",
    "    qasmString = ['OPENQASM 2.0;\\n',\n",
    "                  'include \"qelib1.inc\";\\n', \n",
    "                  '\\n', \n",
    "                  'qreg q[5];\\n', \n",
    "                  'creg c[5];\\n', \n",
    "                  '\\n']\n",
    "    for i in range(len(tmpStr)):\n",
    "        if tmpStr[i] == '|Gxpi2|':\n",
    "            qasmString.append('u(pi/2,-pi/2,pi/2) q[' + qubitNo + '];\\n')\n",
    "        elif tmpStr[i] == '|Gypi2|':\n",
    "            qasmString.append('u(pi/2,0,0) q[' + qubitNo + '];\\n')\n",
    "        elif tmpStr[i] == '| |':\n",
    "            qasmString.append('id q[' + qubitNo + '];\\n')\n",
    "        else:\n",
    "            return 0\n",
    "    \n",
    "    qasmString.append('\\nmeasure q[' + qubitNo + '] -> c[' + qubitNo + '];')\n",
    "    f = open(filename, 'w')\n",
    "    f.writelines(qasmString)\n",
    "    f.close()\n",
    "    return 0"
   ]
  },
  {
   "cell_type": "code",
   "execution_count": 3,
   "id": "d5a0cb36-700c-4346-97a4-ca9635a7900d",
   "metadata": {},
   "outputs": [],
   "source": [
    "for j in range(5):\n",
    "    qubitNo = str(j)\n",
    "    for i in range(1, len(a)):\n",
    "        if i%2 == 0:\n",
    "            filename = './qasmfile/Qubit'+ qubitNo + '/number-'+str(i//2)\n",
    "            getQASMFile(a[i], filename, qubitNo)"
   ]
  }
 ],
 "metadata": {
  "kernelspec": {
   "display_name": "Qiskit v0.34.0 (ipykernel)",
   "language": "python",
   "name": "python3"
  },
  "language_info": {
   "codemirror_mode": {
    "name": "ipython",
    "version": 3
   },
   "file_extension": ".py",
   "mimetype": "text/x-python",
   "name": "python",
   "nbconvert_exporter": "python",
   "pygments_lexer": "ipython3",
   "version": "3.8.10"
  },
  "widgets": {
   "application/vnd.jupyter.widget-state+json": {
    "state": {},
    "version_major": 2,
    "version_minor": 0
   }
  }
 },
 "nbformat": 4,
 "nbformat_minor": 5
}
