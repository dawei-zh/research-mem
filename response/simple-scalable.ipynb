{
 "cells": [
  {
   "cell_type": "markdown",
   "id": "8bb9f5c0-f7cd-4544-95c9-b0591d66fefb",
   "metadata": {},
   "source": [
    "# Simple Scalable Method\n",
    "\n",
    "In this notebook, I will provide a code to generate scalable response matrix based on subspace reduction"
   ]
  },
  {
   "cell_type": "code",
   "execution_count": 9,
   "id": "0beb1135-5e6a-45d9-8b91-2c1d87e45b32",
   "metadata": {},
   "outputs": [],
   "source": [
    "import numpy as np"
   ]
  },
  {
   "cell_type": "code",
   "execution_count": 1,
   "id": "18906cf0-7567-4288-8dfa-65b58137bef2",
   "metadata": {},
   "outputs": [],
   "source": [
    "def HammingD(rowLabel, colLabel):\n",
    "    HammingD = 0\n",
    "    rowLabel = str(rowLabel)\n",
    "    colLabel = str(colLabel)\n",
    "    \n",
    "    if len(rowLabel) != len(colLabel):\n",
    "        return np.nan\n",
    "        \n",
    "    for i in range(len(rowLabel)):\n",
    "        if rowLabel[i] != colLabel[i]:\n",
    "            HammingD += 1\n",
    "    return HammingD"
   ]
  },
  {
   "cell_type": "code",
   "execution_count": 2,
   "id": "49f8e94e-80a6-4500-b46d-f501db14935d",
   "metadata": {},
   "outputs": [],
   "source": [
    "def get_basis_state(nqubit):\n",
    "    if nqubit <= 0:\n",
    "        print(\"nqubit should be greater than 0\")\n",
    "        return 0\n",
    "    \n",
    "    if nqubit > 1:\n",
    "        tmp1 = ['0' + i for i in get_basis_state(nqubit-1)]\n",
    "        tmp2 = ['1' + i for i in get_basis_state(nqubit-1)]\n",
    "        return tmp1 + tmp2\n",
    "    if nqubit == 1:\n",
    "        return ['0', '1']"
   ]
  },
  {
   "cell_type": "code",
   "execution_count": null,
   "id": "b58fe5a7-4849-42b8-a398-5ca6bb044b40",
   "metadata": {},
   "outputs": [],
   "source": [
    "def HammingMap(nqubit, max_distance = -1):\n",
    "    basis_state = get_basis_state(nqubit)\n",
    "    rowLabel = basis_state\n",
    "    colLabel = basis_state\n",
    "    \n",
    "    HammingMap = np.ones((len(rowLabel),len(colLabel))) * 0\n",
    "    for i in range(len(rowLabel)):\n",
    "        for j in range(len(colLabel)):\n",
    "            HammingMap[i][j] = HammingD(rowLabel[i], colLabel[j])\n",
    "    \n",
    "    if max_distance == -1:\n",
    "        return HammingMap\n",
    "    \n",
    "    for i in range(0,2**nqubit):\n",
    "        for j in range(0,2**nqubit):\n",
    "            if HammingMap[i][j] > max_distance:\n",
    "                HammingMap[i][j] = 0\n",
    "            else: \n",
    "                HammingMap[i][j] = 1\n",
    "    \n",
    "    return HammingMap"
   ]
  },
  {
   "cell_type": "code",
   "execution_count": null,
   "id": "92577f09-8f80-425a-90ab-7b8fb4c02685",
   "metadata": {},
   "outputs": [],
   "source": [
    "def scalable_response(HammingMap, response, nqubit):\n",
    "    res = HammingMap * response\n",
    "    for i in range(2**nqubit):\n",
    "        res[i] = res[i]/np.sum(res[i])\n",
    "        \n",
    "    return res"
   ]
  },
  {
   "cell_type": "code",
   "execution_count": null,
   "id": "5a9c9998-c5aa-49f6-9e6d-61682eeb1f52",
   "metadata": {},
   "outputs": [],
   "source": []
  }
 ],
 "metadata": {
  "kernelspec": {
   "display_name": "Qiskit v0.34.1 (ipykernel)",
   "language": "python",
   "name": "python3"
  },
  "language_info": {
   "codemirror_mode": {
    "name": "ipython",
    "version": 3
   },
   "file_extension": ".py",
   "mimetype": "text/x-python",
   "name": "python",
   "nbconvert_exporter": "python",
   "pygments_lexer": "ipython3",
   "version": "3.8.12"
  },
  "widgets": {
   "application/vnd.jupyter.widget-state+json": {
    "state": {},
    "version_major": 2,
    "version_minor": 0
   }
  }
 },
 "nbformat": 4,
 "nbformat_minor": 5
}
