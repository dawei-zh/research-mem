{
 "cells": [
  {
   "cell_type": "markdown",
   "id": "8bb9f5c0-f7cd-4544-95c9-b0591d66fefb",
   "metadata": {},
   "source": [
    "# Simple Scalable Method\n",
    "\n",
    "In this notebook, I will provide a code to generate scalable response matrix based on subspace reduction"
   ]
  },
  {
   "cell_type": "code",
   "execution_count": null,
   "id": "18906cf0-7567-4288-8dfa-65b58137bef2",
   "metadata": {},
   "outputs": [],
   "source": [
    "def HammingD(rowLabel, colLabel):\n",
    "    HammingD = 0\n",
    "    rowLabel = str(rowLabel)\n",
    "    colLabel = str(colLabel)\n",
    "    \n",
    "    if len(rowLabel) != len(colLabel):\n",
    "        return np.nan\n",
    "        \n",
    "    for i in range(len(rowLabel)):\n",
    "        if rowLabel[i] != colLabel[i]:\n",
    "            HammingD += 1\n",
    "    return HammingD"
   ]
  },
  {
   "cell_type": "code",
   "execution_count": null,
   "id": "5a9c9998-c5aa-49f6-9e6d-61682eeb1f52",
   "metadata": {},
   "outputs": [],
   "source": [
    "for i in range(16):\n",
    "    resMatrix1[i] = resMatrix1[i]/np.sum(resMatrix1[i])"
   ]
  }
 ],
 "metadata": {
  "kernelspec": {
   "display_name": "Qiskit v0.34.1 (ipykernel)",
   "language": "python",
   "name": "python3"
  },
  "language_info": {
   "codemirror_mode": {
    "name": "ipython",
    "version": 3
   },
   "file_extension": ".py",
   "mimetype": "text/x-python",
   "name": "python",
   "nbconvert_exporter": "python",
   "pygments_lexer": "ipython3",
   "version": "3.8.12"
  },
  "widgets": {
   "application/vnd.jupyter.widget-state+json": {
    "state": {},
    "version_major": 2,
    "version_minor": 0
   }
  }
 },
 "nbformat": 4,
 "nbformat_minor": 5
}
