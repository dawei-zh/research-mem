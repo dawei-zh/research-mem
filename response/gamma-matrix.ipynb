{
 "cells": [
  {
   "cell_type": "markdown",
   "id": "20ed4343-a00c-441c-ab7e-91b605f45dea",
   "metadata": {},
   "source": [
    "# Gamma Matrix Estimation\n",
    "\n",
    "In this notebook, I am going to use the pyGSTi data to estimate the response matrix for measurement process. \n",
    "\n",
    "## I. Introduction of Background Knowledge\n",
    "The $\\Gamma$ matrix here in our discussion is a kind of response matrix without the state-preparation error. In general calibration experiment, we need to prepare every possible basis state for $n$ qubits experiment, and measure the output result with different input basis state. Based on the measurement result, we can define the response matrix $A$, \n",
    "\\begin{equation}\n",
    "p_{\\rm exp} = Ap_{\\rm ideal}\n",
    "\\end{equation}\n",
    "where $p_{\\rm exp}$ and $p_{\\rm ideal}$ are the probability of each basis state from experiment and theory, respectively. The element of response matrix $A$ is given by\n",
    "\\begin{equation}\n",
    "a_{ij} = Pr(\\text{measure }i|\\text{true }j)\n",
    "\\end{equation}\n",
    "\n",
    "However, the initial state is not precisely prepared as expected, so from the final measurement we will obtain a response matrix with state-preparation error. Namely, the element of $A$ matrix is not precisely $Pr(\\text{measure }i|\\text{true }j)$. To consider the state-preparation error, Michael Geller purposes a method using gate-set tomography (GST) to estimate $Pr(\\text{measure }i|\\text{true }j)$. (see here: [Conditionally rigorous mitigation of multiqubit measurement errors](https://journals.aps.org/prl/abstract/10.1103/PhysRevLett.127.090502)). We call the response matrix estimated from GST techniques $\\Gamma$ matrix to distinguish the response matrix $A$ obtained from traditional calibration experiment. The estimation for one qubit will mainly follow the procedure below:\n",
    "\n",
    "- Perform calibration experiment\n",
    "    - Prepare $|0\\rangle$, $|1\\rangle$, $|+\\rangle$ and $|\\psi\\rangle = SH|0\\rangle$ for one qubit\n",
    "    - Get the measurement result for every qubit\n",
    "- Perform GST experiment\n",
    "- Estimate the $\\Gamma$ matrix\n",
    "    - Estimate noisy state $\\rho_0$, $\\rho_1$, $\\rho_{+}$ and $\\rho_{+i}$ via GST experiment result\n",
    "    - Estimatie $L$ matrix from noisy state and noisy $G_{x}$ and $G_{y}$ gate\n",
    "    - Estimate the $\\Gamma$ matrix via $L$ matrix\n",
    "\n",
    "In the following sections, I will provide details of the third step. Please refer to other notebook for details about the first, second and last step. "
   ]
  },
  {
   "cell_type": "code",
   "execution_count": 1,
   "id": "eb42e3c5-fc8b-47a7-930a-8497eb3fed9b",
   "metadata": {},
   "outputs": [],
   "source": [
    "# Import require package\n",
    "import numpy as np\n",
    "from qiskit import IBMQ\n",
    "# Loading your IBM Quantum account(s)\n",
    "provider = IBMQ.load_account()"
   ]
  },
  {
   "cell_type": "markdown",
   "id": "7b26560a-c054-41e1-a122-380eb9933e43",
   "metadata": {},
   "source": [
    "## II. The Procedure of $\\Gamma$ Matrix Estimation\n",
    "In this section, I will describe details of how to finish 4 steps of $\\Gamma$ matrix estimation. \n",
    "\n",
    "### A. Perform Calibration Experiment\n",
    "The calibration experiment is used to collect required data from the device to estimate the bias of measurement. Rather than only measure the output of initial state $|0\\rangle$ and $|1\\rangle$, here we need to get the result for the following four single-qubit state, \n",
    "\n",
    "\\begin{equation}\n",
    "|0\\rangle = \\begin{pmatrix} 1 \\\\ 0 \\end{pmatrix}, \n",
    "|1\\rangle = \\begin{pmatrix} 0 \\\\ 1 \\end{pmatrix}, \n",
    "|+\\rangle = \\frac{1}{\\sqrt{2}}\\begin{pmatrix} 1 \\\\ 1 \\end{pmatrix},\n",
    "|\\psi\\rangle = \\frac{1}{\\sqrt{2}}\\begin{pmatrix} 1 \\\\ i \\end{pmatrix}\n",
    "\\end{equation}\n",
    "\n",
    "The output of prepare these four state for qubit 0 is given below, and the application of calibration result is in SectionII.C.3. Note that both state-preparation error and readout error are included in the result. For details about how to construct the calibration experiment, please refer to other notebook "
   ]
  },
  {
   "cell_type": "code",
   "execution_count": 2,
   "id": "e373b24a-2852-4191-b340-023b7cbac863",
   "metadata": {},
   "outputs": [],
   "source": [
    "# Calibration result\n",
    "try_zero_result = {'get-zero': 994, 'get-one': 6}\n",
    "try_one_result = {'get-zero': 34, 'get-one': 966}\n",
    "try_plus_result = {'get-zero': 496, 'get-one': 504}\n",
    "try_psi_result = {'get-zero': 505, 'get-one': 495}"
   ]
  },
  {
   "cell_type": "markdown",
   "id": "5cc0ff6a-f455-4c1e-9f98-cf88e8a9bf00",
   "metadata": {},
   "source": [
    "\\begin{equation}\n",
    "(L^{-1})_{00}{\\rm tr}\\left(E_{0}\\rho_{0}\\right) + (L^{-1})_{01}{\\rm tr}\\left(E_{0} \\rho_{1}\\right) + (L^{-1})_{0+}{\\rm tr}\\left(E_{0}\\rho_{+}\\right) + (L^{-1})_{0(+i)} {\\rm tr}\\left( E_{0}\\rho_{(+i)} \\right)\n",
    "\\end{equation}"
   ]
  },
  {
   "cell_type": "code",
   "execution_count": 3,
   "id": "370f0e83-752f-4a57-922f-13716ec25eb0",
   "metadata": {},
   "outputs": [],
   "source": [
    "# Calibration\n",
    "def getCaliResult(try_result, shot = 1000):\n",
    "    try_zero_result = try_result[0]\n",
    "    try_one_result = try_result[1]\n",
    "    try_plus_result = try_result[2]\n",
    "    try_psi_result = try_result[3]\n",
    "    \n",
    "    getZero = np.array([try_zero_result['get-zero']/shot, try_one_result['get-zero']/shot, \n",
    "                   try_plus_result['get-zero']/shot, try_psi_result['get-zero']/shot])\n",
    "    getOne = np.array([try_zero_result['get-one']/shot, try_one_result['get-one']/shot, \n",
    "                  try_plus_result['get-one']/shot, try_psi_result['get-one']/shot])\n",
    "    \n",
    "    return [getZero, getOne]\n",
    "\n",
    "getZero, getOne = getCaliResult([try_zero_result, try_one_result, try_plus_result,try_psi_result])"
   ]
  },
  {
   "cell_type": "markdown",
   "id": "cd67e8a3-8c13-4f1f-905c-ba0885d0ae51",
   "metadata": {},
   "source": [
    "### B. Perform GST Experiment\n",
    "The GST experiment is used to collect required data from the device to estimate the noisy prepared state. Please refer to other notebook for details. \n",
    "\n",
    "### C. Estimate $\\Gamma$ Matrix\n",
    "In this section, I will use the calibration and GST result to estimate the $\\Gamma$ matrix. For illustration, I will focus only on qubit 0 of quantum device ibmq\\_lima as an example. \n",
    "\n",
    "#### 1. Estimate Noisy State\n",
    "In this section I will provide details on how to get the noisy state $\\{\\rho_0, \\rho_1, \\rho_+, \\rho_{+i}\\}$ for further calculation. Here I summarize three steps below to avoid confusion, \n",
    "\n",
    "* **Step 1**: Calculate $|\\rho_0\\rangle\\rangle$\n",
    "* **Step 2**: Use $|\\rho_0\\rangle\\rangle$ and noisy gate $G_x$ and $G_y$ to get $|\\rho_1\\rangle\\rangle$, $|\\rho_+\\rangle\\rangle$ and $|\\rho_{+i}\\rangle\\rangle$\n",
    "* **Step 3**: Get noisy state $\\rho_{1}, \\rho_{+}, \\rho_{+i}$ from $|\\rho_1\\rangle\\rangle$, $|\\rho_+\\rangle\\rangle$ and $|\\rho_{+i}\\rangle\\rangle$\n",
    "\n",
    "Now let's begin our estimation of noisy state with state-preparation error. As in Section II.A, we need to prepare four single-qubit state $|0\\rangle, |1\\rangle, |+\\rangle, |\\psi\\rangle$, which correspond to the density matrix\n",
    "\\begin{equation}\n",
    "\\pi_0 = \\begin{pmatrix} 1 & 0 \\\\ 0 & 0 \\end{pmatrix}, \n",
    "\\pi_1 = \\begin{pmatrix} 0 & 0 \\\\ 0 & 1 \\end{pmatrix}, \n",
    "\\pi_{+} = \\frac{1}{2}\\begin{pmatrix} 1 & 1\\\\ 1 & 1 \\end{pmatrix},\n",
    "\\pi_{+1} = \\frac{1}{2}\\begin{pmatrix} 1 & -i\\\\ i & 1 \\end{pmatrix}\n",
    "\\end{equation}\n",
    "\n",
    "Due to the presence of state-preparation error, instead of preparing $\\{\\pi_0, \\pi_1, \\pi_+, \\pi_{+i}\\}$, we will prepare a set of noisy state $\\{\\rho_0, \\rho_1, \\rho_+, \\rho_{+i}\\}$. The noisy $\\rho_0$ can be directly obtained from GST experiment result, while the other three noisy state can only be estimated by noisy gate $G_{x}$ and $G_y$, with their noise-free form as\n",
    "\n",
    "\\begin{equation}\n",
    "G_{x} = \\begin{pmatrix}\n",
    "1 & 0 & 0 & 0 \\\\\n",
    "0 & 1 & 0 & 0 \\\\\n",
    "0 & 0 & 0 & -1 \\\\\n",
    "0 & 0 & 1 & 0 \\\\\n",
    "\\end{pmatrix}, G_{y} = \\begin{pmatrix}\n",
    "1 & 0 & 0 & 0 \\\\\n",
    "0 & 0 & 0 & 1 \\\\\n",
    "0 & 0 & 1 & 0 \\\\\n",
    "0 & -1 & 0 & 0 \\\\\n",
    "\\end{pmatrix}\n",
    "\\end{equation}\n",
    "\n",
    "The noisy $\\rho_0$, $G_{x}$ and $G_y$ result from GST experiment is shown below. Note that the result here will only include the state-preparation error. "
   ]
  },
  {
   "cell_type": "code",
   "execution_count": 4,
   "id": "1729b144-6bfe-4747-8353-2dbdd32f2d31",
   "metadata": {},
   "outputs": [],
   "source": [
    "# Noisy state rho0\n",
    "rho0 = np.array([[0.9945645, -0.0085467],\n",
    "                 [-0.0269976, 0.0054355]])\n",
    "\n",
    "# Noisy gate Gx\n",
    "Gx = np.array([[1, 0, 0, 0], \n",
    "               [0.0003134, 0.9975053, 0.0070664, 0.0061008], \n",
    "               [-0.003582, 0.0017868, -0.0002412, -0.9982639], \n",
    "               [0.0199663, -0.0008216, 0.9994638, 0.0049076]])\n",
    "\n",
    "# Noisy gate Gy\n",
    "Gy = np.array([[1, 0, 0, 0], \n",
    "               [-0.0035356, -0.0031584, 0.0092401, 0.9983456], \n",
    "               [0.0001654, 0.0035338, 0.9994461, 0.0013525], \n",
    "               [0.0113752, -0.9985736, 0.0043543, 0.0006209]])"
   ]
  },
  {
   "cell_type": "markdown",
   "id": "6bba6f53-235d-4782-a338-1e972a820569",
   "metadata": {},
   "source": [
    "To continue our calculation, we need to introduce a special kind of vector, $|\\rho_{\\lambda}\\rangle\\rangle$, which is used in GST analysis. For an arbitrary state $\\rho$,\n",
    "\\begin{equation}\n",
    "\\rho = \\begin{pmatrix}\n",
    "a & b \\\\ c & d\n",
    "\\end{pmatrix}\n",
    "\\end{equation}\n",
    "\n",
    "its corresponding GST vector $|\\rho_{\\lambda}\\rangle\\rangle$ is defined via the Pauli basis, \n",
    "\n",
    "\\begin{equation}\n",
    "|\\rho_{\\lambda}\\rangle\\rangle_{\\sigma} = \\frac{{\\rm tr}(\\rho_{\\lambda} \\sigma)}{2} \\iff \n",
    "\\begin{cases}\n",
    "|\\rho_{\\lambda}\\rangle\\rangle_{I} = {\\rm tr}(\\rho_{\\lambda}I)/2 \\\\\n",
    "|\\rho_{\\lambda}\\rangle\\rangle_{X} = {\\rm tr}(\\rho_{\\lambda}X)/2 \\\\\n",
    "|\\rho_{\\lambda}\\rangle\\rangle_{Y} = {\\rm tr}(\\rho_{\\lambda}Y)/2 \\\\\n",
    "|\\rho_{\\lambda}\\rangle\\rangle_{Z} = {\\rm tr}(\\rho_{\\lambda}Z)/2 \\\\\n",
    "\\end{cases}\n",
    "\\end{equation}we can calculate the four components of $|\\rho_{\\lambda}\\rangle\\rangle$ from\n",
    "\n",
    "\\begin{equation}\n",
    "\\rho_{\\lambda}I = \\begin{pmatrix}\n",
    "a & b \\\\ c & d\n",
    "\\end{pmatrix}\\begin{pmatrix}\n",
    "1 & 0 \\\\ 0 & 1\n",
    "\\end{pmatrix} = \\begin{pmatrix}\n",
    "a & b \\\\ c & d\n",
    "\\end{pmatrix}, \n",
    "\\rho_{\\lambda}X = \\begin{pmatrix}\n",
    "a & b \\\\ c & d\n",
    "\\end{pmatrix}\\begin{pmatrix}\n",
    "0 & 1 \\\\ 1 & 0\n",
    "\\end{pmatrix} = \\begin{pmatrix}\n",
    "b & a  \\\\ d & c\n",
    "\\end{pmatrix}\\\\\n",
    "\\rho_{\\lambda}Y = \\begin{pmatrix}\n",
    "a & b \\\\ c & d\n",
    "\\end{pmatrix}\\begin{pmatrix}\n",
    "0 & -i \\\\ i & 0\n",
    "\\end{pmatrix} = \\begin{pmatrix}\n",
    "bi & -ai  \\\\ di & -ci\n",
    "\\end{pmatrix}, \n",
    "\\rho_{\\lambda}Z = \\begin{pmatrix}\n",
    "a & b \\\\ c & d\n",
    "\\end{pmatrix}\\begin{pmatrix}\n",
    "1 & 0 \\\\ 0 & -1\n",
    "\\end{pmatrix} = \\begin{pmatrix}\n",
    "a & -b \\\\ c & -d\n",
    "\\end{pmatrix}\n",
    "\\end{equation}\n",
    "\n",
    "Therefore, $|\\rho_{\\lambda}\\rangle\\rangle$ is given by\n",
    "\n",
    "\\begin{equation}\n",
    "|\\rho_{\\lambda}\\rangle\\rangle = \\frac{1}{2}\\begin{pmatrix}\n",
    "a+d \\\\\n",
    "b+c \\\\\n",
    "(b-c)i \\\\\n",
    "a-d \\\\\n",
    "\\end{pmatrix}\n",
    "\\end{equation}\n",
    "\n",
    "Below I define a function `getGSTVector` to get $|\\rho_{\\lambda}\\rangle\\rangle$ from given $\\rho_{\\lambda}$. Note that `getGSTVector` is only for getting $|\\rho_0\\rangle\\rangle$ from $\\rho_0$, and this is our **Step 1**. "
   ]
  },
  {
   "cell_type": "code",
   "execution_count": 5,
   "id": "57b4541c-4c8c-45e0-852f-5e63f669594d",
   "metadata": {},
   "outputs": [],
   "source": [
    "# Step 1\n",
    "def getGSTVector(state):\n",
    "    '''\n",
    "    Define the function to calculate |rho>> from density matrix rho\n",
    "    '''\n",
    "    a = state[0][0]\n",
    "    b = state[0][1]\n",
    "    c = state[1][0]\n",
    "    d = state[1][1]\n",
    "    return 0.5*np.array([a+d, b+c, (b-c)*1j, a-d])\n",
    "\n",
    "# Calculate |rho_0>>\n",
    "rho0_GST = getGSTVector(rho0)"
   ]
  },
  {
   "cell_type": "markdown",
   "id": "cb24c68e-eeb1-42fb-8786-b219b85555db",
   "metadata": {},
   "source": [
    "After getting $|\\rho_0\\rangle\\rangle$, we can get the other three noisy states by following ways, \n",
    "\n",
    "\\begin{align}\n",
    "|\\rho_{1}\\rangle\\rangle = G_{x}^{2} |\\rho_{0}\\rangle\\rangle  \\\\\n",
    "|\\rho_{+}\\rangle\\rangle = G_{y} |\\rho_{0}\\rangle\\rangle \\\\\n",
    "|\\rho_{+i}\\rangle\\rangle = G_{x}^{3} |\\rho_{0}\\rangle\\rangle  \\\\\n",
    "\\end{align}\n",
    "\n",
    "and this is our **Step 2**. "
   ]
  },
  {
   "cell_type": "code",
   "execution_count": 6,
   "id": "00faba99-471f-443c-88f3-7f5bfb8cea55",
   "metadata": {},
   "outputs": [],
   "source": [
    "# Step 2\n",
    "Gx2 = np.matmul(Gx, Gx)\n",
    "Gx3 = np.matmul(Gx2, Gx)\n",
    "\n",
    "rho1_GST = np.matmul(Gx2, rho0_GST)\n",
    "rhop_GST = np.matmul(Gy, rho0_GST)\n",
    "rhoi_GST = np.matmul(Gx3, rho0_GST)"
   ]
  },
  {
   "cell_type": "markdown",
   "id": "746bac48-b66f-472d-896d-d516717b7d35",
   "metadata": {},
   "source": [
    "After getting $|\\rho_{1}\\rangle\\rangle, |\\rho_{+}\\rangle\\rangle, |\\rho_{+i}\\rangle\\rangle$, we can convert the GST vector into density matrix, and this is our **Step 3**. Since for a arbitrary density matrix $\\rho_{\\lambda}$, $|\\rho_{\\lambda}\\rangle\\rangle$ is given by\n",
    "\n",
    "\\begin{equation}\n",
    "|\\rho_{\\lambda}\\rangle\\rangle = \\begin{pmatrix}\n",
    "|\\rho_{\\lambda}\\rangle\\rangle_{I} \\\\\n",
    "|\\rho_{\\lambda}\\rangle\\rangle_{X} \\\\\n",
    "|\\rho_{\\lambda}\\rangle\\rangle_{Y} \\\\\n",
    "|\\rho_{\\lambda}\\rangle\\rangle_{Z} \\\\\n",
    "\\end{pmatrix} =\n",
    "\\frac{1}{2}\\begin{pmatrix}\n",
    "a+d \\\\\n",
    "b+c \\\\\n",
    "(b-c)i \\\\\n",
    "a-d \\\\\n",
    "\\end{pmatrix}\n",
    "\\end{equation}\n",
    "\n",
    "We can solve the equation and get\n",
    "\n",
    "\\begin{align}\n",
    "a &= |\\rho_{\\lambda}\\rangle\\rangle_I + |\\rho_{\\lambda}\\rangle\\rangle_Z \\\\\n",
    "b &= |\\rho_{\\lambda}\\rangle\\rangle_X - i|\\rho_{\\lambda}\\rangle\\rangle_Y\\\\\n",
    "c &= |\\rho_{\\lambda}\\rangle\\rangle_X + i|\\rho_{\\lambda}\\rangle\\rangle_Y\\\\\n",
    "d &= |\\rho_{\\lambda}\\rangle\\rangle_I - |\\rho_{\\lambda}\\rangle\\rangle_Z\n",
    "\\end{align}\n",
    "\n",
    "Below I define a function `getDenOper` to get $\\rho_{\\lambda}$ from given $\\rho_{\\lambda}$. "
   ]
  },
  {
   "cell_type": "code",
   "execution_count": 7,
   "id": "22f524c6-2acb-4461-8b10-81494994377e",
   "metadata": {},
   "outputs": [],
   "source": [
    "def getDenOper(GSTVector):\n",
    "    rhoI = GSTVector[0]\n",
    "    rhoX = GSTVector[1]\n",
    "    rhoY = GSTVector[2]\n",
    "    rhoZ = GSTVector[3]\n",
    "    return np.array([[rhoI+rhoZ, rhoX-rhoY*1j], \n",
    "                     [rhoX+rhoY*1j, rhoI-rhoZ]])"
   ]
  },
  {
   "cell_type": "code",
   "execution_count": 8,
   "id": "469077df-87d6-4c5f-a1b5-528ab28435ac",
   "metadata": {},
   "outputs": [],
   "source": [
    "rho1 = getDenOper(rho1_GST)\n",
    "rhop = getDenOper(rhop_GST)\n",
    "rhoi = getDenOper(rhoi_GST)"
   ]
  },
  {
   "cell_type": "markdown",
   "id": "a0e41c21-1b01-4005-b718-94c06199d3dc",
   "metadata": {},
   "source": [
    "#### 2. Estimate $L$ Matrix\n",
    "\n",
    "We can estimate the $L$ matrix with all required noisy state $\\rho_{0}, \\rho_{1}, \\rho{+}, \\rho_{+i}$. The $L$ matrix is defined by\n",
    "\n",
    "\\begin{align}\n",
    "\\rho_{\\lambda} &= \\sum_{\\lambda' \\in \\{0, 1, +, +i\\}}L_{\\lambda\\lambda'}\\pi_{\\lambda'}\\\\\n",
    "&= L_{\\lambda0}\\pi_{0} + L_{\\lambda1}\\pi_{1} \n",
    "+ L_{\\lambda+}\\pi_{+} + L_{\\lambda(+i)}\\pi_{+i}\n",
    "\\end{align}\n",
    "\n",
    "According to the paper, any single-qubit state $\\rho$ can be written as a unique combination of $\\{\\pi_0, \\pi_1, \\pi_+, \\pi_{+i}\\}$ with Bloch vector $\\vec{r} = (x,y,z)$. For an arbitrary state, we can re-write its density matrix with the Bloch vector,\n",
    "\n",
    "\\begin{equation}\n",
    "\\rho = \\begin{pmatrix}\n",
    "a & b \\\\ c & d\n",
    "\\end{pmatrix} = \\frac{1}{2}\\begin{pmatrix}\n",
    "1+z & x-iy \\\\ x+iy & 1-z\n",
    "\\end{pmatrix}\n",
    "\\end{equation}\n",
    "Equivalently, the elements of Bloch vector is given by\n",
    "\\begin{equation}\n",
    "x = b+c, \\,y=(b-c)i,\\, z = 2a-1 = 1-2d, \\,x,y,z\\in\\mathbb{R}\n",
    "\\end{equation}\n",
    "\n",
    "Since a noisy state can be written in the form, \n",
    "\\begin{equation}\n",
    "\\rho_{\\lambda} = \\left(\\frac{1-x-y+z}{2}\\right)\\pi_0 + \\left(\\frac{1-x-y-z}{2}\\right)\\pi_1 \n",
    "+ x\\pi_{+} + y\\pi_{+i}\n",
    "\\end{equation}\n",
    "We can conclude that the elements of $L$ matrix are then given by\n",
    "\n",
    "\\begin{equation}\n",
    "L_{\\lambda0}= \\frac{1-x-y+z}{2}, L_{\\lambda1} = \\frac{1-x-y-z}{2}, L_{\\lambda+} = x, L_{\\lambda(+i)}=y\n",
    "\\end{equation}\n",
    "\n",
    "Below I define a function `getLMatrix` to get $L$ from given noisy state $\\rho_{\\lambda}$. "
   ]
  },
  {
   "cell_type": "code",
   "execution_count": 9,
   "id": "b7e859b0-7262-4053-992a-ce5af500788e",
   "metadata": {},
   "outputs": [],
   "source": [
    "def getLMatrix(noisy_state):\n",
    "    \"\"\"\n",
    "    Calculate the L Matrix from 4 noisy density operator\n",
    "    \"\"\"\n",
    "    if len(noisy_state) != 4:\n",
    "        return np.nan\n",
    "    \n",
    "    L = np.ones((4, 4))\n",
    "    for i in range(len(noisy_state)):\n",
    "        state = noisy_state[i]\n",
    "        a = state[0][0]\n",
    "        b = state[0][1]\n",
    "        c = state[1][0]\n",
    "        d = state[1][1]\n",
    "        \n",
    "        x = b+c\n",
    "        y = (b-c)*1j\n",
    "        z = 2*a - 1\n",
    "        \n",
    "        L[i] = np.array([0.5*(1-x-y+z), 0.5*(1-x-y-z), x, y])\n",
    "    \n",
    "    return L"
   ]
  },
  {
   "cell_type": "code",
   "execution_count": 10,
   "id": "8beb2e54-8482-4cdb-9e74-484521bb44e8",
   "metadata": {},
   "outputs": [
    {
     "name": "stderr",
     "output_type": "stream",
     "text": [
      "/tmp/ipykernel_351/1217648530.py:20: ComplexWarning: Casting complex values to real discards the imaginary part\n",
      "  L[i] = np.array([0.5*(1-x-y+z), 0.5*(1-x-y-z), x, y])\n"
     ]
    },
    {
     "data": {
      "text/plain": [
       "array([[ 1.01233665,  0.02320765, -0.0355443 ,  0.        ],\n",
       "       [ 0.0466806 ,  1.01709431, -0.03557334, -0.02820158],\n",
       "       [ 0.03101806, -0.01646489,  0.98406925,  0.00137759],\n",
       "       [ 0.03162361,  0.04457695, -0.04129078,  0.96509022]])"
      ]
     },
     "execution_count": 10,
     "metadata": {},
     "output_type": "execute_result"
    }
   ],
   "source": [
    "matrixL = getLMatrix([rho0, rho1, rhop, rhoi])\n",
    "matrixL"
   ]
  },
  {
   "cell_type": "markdown",
   "id": "c4b60f88-e879-4642-82c4-74394d6244a8",
   "metadata": {
    "tags": []
   },
   "source": [
    "#### 3. Estimate $\\Gamma$ Matrix\n",
    "\n",
    "With all preparation, we can calculate $\\Gamma$ matrix from $L$ matrix and calibration result. For a single qubit, the $\\Gamma$ matrix is given by \n",
    "\n",
    "\\begin{equation}\n",
    "\\Gamma = \\begin{pmatrix}\n",
    "Pr(\\text{measure }0|\\text{true }0) & Pr(\\text{measure }0|\\text{true }1) \\\\\n",
    "Pr(\\text{measure }1|\\text{true }0) & Pr(\\text{measure }1|\\text{true }1)\n",
    "\\end{pmatrix}\n",
    "\\end{equation}\n",
    "where each element does not have state-preparation noise and is the result of noisy POVM measurement. Thus, the probability above can be estimated by\n",
    "\\begin{align}\n",
    "\\Gamma_{11} = Pr(\\text{measure }0|\\text{true }0) = {\\rm tr}(E_{0}|0\\rangle\\langle 0|) \\\\\n",
    "\\Gamma_{12} = Pr(\\text{measure }0|\\text{true }1) = {\\rm tr}(E_{0}|1\\rangle\\langle 1|) \\\\\n",
    "\\Gamma_{21} = Pr(\\text{measure }1|\\text{true }0) = {\\rm tr}(E_{1}|0\\rangle\\langle 0|) \\\\\n",
    "\\Gamma_{22} = Pr(\\text{measure }1|\\text{true }1) = {\\rm tr}(E_{1}|1\\rangle\\langle 1|) \n",
    "\\end{align}\n",
    "where $E_0$ is the noisy measurement of POVM operator $|0\\rangle\\langle 0|$, and $E_1$ is the noisy measurement of POVM operator $|1\\rangle\\langle 1|$.\n",
    "\n",
    "Note that \n",
    "\\begin{align}\n",
    "\\pi_{\\lambda} &= \\sum_{\\lambda' \\in \\{0, 1, +, +i\\}}(L^{-1})_{\\lambda\\lambda'}\\rho_{\\lambda'}\\\\\n",
    "&= (L^{-1})_{\\lambda0}\\rho_{0} + (L^{-1})_{\\lambda1}\\rho_{1} \n",
    "+ (L^{-1})_{\\lambda+}\\rho_{+} + (L^{-1})_{\\lambda(+i)}\\rho_{+i}\n",
    "\\end{align}\n",
    "and $\\pi_0 = |0\\rangle\\langle 0|$, the element $\\Gamma_11$ matrix is given by\n",
    "\\begin{align}\n",
    "\\Gamma_{11} &= {\\rm tr}(E_{0}|0\\rangle\\langle 0|) \\\\\n",
    "            &= {\\rm tr}\\left(E_{0} \\sum_{\\lambda' \\in \\{0, 1, +, +i\\}}(L^{-1})_{\\lambda\\lambda'}\\rho_{\\lambda'}\\right)\\\\\n",
    "            &= {\\rm tr}\\left\\{E_{0} \\left[(L^{-1})_{00}\\rho_{0} + (L^{-1})_{01}\\rho_{1} + (L^{-1})_{0+}\\rho_{+} + (L^{-1})_{0(+i)}\\rho_{(+i)}\\right]\\right\\} \\\\\n",
    "            &= {\\rm tr}\\left[E_{0} (L^{-1})_{00}\\rho_{0}\\right] + {\\rm tr}\\left[E_{0} (L^{-1})_{01}\\rho_{1}\\right] + {\\rm tr}\\left[E_{0} (L^{-1})_{0+}\\rho_{+}\\right] + {\\rm tr}\\left[E_{0} (L^{-1})_{0(+1)}\\rho_{(+1)}\\right] \\\\\n",
    "            &= (L^{-1})_{00}{\\rm tr}\\left(E_{0}\\rho_{0}\\right) + (L^{-1})_{01}{\\rm tr}\\left(E_{0} \\rho_{1}\\right) + (L^{-1})_{0+}{\\rm tr}\\left(E_{0}\\rho_{+}\\right) + (L^{-1})_{0(+i)} {\\rm tr}\\left( E_{0}\\rho_{(+i)} \\right)\\\\\n",
    "\\end{align}\n",
    "where $L^{-1}$ can be estimated from inverse of $L$ matrix, and ${\\rm tr}(E_0\\rho_{\\lambda})$ is estimated from the calibration experiment, \n",
    "\n",
    "* ${\\rm tr}\\left(E_{0}\\rho_{0}\\right)$ is the measurement of $0$ for noisy state $\\rho_0$ (try to prepare $|0\\rangle$)\n",
    "* ${\\rm tr}\\left(E_{0}\\rho_{1}\\right)$ is the measurement of $0$ for noisy state $\\rho_1$ (try to prepare $|1\\rangle$)\n",
    "* ${\\rm tr}\\left(E_{0}\\rho_{+}\\right)$ is the measurement of $0$ for noisy state $\\rho_{+}$ (try to prepare $|+\\rangle$)\n",
    "* ${\\rm tr}\\left(E_{0}\\rho_{+i}\\right)$ is the measurement of $0$ for noisy state $\\rho_{+i}$ (try to prepare $|\\psi\\rangle$)\n",
    "\n",
    "Similarly, the other three elements can be calculated by\n",
    "\\begin{align}\n",
    "\\Gamma_{12} &= {\\rm tr}(E_{0}|1\\rangle\\langle 1|) = (L^{-1})_{10}{\\rm tr}\\left(E_{0}\\rho_{0}\\right) + (L^{-1})_{11}{\\rm tr}\\left(E_{0} \\rho_{1}\\right) + (L^{-1})_{1+}{\\rm tr}\\left(E_{0}\\rho_{+}\\right) + (L^{-1})_{1(+i)} {\\rm tr}\\left( E_{0}\\rho_{(+i)} \\right)\\\\\n",
    "\\Gamma_{21} &= {\\rm tr}(E_{1}|0\\rangle\\langle 0|) = (L^{-1})_{00}{\\rm tr}\\left(E_{1}\\rho_{0}\\right) + (L^{-1})_{01}{\\rm tr}\\left(E_{1} \\rho_{1}\\right) + (L^{-1})_{0+}{\\rm tr}\\left(E_{1}\\rho_{+}\\right) + (L^{-1})_{0(+i)} {\\rm tr}\\left( E_{1}\\rho_{(+i)} \\right)\\\\\n",
    "\\Gamma_{22} &= {\\rm tr}(E_{1}|1\\rangle\\langle 1|) = (L^{-1})_{10}{\\rm tr}\\left(E_{1}\\rho_{0}\\right) + (L^{-1})_{11}{\\rm tr}\\left(E_{1} \\rho_{1}\\right) + (L^{-1})_{1+}{\\rm tr}\\left(E_{1}\\rho_{+}\\right) + (L^{-1})_{1(+i)} {\\rm tr}\\left( E_{1}\\rho_{(+i)} \\right)\\\\\\\\\n",
    "\\end{align}"
   ]
  },
  {
   "cell_type": "code",
   "execution_count": 11,
   "id": "0461fc7d-a0db-417a-b767-a0eee0f5ac62",
   "metadata": {},
   "outputs": [],
   "source": [
    "def getGammaMatrix(matrixL, getZero, getOne):\n",
    "    \"\"\"\n",
    "    Calculate the Gamma Matrix from 4 noisy density operator\n",
    "    \"\"\"\n",
    "    gamma = np.ones((2, 2))\n",
    "    L0 = matrixL[0]\n",
    "    L1 = matrixL[1]\n",
    "    # gamma_11\n",
    "    gamma[0][0] = np.dot(L0, getZero)\n",
    "    # gamma_12\n",
    "    gamma[0][1] = np.dot(L1, getZero)\n",
    "    # gamma_21\n",
    "    gamma[1][0] = np.dot(L0, getOne)\n",
    "    # gamma_22\n",
    "    gamma[1][1] = np.dot(L1, getOne)\n",
    "    return gamma"
   ]
  },
  {
   "cell_type": "code",
   "execution_count": 12,
   "id": "1b005cf6-a71d-4524-bde3-da814772e163",
   "metadata": {},
   "outputs": [],
   "source": [
    "gamma0 = getGammaMatrix(matrixL, getZero, getOne)"
   ]
  },
  {
   "cell_type": "markdown",
   "id": "56045a0a-5f6d-4a15-9f53-cc7e23f43bf7",
   "metadata": {},
   "source": [
    "In conclusion, we would need several steps and details to get $\\Gamma$ matrix for a single qubit. I will summarize details of each step here again for reference:\n",
    "\n",
    "* **Preparation**: Run GST experiment and get noisy state $\\rho_0$, noisy gate $G_x$ and $G_y$\n",
    "* **Step 1**: Calculate $|\\rho_0\\rangle\\rangle$\n",
    "* **Step 2**: Use $|\\rho_0\\rangle\\rangle$ and noisy gate $G_x$ and $G_y$ to get $|\\rho_1\\rangle\\rangle$, $|\\rho_+\\rangle\\rangle$ and $|\\rho_{+i}\\rangle\\rangle$\n",
    "* **Step 3**: Get noisy state $\\rho_{1}, \\rho_{+}, \\rho_{+i}$ from $|\\rho_1\\rangle\\rangle$, $|\\rho_+\\rangle\\rangle$ and $|\\rho_{+i}\\rangle\\rangle$\n",
    "* **Step 4**: Get $L$ matrix from noisy state from $\\rho_{0}, \\rho_{1}, \\rho_{+}, \\rho_{+i}$\n",
    "* **Step 5**: Get $\\Gamma$ matrix from $L$ matrix and calibration result. \n",
    "\n",
    "## III. Gamma Matrix of Multiple Qubit\n",
    "Above we have obtained the $\\Gamma$ matrix for a single qubit. We can in principle get $\\Gamma$ matrix for $5$ qubits directly, here for simplicity (and also consistent with the work of Geller's paper), we consider a tensor product version of $\\Gamma$ matrix, \n",
    "\\begin{equation}\n",
    "\\Gamma = \\Gamma_0\\otimes \\Gamma_1 \\otimes \\cdots \\otimes \\Gamma_n \n",
    "= \\bigotimes_{i=0}^{n}\\Gamma_i = \\bigotimes_{i=0}^{n}\\Gamma_i \n",
    "\\end{equation}\n",
    "\n",
    "Below I will repeat all above processes and obtain the gamma matrix for all $5$ qubits.\n",
    "\n",
    "### A. Qubit 1\n",
    "For Qubit 1, below is the updated experiment result for state-preparation and GST experiment. "
   ]
  },
  {
   "cell_type": "code",
   "execution_count": 13,
   "id": "92e7726f-07c2-4926-b05e-0109da6f87a4",
   "metadata": {},
   "outputs": [],
   "source": [
    "# Qubit 1\n",
    "try_zero_result = {'get-zero': 992, 'get-one': 8}\n",
    "try_one_result = {'get-zero': 96, 'get-one': 904}\n",
    "try_plus_result = {'get-zero': 548, 'get-one': 452}\n",
    "try_psi_result = {'get-zero': 536, 'get-one': 464}\n",
    "\n",
    "# Noisy state rho0\n",
    "rho0 = np.array([[0.9968314, 0.0174616],\n",
    "                 [0.0135767, 0.0031866]])\n",
    "\n",
    "# Noisy gate Gx\n",
    "Gx = np.array([[1, 0, 0, 0], \n",
    "               [0.0003134, 0.9975053, 0.0070664, 0.0061008], \n",
    "               [-0.003582, 0.0017868, -0.0002412, -0.9982639], \n",
    "               [0.0199663, -0.0008216, 0.9994638, 0.0049076]])\n",
    "\n",
    "# Noisy gate Gy\n",
    "Gy = np.array([[1, 0, 0, 0], \n",
    "               [-0.0035356, -0.0031584, 0.0092401, 0.9983456], \n",
    "               [0.0001654, 0.0035338, 0.9994461, 0.0013525], \n",
    "               [0.0113752, -0.9985736, 0.0043543, 0.0006209]])"
   ]
  },
  {
   "cell_type": "markdown",
   "id": "f836c989-0f44-4c29-919b-df3f6803257c",
   "metadata": {},
   "source": [
    "Following the given $5$ steps, we can obtain $\\Gamma$ matrix for Qubit 1. "
   ]
  },
  {
   "cell_type": "code",
   "execution_count": 14,
   "id": "343e90ec-0e6f-4a8a-87dd-bebba7dfe953",
   "metadata": {},
   "outputs": [
    {
     "name": "stderr",
     "output_type": "stream",
     "text": [
      "/tmp/ipykernel_351/1217648530.py:20: ComplexWarning: Casting complex values to real discards the imaginary part\n",
      "  L[i] = np.array([0.5*(1-x-y+z), 0.5*(1-x-y-z), x, y])\n"
     ]
    }
   ],
   "source": [
    "getZero, getOne = getCaliResult([try_zero_result, try_one_result, try_plus_result,try_psi_result])\n",
    "\n",
    "# Step 1\n",
    "rho0_GST = getGSTVector(rho0)\n",
    "\n",
    "# Step 2\n",
    "Gx2 = np.matmul(Gx, Gx)\n",
    "Gx3 = np.matmul(Gx2, Gx)\n",
    "\n",
    "rho1_GST = np.matmul(Gx2, rho0_GST)\n",
    "rhop_GST = np.matmul(Gy, rho0_GST)\n",
    "rhoi_GST = np.matmul(Gx3, rho0_GST)\n",
    "\n",
    "# Step 3\n",
    "rho1 = getDenOper(rho1_GST)\n",
    "rhop = getDenOper(rhop_GST)\n",
    "rhoi = getDenOper(rhoi_GST)\n",
    "\n",
    "# Step 4\n",
    "matrixL = getLMatrix([rho0, rho1, rhop, rhoi])\n",
    "\n",
    "# Step 5\n",
    "gamma1 = getGammaMatrix(matrixL, getZero, getOne)"
   ]
  },
  {
   "cell_type": "markdown",
   "id": "1f9a3c30-794e-41ba-8408-4269a9a0c169",
   "metadata": {},
   "source": [
    "### B. Qubit 2\n",
    "For Qubit 2, below is the updated experiment result for state-preparation and GST experiment."
   ]
  },
  {
   "cell_type": "code",
   "execution_count": 15,
   "id": "d5d34978-ecfb-4dae-b4ae-b77b7491bbf1",
   "metadata": {},
   "outputs": [],
   "source": [
    "# Qubit 2\n",
    "try_zero_result = {'get-zero': 992, 'get-one': 8}\n",
    "try_one_result = {'get-zero': 26, 'get-one': 974}\n",
    "try_plus_result = {'get-zero': 492, 'get-one': 508}\n",
    "try_psi_result = {'get-zero': 521, 'get-one': 479}\n",
    "\n",
    "# Noisy state rho0\n",
    "rho0 = np.array([[0.9945645, -0.0085467],\n",
    "                 [-0.0269976, 0.0054355]])\n",
    "\n",
    "# Noisy gate Gx\n",
    "Gx = np.array([[1, 0, 0, 0], \n",
    "               [0.0003134, 0.9975053, 0.0070664, 0.0061008], \n",
    "               [-0.003582, 0.0017868, -0.0002412, -0.9982639], \n",
    "               [0.0199663, -0.0008216, 0.9994638, 0.0049076]])\n",
    "\n",
    "# Noisy gate Gy\n",
    "Gy = np.array([[1, 0, 0, 0], \n",
    "               [-0.0035356, -0.0031584, 0.0092401, 0.9983456], \n",
    "               [0.0001654, 0.0035338, 0.9994461, 0.0013525], \n",
    "               [0.0113752, -0.9985736, 0.0043543, 0.0006209]])"
   ]
  },
  {
   "cell_type": "markdown",
   "id": "37ec420c-7cee-45b0-8f4f-8223bec7b1a2",
   "metadata": {},
   "source": [
    "Following the given $5$ steps, we can obtain $\\Gamma$ matrix for Qubit 2. "
   ]
  },
  {
   "cell_type": "code",
   "execution_count": 16,
   "id": "a2ca949f-04d0-46be-91e6-92c5c4df6d68",
   "metadata": {},
   "outputs": [
    {
     "name": "stderr",
     "output_type": "stream",
     "text": [
      "/tmp/ipykernel_351/1217648530.py:20: ComplexWarning: Casting complex values to real discards the imaginary part\n",
      "  L[i] = np.array([0.5*(1-x-y+z), 0.5*(1-x-y-z), x, y])\n"
     ]
    }
   ],
   "source": [
    "getZero, getOne = getCaliResult([try_zero_result, try_one_result, try_plus_result,try_psi_result])\n",
    "\n",
    "# Step 1\n",
    "rho0_GST = getGSTVector(rho0)\n",
    "\n",
    "# Step 2\n",
    "Gx2 = np.matmul(Gx, Gx)\n",
    "Gx3 = np.matmul(Gx2, Gx)\n",
    "\n",
    "rho1_GST = np.matmul(Gx2, rho0_GST)\n",
    "rhop_GST = np.matmul(Gy, rho0_GST)\n",
    "rhoi_GST = np.matmul(Gx3, rho0_GST)\n",
    "\n",
    "# Step 3\n",
    "rho1 = getDenOper(rho1_GST)\n",
    "rhop = getDenOper(rhop_GST)\n",
    "rhoi = getDenOper(rhoi_GST)\n",
    "\n",
    "# Step 4\n",
    "matrixL = getLMatrix([rho0, rho1, rhop, rhoi])\n",
    "\n",
    "# Step 5\n",
    "gamma2 = getGammaMatrix(matrixL, getZero, getOne)"
   ]
  },
  {
   "cell_type": "markdown",
   "id": "e1dde313-ce13-471f-a166-cee73dd72c79",
   "metadata": {},
   "source": [
    "### C. Qubit 3\n",
    "For Qubit 3, below is the updated experiment result for state-preparation and GST experiment."
   ]
  },
  {
   "cell_type": "code",
   "execution_count": 17,
   "id": "99d4a19c-b2af-4b13-b4ed-d83815c2df91",
   "metadata": {},
   "outputs": [],
   "source": [
    "# Qubit 3\n",
    "try_zero_result = {'get-zero': 980, 'get-one': 20}\n",
    "try_one_result = {'get-zero': 69, 'get-one': 931}\n",
    "try_plus_result = {'get-zero': 470, 'get-one': 530}\n",
    "try_psi_result = {'get-zero': 455, 'get-one': 545}\n",
    "\n",
    "# Noisy state rho0\n",
    "rho0 = np.array([[0.9945645, -0.0085467],\n",
    "                 [-0.0269976, 0.0054355]])\n",
    "\n",
    "# Noisy gate Gx\n",
    "Gx = np.array([[1, 0, 0, 0], \n",
    "               [0.0003134, 0.9975053, 0.0070664, 0.0061008], \n",
    "               [-0.003582, 0.0017868, -0.0002412, -0.9982639], \n",
    "               [0.0199663, -0.0008216, 0.9994638, 0.0049076]])\n",
    "\n",
    "# Noisy gate Gy\n",
    "Gy = np.array([[1, 0, 0, 0], \n",
    "               [-0.0035356, -0.0031584, 0.0092401, 0.9983456], \n",
    "               [0.0001654, 0.0035338, 0.9994461, 0.0013525], \n",
    "               [0.0113752, -0.9985736, 0.0043543, 0.0006209]])"
   ]
  },
  {
   "cell_type": "markdown",
   "id": "01bda01c-aa7c-4a8b-a208-f1a519edc3fb",
   "metadata": {},
   "source": [
    "Following the given $5$ steps, we can obtain $\\Gamma$ matrix for Qubit 3. "
   ]
  },
  {
   "cell_type": "code",
   "execution_count": 18,
   "id": "dc3ade4e-9700-4c92-8f81-6f1dd006d0e9",
   "metadata": {},
   "outputs": [
    {
     "name": "stderr",
     "output_type": "stream",
     "text": [
      "/tmp/ipykernel_351/1217648530.py:20: ComplexWarning: Casting complex values to real discards the imaginary part\n",
      "  L[i] = np.array([0.5*(1-x-y+z), 0.5*(1-x-y-z), x, y])\n"
     ]
    }
   ],
   "source": [
    "getZero, getOne = getCaliResult([try_zero_result, try_one_result, try_plus_result,try_psi_result])\n",
    "\n",
    "# Step 1\n",
    "rho0_GST = getGSTVector(rho0)\n",
    "\n",
    "# Step 2\n",
    "Gx2 = np.matmul(Gx, Gx)\n",
    "Gx3 = np.matmul(Gx2, Gx)\n",
    "\n",
    "rho1_GST = np.matmul(Gx2, rho0_GST)\n",
    "rhop_GST = np.matmul(Gy, rho0_GST)\n",
    "rhoi_GST = np.matmul(Gx3, rho0_GST)\n",
    "\n",
    "# Step 3\n",
    "rho1 = getDenOper(rho1_GST)\n",
    "rhop = getDenOper(rhop_GST)\n",
    "rhoi = getDenOper(rhoi_GST)\n",
    "\n",
    "# Step 4\n",
    "matrixL = getLMatrix([rho0, rho1, rhop, rhoi])\n",
    "\n",
    "# Step 5\n",
    "gamma3 = getGammaMatrix(matrixL, getZero, getOne)"
   ]
  },
  {
   "cell_type": "markdown",
   "id": "d8b3d74e-2e43-4bf8-a5e3-58e2b5ffde4d",
   "metadata": {},
   "source": [
    "### D. Qubit 4\n",
    "For Qubit 4, below is the updated experiment result for state-preparation and GST experiment."
   ]
  },
  {
   "cell_type": "code",
   "execution_count": 19,
   "id": "e12ad31c-8acd-47bb-a58a-93e231453e43",
   "metadata": {},
   "outputs": [],
   "source": [
    "# Qubit 4\n",
    "try_zero_result = {'get-zero': 991, 'get-one': 9}\n",
    "try_one_result = {'get-zero': 106, 'get-one': 894}\n",
    "try_plus_result = {'get-zero': 521, 'get-one': 479}\n",
    "try_psi_result = {'get-zero': 549, 'get-one': 451}\n",
    "\n",
    "# Noisy state rho0\n",
    "rho0 = np.array([[0.9945645, -0.0085467],\n",
    "                 [-0.0269976, 0.0054355]])\n",
    "\n",
    "# Noisy gate Gx\n",
    "Gx = np.array([[1, 0, 0, 0], \n",
    "               [0.0003134, 0.9975053, 0.0070664, 0.0061008], \n",
    "               [-0.003582, 0.0017868, -0.0002412, -0.9982639], \n",
    "               [0.0199663, -0.0008216, 0.9994638, 0.0049076]])\n",
    "\n",
    "# Noisy gate Gy\n",
    "Gy = np.array([[1, 0, 0, 0], \n",
    "               [-0.0035356, -0.0031584, 0.0092401, 0.9983456], \n",
    "               [0.0001654, 0.0035338, 0.9994461, 0.0013525], \n",
    "               [0.0113752, -0.9985736, 0.0043543, 0.0006209]])"
   ]
  },
  {
   "cell_type": "markdown",
   "id": "ca4518c0-36e8-477b-b440-d256af00f8d8",
   "metadata": {},
   "source": [
    "Following the given $5$ steps, we can obtain $\\Gamma$ matrix for Qubit 4. "
   ]
  },
  {
   "cell_type": "code",
   "execution_count": 20,
   "id": "df45a6ee-af3b-4a01-aa51-67db914b1aa6",
   "metadata": {},
   "outputs": [
    {
     "name": "stderr",
     "output_type": "stream",
     "text": [
      "/tmp/ipykernel_351/1217648530.py:20: ComplexWarning: Casting complex values to real discards the imaginary part\n",
      "  L[i] = np.array([0.5*(1-x-y+z), 0.5*(1-x-y-z), x, y])\n"
     ]
    }
   ],
   "source": [
    "getZero, getOne = getCaliResult([try_zero_result, try_one_result, try_plus_result,try_psi_result])\n",
    "\n",
    "# Step 1\n",
    "rho0_GST = getGSTVector(rho0)\n",
    "\n",
    "# Step 2\n",
    "Gx2 = np.matmul(Gx, Gx)\n",
    "Gx3 = np.matmul(Gx2, Gx)\n",
    "\n",
    "rho1_GST = np.matmul(Gx2, rho0_GST)\n",
    "rhop_GST = np.matmul(Gy, rho0_GST)\n",
    "rhoi_GST = np.matmul(Gx3, rho0_GST)\n",
    "\n",
    "# Step 3\n",
    "rho1 = getDenOper(rho1_GST)\n",
    "rhop = getDenOper(rhop_GST)\n",
    "rhoi = getDenOper(rhoi_GST)\n",
    "\n",
    "# Step 4\n",
    "matrixL = getLMatrix([rho0, rho1, rhop, rhoi])\n",
    "\n",
    "# Step 5\n",
    "gamma4 = getGammaMatrix(matrixL, getZero, getOne)"
   ]
  },
  {
   "cell_type": "markdown",
   "id": "b30bbd1a-3695-459d-9275-3b51f099f301",
   "metadata": {},
   "source": [
    "### E. Gamma Matrix for All\n",
    "The total response matrix $\\Gamma$ is then given by the tensor product of response matrix for each qubit. Below I calculate the response matrix and save it to a TXT file."
   ]
  },
  {
   "cell_type": "code",
   "execution_count": 21,
   "id": "5ed55f43-b402-42c7-81f1-b3d12c723c6b",
   "metadata": {},
   "outputs": [
    {
     "data": {
      "text/plain": [
       "[array([[0.98942172, 0.04909555],\n",
       "        [0.01057828, 0.95090445]]),\n",
       " array([[0.98928509, 0.10762021],\n",
       "        [0.01071491, 0.89237979]]),\n",
       " array([[0.98735356, 0.04055651],\n",
       "        [0.01264644, 0.95944349]]),\n",
       " array([[0.97698542, 0.08637531],\n",
       "        [0.02301458, 0.91362469]]),\n",
       " array([[0.98716705, 0.1200561 ],\n",
       "        [0.01283295, 0.8799439 ]])]"
      ]
     },
     "execution_count": 21,
     "metadata": {},
     "output_type": "execute_result"
    }
   ],
   "source": [
    "nqubit = 5\n",
    "qubit = [gamma0, gamma1, gamma2, gamma3, gamma4]\n",
    "qubit"
   ]
  },
  {
   "cell_type": "code",
   "execution_count": 22,
   "id": "b0722adf-b609-4265-ac07-7de82a92341c",
   "metadata": {},
   "outputs": [],
   "source": [
    "for i in range(1, nqubit):\n",
    "    if i == 1:\n",
    "        matrixG = np.kron(qubit[i-1], qubit[i])\n",
    "    else:\n",
    "        matrixG = np.kron(matrixG, qubit[i])\n",
    "        \n",
    "np.savetxt('./result/gamma.txt', matrixG)"
   ]
  },
  {
   "cell_type": "markdown",
   "id": "584cc49d-5d17-4613-8a59-49f7939c547a",
   "metadata": {},
   "source": [
    "We can also visualize response matrix with the help of `get_basis_state` function."
   ]
  },
  {
   "cell_type": "code",
   "execution_count": 23,
   "id": "93b41825-ff58-43df-8d87-a63c53e3d897",
   "metadata": {},
   "outputs": [],
   "source": [
    "def get_basis_state(nqubit):\n",
    "    if nqubit <= 0:\n",
    "        print(\"nqubit should be greater than 0\")\n",
    "        return 0\n",
    "    \n",
    "    if nqubit > 1:\n",
    "        tmp1 = ['0' + i for i in get_basis_state(nqubit-1)]\n",
    "        tmp2 = ['1' + i for i in get_basis_state(nqubit-1)]\n",
    "        return tmp1 + tmp2\n",
    "    if nqubit == 1:\n",
    "        return ['0', '1']"
   ]
  },
  {
   "cell_type": "code",
   "execution_count": 24,
   "id": "47bf42c8-4347-466d-82d0-5a03726b1780",
   "metadata": {},
   "outputs": [
    {
     "data": {
      "text/plain": [
       "<AxesSubplot:>"
      ]
     },
     "execution_count": 24,
     "metadata": {},
     "output_type": "execute_result"
    },
    {
     "data": {
      "image/png": "[encoded data removed]",
      "text/plain": [
       "<Figure size 720x720 with 2 Axes>"
      ]
     },
     "metadata": {},
     "output_type": "display_data"
    }
   ],
   "source": [
    "basis_state = get_basis_state(nqubit = 5)\n",
    "\n",
    "import seaborn as sns\n",
    "sns.set(rc={'axes.facecolor':'black', 'figure.facecolor':'white'})\n",
    "sns.set(rc = {'figure.figsize':(10,10)})\n",
    "sns.heatmap(\n",
    "    matrixG,\n",
    "    cmap=sns.color_palette(\"Blues\", as_cmap=True),\n",
    "    linewidths=.5,\n",
    "    xticklabels = basis_state,\n",
    "    yticklabels = basis_state,\n",
    "    square = True\n",
    ")"
   ]
  },
  {
   "cell_type": "markdown",
   "id": "bdcb9e95-5172-4c79-b547-d28afd5dbfb7",
   "metadata": {},
   "source": [
    "## Appendix A: Validation of Code"
   ]
  },
  {
   "cell_type": "code",
   "execution_count": 25,
   "id": "c1cfeac5-b74e-4edc-8478-457aca10bbc8",
   "metadata": {},
   "outputs": [
    {
     "data": {
      "text/plain": [
       "array([[ 0.9945645+0.j, -0.0085467+0.j],\n",
       "       [-0.0269976+0.j,  0.0054355+0.j]])"
      ]
     },
     "execution_count": 25,
     "metadata": {},
     "output_type": "execute_result"
    }
   ],
   "source": [
    "getDenOper(rho0_GST)"
   ]
  },
  {
   "cell_type": "code",
   "execution_count": 26,
   "id": "36912f2b-114e-46d4-8e13-5ff44eab513c",
   "metadata": {},
   "outputs": [
    {
     "data": {
      "text/plain": [
       "array([[ 0.9945645, -0.0085467],\n",
       "       [-0.0269976,  0.0054355]])"
      ]
     },
     "execution_count": 26,
     "metadata": {},
     "output_type": "execute_result"
    }
   ],
   "source": [
    "rho0"
   ]
  }
 ],
 "metadata": {
  "kernelspec": {
   "display_name": "Qiskit v0.34.1 (ipykernel)",
   "language": "python",
   "name": "python3"
  },
  "language_info": {
   "codemirror_mode": {
    "name": "ipython",
    "version": 3
   },
   "file_extension": ".py",
   "mimetype": "text/x-python",
   "name": "python",
   "nbconvert_exporter": "python",
   "pygments_lexer": "ipython3",
   "version": "3.8.12"
  },
  "widgets": {
   "application/vnd.jupyter.widget-state+json": {
    "state": {},
    "version_major": 2,
    "version_minor": 0
   }
  }
 },
 "nbformat": 4,
 "nbformat_minor": 5
}
