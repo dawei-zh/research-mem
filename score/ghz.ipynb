{
 "cells": [
  {
   "cell_type": "markdown",
   "id": "f8aeef99-424c-42c8-9f6c-f03b6f4b4754",
   "metadata": {},
   "source": [
    "# GHZ State Correction\n",
    "\n",
    "In this notebook, I will provide a code to correct GHZ state with different response matrix, and compare the performance of different error mitigation method. \n",
    "\n",
    "## I. Introduction of Background Knowledge\n",
    "In this section, I will introduce GHZ state and the fidelity. \n",
    "### A. The GHZ State\n",
    "To evaluate the performance of various measurement error mitigation method, we need to compare the mitigation result of different methods with given ideal state. One of commonly used quantum state in quantum computation is the Greenberger–Horne–Zeilinger state (GHZ state). GHZ state was firstly designed for a 3 qubits case, and we can generalize the GHZ state to any $n\\geq 2$ case as\n",
    "\\begin{equation}\n",
    "|{\\rm GHZ}\\rangle = \\frac{|0\\rangle^{\\otimes n} +|1\\rangle^{\\otimes n} }{\\sqrt{2}}\n",
    "\\end{equation}\n",
    "As an example, I will evaluate the performance of different mitigation method using the ideal $n=5$ GHZ state\n",
    "\\begin{equation}\n",
    "|{\\rm GHZ}\\rangle = \\frac{|00000\\rangle +|11111\\rangle }{\\sqrt{2}}\n",
    "\\end{equation}\n",
    "\n",
    "\n",
    "### B. The Fidelity\n",
    "The fidelity is used to measure the difference of two quantum state $\\rho = |\\psi\\rangle\\langle\\psi|$ and $\\sigma = |\\phi\\rangle\\langle\\phi|$, \n",
    "\\begin{equation}\n",
    "F(\\rho, \\sigma) = {\\rm tr}\\left(\\sqrt{\\rho^{1/2}\\sigma\\rho^{1/2}}\\right)\n",
    "\\end{equation}\n",
    "Note that $0\\leq F\\leq 1$, $F = 1$ if $\\rho=\\sigma$ and $F=0$ if $\\langle \\psi|\\phi\\rangle = 0$. For a pure state $|\\psi\\rangle$ and arbitrary state $\\sigma$, the fidelity can be re-written as\n",
    "\\begin{equation}\n",
    "F(|\\psi\\rangle, \\sigma) = \\sqrt{\\langle\\psi|\\sigma|\\psi\\rangle}\n",
    "\\end{equation}\n",
    "\n",
    "Below I define a function `fidelity` to get the fidelity between 5-qubit GHZ state and the correction state. Note that function `fidelity` bases on the definition for pure state $|\\psi\\rangle$. "
   ]
  },
  {
   "cell_type": "code",
   "execution_count": null,
   "id": "baf71ac9-57c1-4823-a6ec-ff43078a45db",
   "metadata": {},
   "outputs": [],
   "source": [
    "# Import require package\n",
    "import numpy as np\n",
    "from qiskit import QuantumCircuit, transpile, IBMQ, assemble\n",
    "from qiskit.providers.ibmq.job import job_monitor\n",
    "\n",
    "# Load the IBMQ backend\n",
    "provider = IBMQ.load_account()\n",
    "backend = provider.backend.ibmq_lima"
   ]
  },
  {
   "cell_type": "code",
   "execution_count": null,
   "id": "8d2ada30-0a34-498e-bf46-cd8b09f538ac",
   "metadata": {},
   "outputs": [],
   "source": [
    "def fidelity(psi, sigma):\n",
    "    # Make sure psi is a column vector\n",
    "    try: \n",
    "        if psi.shape[1] != 1:\n",
    "            return np.nan\n",
    "    except IndexError:\n",
    "        return np.nan\n",
    "    \n",
    "    psi_dagger = np.conjugate(psi).T\n",
    "    # Make sure output is a number\n",
    "    return np.sqrt(np.matmul(psi_dagger, np.matmul(sigma, psi)))[0,0]"
   ]
  },
  {
   "cell_type": "markdown",
   "id": "5bef5551-9468-41aa-8477-c2711e802a6b",
   "metadata": {},
   "source": [
    "As an example, I will use the $n=5$ GHZ state obtained from IBM Q superconducting processor **ibmq_lima** and perform the correction on it. For the whole process of using qiskit to perform correction, we need to\n",
    "\n",
    "* Get GHZ raw data\n",
    "* Prepare different response matrix\n",
    "* Run the correction and get new data\n",
    "* Evaluate the score of correction\n",
    "\n",
    "In the following sections, I will provide details of how to correct noisy data and get the evaluation of performance.\n",
    "\n",
    "## II. Run Correction\n",
    "In this section, I will describe details of how to run correction with given response matrix and noisy data. \n",
    "\n",
    "### A. Get GHZ Data\n",
    "To get the GHZ state for $n=5$ qubits, we need to construct the following circuit and run it on the **ibmq_lima** processor. "
   ]
  },
  {
   "cell_type": "code",
   "execution_count": 2,
   "id": "d6e65ab1-3d68-42c1-a670-6a6ae527cff5",
   "metadata": {},
   "outputs": [
    {
     "data": {
      "image/png": "[encoded data removed]",
      "text/plain": [
       "<Figure size 748.797x385.28 with 1 Axes>"
      ]
     },
     "execution_count": 2,
     "metadata": {},
     "output_type": "execute_result"
    }
   ],
   "source": [
    "from qiskit import QuantumRegister, ClassicalRegister, QuantumCircuit\n",
    "\n",
    "qreg_q = QuantumRegister(5, 'q')\n",
    "creg_c = ClassicalRegister(5, 'c')\n",
    "circuit = QuantumCircuit(qreg_q, creg_c)\n",
    "\n",
    "circuit.h(qreg_q[0])\n",
    "circuit.cx(qreg_q[0], qreg_q[1])\n",
    "circuit.cx(qreg_q[0], qreg_q[2])\n",
    "circuit.cx(qreg_q[0], qreg_q[3])\n",
    "circuit.cx(qreg_q[0], qreg_q[4])\n",
    "circuit.barrier()\n",
    "circuit.measure(qreg_q[0], creg_c[0])\n",
    "circuit.measure(qreg_q[1], creg_c[1])\n",
    "circuit.measure(qreg_q[2], creg_c[2])\n",
    "circuit.measure(qreg_q[3], creg_c[3])\n",
    "circuit.measure(qreg_q[4], creg_c[4])\n",
    "circuit.draw()"
   ]
  },
  {
   "cell_type": "markdown",
   "id": "ab85490e-4db5-41a8-b647-b4f5488d885c",
   "metadata": {},
   "source": [
    "After running the circuit, we can get data from the job ID as follow. "
   ]
  },
  {
   "cell_type": "code",
   "execution_count": null,
   "id": "dd21b4ed-95ba-4f3c-8457-7a7be750594b",
   "metadata": {},
   "outputs": [],
   "source": [
    "job_id = ''\n",
    "data = backend.retrieve_job(job_id).result().get_counts()\n",
    "data"
   ]
  },
  {
   "cell_type": "markdown",
   "id": "686ffd35-40f0-4f58-8216-bac2244cea3c",
   "metadata": {},
   "source": [
    "### B. Prepare Response Matrix\n",
    "The response matrices are obtained in different ways as mentioned in the `../response` directory. We don't need to care about how to generate the response matrices here, but only load the `.txt` files and use the data directly. Here we will test the following response matrices:\n",
    "\n",
    "* **No.1:** Classical response matrix from classical calibration experiment (`../response/classical-response.ipynb`)\n",
    "* **No.2:** Scalable classical response matrix (use data in Hamming distance as 1) (`../response/simple-scalable.ipynb`)\n",
    "* **No.3:** Classical response matrix obtained from tensor product (`../response/simple-tensor.ipynb`)\n",
    "* **No.4:** Gamma matrix obtained from tensor product (`../response/gamma-matrix.ipynb`)\n",
    "* **No.5:** Scalable gamma matrix (use data in Hamming distance as 1) (`../response/simple-scalable.ipynb`)\n",
    "\n",
    "Below I will load data from the `.txt` files with corresponding response matrix number. "
   ]
  },
  {
   "cell_type": "code",
   "execution_count": null,
   "id": "b94dc968-434a-44a8-bb0d-7a850db7266c",
   "metadata": {},
   "outputs": [],
   "source": [
    "res1 = \n",
    "res2 = \n",
    "res3 = \n",
    "res4 = \n",
    "res5 = "
   ]
  },
  {
   "cell_type": "markdown",
   "id": "e16e0359-571f-4535-a35b-93f6e8ff6805",
   "metadata": {},
   "source": [
    "### C. Run the Correction\n",
    "In the directory `../correction`, I include three noisy data unfolding methods that are widely used in current stage: inverse matrix, least square and iterative Bayesian unfolding. Here I simply copy-paste the code there and I will use all three methods to correct the noisy data and check the performance. "
   ]
  },
  {
   "cell_type": "code",
   "execution_count": null,
   "id": "6e88b022-26e8-4d76-9d4d-a9b4a47ea525",
   "metadata": {
    "tags": []
   },
   "outputs": [],
   "source": [
    "# Inverse matrix unfolding\n",
    "import scipy.linalg as la\n",
    "\n",
    "def pseudoInverse(initialA, rawData):\n",
    "    \"\"\"\n",
    "    Following IBM Qiskit, we define a function to compute the \n",
    "    (Moore-Penrose) pseudo-inverse of a matrix as calibration.\n",
    "    \"\"\"\n",
    "    calMatrix = la.pinv(initialA)\n",
    "    return np.dot(calMatrix, initialA)"
   ]
  },
  {
   "cell_type": "code",
   "execution_count": null,
   "id": "3294c6c5-b798-45c1-9d13-28bea27225c9",
   "metadata": {},
   "outputs": [],
   "source": [
    "# Least Square unfolding\n",
    "from scipy.optimize import minimize\n",
    "def leastQ(initialA, rawData):\n",
    "    \"\"\"\n",
    "    Following IBM Qiskit, we define a function to compute the calibration\n",
    "    by minimizing ||Lambda * Count_est - Count_exp||_2. Make sure input \n",
    "    parameters should be probability\n",
    "    \n",
    "    Use function in this way: \n",
    "    leastQ(resMatrix/size, data/sum(data))\n",
    "    \"\"\"\n",
    "    # Make sure the element of A is probability \n",
    "    #if np.sum(initialA) > 1:\n",
    "    #    for i, _ in enumerate(initialA):\n",
    "    #        initialA[i] = initialA[i]/np.sum(initialA[i])\n",
    "    \n",
    "    # Make sure the element of data is probability \n",
    "    #if np.sum(rawData) > 1:\n",
    "    #    rawData = rawData/np.sum(rawData)\n",
    "    \n",
    "    realData = np.copy(rawData) # Deep copy\n",
    "    \n",
    "    # Define the function need to be minimized, x is the estimated true value\n",
    "    def fun(x):\n",
    "        return sum((rawData - np.dot(initialA, x))**2)\n",
    "    \n",
    "    x0 = np.random.rand(len(rawData)) # Generate random initial fitting value\n",
    "    x0 = x0 / sum(x0) # Normalized the initial value\n",
    "    \n",
    "    cons = ({'type': 'eq', 'fun': lambda x: sum(x) - 1}) # Make sure the sum of probability is \n",
    "    bnds = tuple((0, 1) for x in x0) # Make sure probability is between 0 and 1\n",
    "    mitigation = minimize(fun, x0, method='SLSQP', constraints=cons, bounds=bnds, tol=1e-6)\n",
    "    \n",
    "    return mitigation.x"
   ]
  },
  {
   "cell_type": "code",
   "execution_count": null,
   "id": "b5383218-8d7a-472a-ae63-a6aa5b437c05",
   "metadata": {},
   "outputs": [],
   "source": [
    "# Iterative Bayesian unfolding\n",
    "def IBU(initialA, rawData, nIter):\n",
    "    \"\"\"\n",
    "    Following public code of nature paper, we define a function to compute the calibration\n",
    "    by iterative Bayesian unfolding method. Make sure input parameters should be probability\n",
    "    \n",
    "    Use function in this way: \n",
    "    IBU(resMatrix/4096, data1/sum(data1),10)\n",
    "    \"\"\"\n",
    "    dataLen = len(rawData)\n",
    "    t0 = np.ones(dataLen)\n",
    "    tn = t0\n",
    "    \n",
    "    for k in range(nIter):\n",
    "        # for k-th iteration time\n",
    "        tmp = np.ones(dataLen) # define the t_n+1 null array\n",
    "        \n",
    "        # for each element in the array\n",
    "        for i in range(dataLen): \n",
    "            jSum = 0 # initial the sum\n",
    "            for j in range(dataLen):\n",
    "                tmpSum = np.dot(initialA[j], tn) # Get sum of R_jk*t_k^n as inner product\n",
    "                jSum += initialA[j][i] * tn[i] * rawData[j] / tmpSum # sum up R_ji * t_i^n * m_j for j \n",
    "            \n",
    "            tmp[i] = np.copy(jSum)\n",
    "\n",
    "        tn = np.copy(tmp) # return the result after k-th iteration \n",
    "    return tn"
   ]
  },
  {
   "cell_type": "markdown",
   "id": "74fca19f-83e0-4ee6-9161-553cbc8d7bd5",
   "metadata": {},
   "source": [
    "Below I will run three unfolding methods and get mitigation result corresponding to the given $5$ response matrices. Note that the result data are corrected probability of getting certain basis state. "
   ]
  },
  {
   "cell_type": "code",
   "execution_count": null,
   "id": "55bd28ca-956f-40fd-8f78-eef43c2024ab",
   "metadata": {},
   "outputs": [],
   "source": [
    "results = {}\n",
    "response = {'res1':res1, 'res2':res2, 'res3':res3, 'res4':res4, 'res5':res5}\n",
    "for i in ['res1', 'res2', 'res3', 'res4', 'res5']:\n",
    "    tmp_res = response[i]\n",
    "    tmp_inv = pseudoInverse(tmp_res, data)\n",
    "    tmp_leq = leastQ(tmp_res, data)\n",
    "    tmp_ibu = IBU(tmp_res, data, nIter = 10)\n",
    "    result[i] = {'inv': tmp_inv, 'leq': tmp_leq, 'ibu': tmp_ibu}"
   ]
  },
  {
   "cell_type": "markdown",
   "id": "c334f6ae-1941-4186-9236-c835ca50df08",
   "metadata": {},
   "source": [
    "### D. Evaluate the performace\n",
    "Here I will use the fidelity to measure the difference between the mitigated state $|\\psi\\rangle$ and the ideal state $|\\phi\\rangle = |{\\rm GHZ}\\rangle$. The density matrix of state $|\\phi\\rangle$ is given by $\\sigma = |{\\rm GHZ}\\rangle\\langle {\\rm GHZ}|$. Here I calculate $\\sigma$ below. "
   ]
  },
  {
   "cell_type": "code",
   "execution_count": 17,
   "id": "7234d6a8-e1c9-4895-a673-a7ccec1b51bc",
   "metadata": {},
   "outputs": [
    {
     "data": {
      "text/plain": [
       "(32, 1)"
      ]
     },
     "execution_count": 17,
     "metadata": {},
     "output_type": "execute_result"
    }
   ],
   "source": [
    "import numpy as np\n",
    "nqubit = 5\n",
    "phi = np.ones((2**nqubit, 1)) * 0 # This should be a n*1 matrix, or column matrix, or shape (2**n, 1)\n",
    "phi[0] = (1/np.sqrt(2))\n",
    "phi[-1] = (1/np.sqrt(2))\n",
    "phi_dagger = np.conjugate(phi).T # This should be a 1*n matrix, or row matrix, or shape (1, 2**n)\n",
    "sigma = np.matmul(phi, phi_dagger)\n",
    "sigma"
   ]
  },
  {
   "cell_type": "markdown",
   "id": "879e22ee-9947-4889-b9de-b67d543a4fde",
   "metadata": {},
   "source": [
    "Note that the mitigated result are in probability, and we need to add a square root to make sure they are in the form of \n",
    "\\begin{equation}\n",
    "|\\psi\\rangle = \\sum c_{i}|i\\rangle = \\sum \\sqrt{p_{i}}|i\\rangle\n",
    "\\end{equation}\n",
    "(I don't use this here) Below I define `func` to convert the given mitigated probability into complex form, which is convenient to get the $c_i$ from $\\sqrt{p_i}$ if mitigated $p_i$ is negative (especially for inverse matrix). "
   ]
  },
  {
   "cell_type": "code",
   "execution_count": 19,
   "id": "dcf95baf-110a-454d-88ed-8bc1eb006fff",
   "metadata": {},
   "outputs": [],
   "source": [
    "score = {}\n",
    "#func = lambda i:complex(i)\n",
    "for i in ['res1', 'res2', 'res3', 'res4', 'res5']:\n",
    "    tmp_score = {}\n",
    "    for j in ['inv', 'leq', 'ibu']:\n",
    "        #psi = np.sqrt(np.array(list(map(func, result[i][j]))))\n",
    "        psi = np.sqrt(result[i][j])   # use this if probability are all non-negative\n",
    "        tmp_score[j] = fidelity(psi, sigma)\n",
    "        \n",
    "    score[i] = tmp_score"
   ]
  },
  {
   "cell_type": "code",
   "execution_count": null,
   "id": "4314a3ce-2d63-4bc2-9902-b26df7ebef18",
   "metadata": {},
   "outputs": [],
   "source": []
  }
 ],
 "metadata": {
  "kernelspec": {
   "display_name": "Qiskit v0.34.1 (ipykernel)",
   "language": "python",
   "name": "python3"
  },
  "language_info": {
   "codemirror_mode": {
    "name": "ipython",
    "version": 3
   },
   "file_extension": ".py",
   "mimetype": "text/x-python",
   "name": "python",
   "nbconvert_exporter": "python",
   "pygments_lexer": "ipython3",
   "version": "3.8.12"
  },
  "widgets": {
   "application/vnd.jupyter.widget-state+json": {
    "state": {},
    "version_major": 2,
    "version_minor": 0
   }
  }
 },
 "nbformat": 4,
 "nbformat_minor": 5
}
