{
 "cells": [
  {
   "cell_type": "markdown",
   "id": "f8aeef99-424c-42c8-9f6c-f03b6f4b4754",
   "metadata": {},
   "source": [
    "# GHZ State Correction\n",
    "\n",
    "In this notebook, I will provide a code to correct GHZ state with different response matrix, and compare the performance of different error mitigation method. \n",
    "\n",
    "## I. Introduction of Background Knowledge\n",
    "In this section, I will introduce GHZ state and the fidelity. \n",
    "### A. The GHZ State\n",
    "To evaluate the performance of various measurement error mitigation method, we need to compare the mitigation result of different methods with given ideal state. One of commonly used quantum state in quantum computation is the Greenberger–Horne–Zeilinger state (GHZ state). GHZ state was firstly designed for a 3 qubits case, and we can generalize the GHZ state to any $n\\geq 2$ case as\n",
    "\\begin{equation}\n",
    "|{\\rm GHZ}\\rangle = \\frac{|0\\rangle^{\\otimes n} +|1\\rangle^{\\otimes n} }{\\sqrt{2}}\n",
    "\\end{equation}\n",
    "As an example, I will evaluate the performance of different mitigation method using the ideal $n=5$ GHZ state\n",
    "\\begin{equation}\n",
    "|{\\rm GHZ}\\rangle = \\frac{|00000\\rangle +|11111\\rangle }{\\sqrt{2}}\n",
    "\\end{equation}\n",
    "\n",
    "\n",
    "### B. The Fidelity\n",
    "The fidelity is used to measure the difference of two quantum state $\\rho = |\\psi\\rangle\\langle\\psi|$ and $\\sigma = |\\phi\\rangle\\langle\\phi|$, \n",
    "\\begin{equation}\n",
    "F(\\rho, \\sigma) = {\\rm tr}\\left(\\sqrt{\\rho^{1/2}\\sigma\\rho^{1/2}}\\right)\n",
    "\\end{equation}\n",
    "Note that $0\\leq F\\leq 1$, $F = 1$ if $\\rho=\\sigma$ and $F=0$ if $\\langle \\psi|\\phi\\rangle = 0$. For a pure state $|\\psi\\rangle$ and arbitrary state $\\sigma$, the fidelity can be re-written as\n",
    "\\begin{equation}\n",
    "F(|\\psi\\rangle, \\sigma) = \\sqrt{\\langle\\psi|\\sigma|\\psi\\rangle}\n",
    "\\end{equation}\n",
    "\n",
    "Below I define a function `fidelity` to get the fidelity between 5-qubit GHZ state and the correction state. Note that function `fidelity` bases on the definition for pure state $|\\psi\\rangle$. "
   ]
  },
  {
   "cell_type": "code",
   "execution_count": 1,
   "id": "baf71ac9-57c1-4823-a6ec-ff43078a45db",
   "metadata": {},
   "outputs": [],
   "source": [
    "# Import require package\n",
    "import numpy as np\n",
    "from qiskit import QuantumCircuit, transpile, IBMQ, assemble\n",
    "from qiskit.providers.ibmq.job import job_monitor\n",
    "\n",
    "# Load the IBMQ backend\n",
    "provider = IBMQ.load_account()\n",
    "backend = provider.backend.ibmq_lima"
   ]
  },
  {
   "cell_type": "code",
   "execution_count": 2,
   "id": "8d2ada30-0a34-498e-bf46-cd8b09f538ac",
   "metadata": {},
   "outputs": [],
   "source": [
    "def fidelity(psi, sigma):\n",
    "    # Make sure psi is a column vector\n",
    "    try: \n",
    "        if psi.shape[1] != 1:\n",
    "            return np.nan\n",
    "    except IndexError:\n",
    "        return np.nan\n",
    "    \n",
    "    psi_dagger = np.conjugate(psi).T\n",
    "    # Make sure output is a number\n",
    "    return np.sqrt(np.matmul(psi_dagger, np.matmul(sigma, psi)))[0,0]"
   ]
  },
  {
   "cell_type": "markdown",
   "id": "5bef5551-9468-41aa-8477-c2711e802a6b",
   "metadata": {},
   "source": [
    "As an example, I will use the $n=5$ GHZ state obtained from IBM Q superconducting processor **ibmq_lima** and perform the correction on it. For the whole process of using qiskit to perform correction, we need to\n",
    "\n",
    "* Get GHZ raw data\n",
    "* Prepare different response matrix\n",
    "* Run the correction and get new data\n",
    "* Evaluate the score of correction\n",
    "\n",
    "In the following sections, I will provide details of how to correct noisy data and get the evaluation of performance.\n",
    "\n",
    "## II. Run Correction\n",
    "In this section, I will describe details of how to run correction with given response matrix and noisy data. \n",
    "\n",
    "### A. Get GHZ Data\n",
    "To get the GHZ state for $n=5$ qubits, we need to construct the following circuit and run it on the **ibmq_lima** processor. "
   ]
  },
  {
   "cell_type": "code",
   "execution_count": 3,
   "id": "d6e65ab1-3d68-42c1-a670-6a6ae527cff5",
   "metadata": {},
   "outputs": [
    {
     "data": {
      "image/png": "[encoded data removed]",
      "text/plain": [
       "<Figure size 748.797x385.28 with 1 Axes>"
      ]
     },
     "execution_count": 3,
     "metadata": {},
     "output_type": "execute_result"
    }
   ],
   "source": [
    "from qiskit import QuantumRegister, ClassicalRegister, QuantumCircuit\n",
    "\n",
    "qreg_q = QuantumRegister(5, 'q')\n",
    "creg_c = ClassicalRegister(5, 'c')\n",
    "circuit = QuantumCircuit(qreg_q, creg_c)\n",
    "\n",
    "circuit.h(qreg_q[0])\n",
    "circuit.cx(qreg_q[0], qreg_q[1])\n",
    "circuit.cx(qreg_q[0], qreg_q[2])\n",
    "circuit.cx(qreg_q[0], qreg_q[3])\n",
    "circuit.cx(qreg_q[0], qreg_q[4])\n",
    "circuit.barrier()\n",
    "circuit.measure(qreg_q[0], creg_c[0])\n",
    "circuit.measure(qreg_q[1], creg_c[1])\n",
    "circuit.measure(qreg_q[2], creg_c[2])\n",
    "circuit.measure(qreg_q[3], creg_c[3])\n",
    "circuit.measure(qreg_q[4], creg_c[4])\n",
    "circuit.draw()"
   ]
  },
  {
   "cell_type": "markdown",
   "id": "ab85490e-4db5-41a8-b647-b4f5488d885c",
   "metadata": {},
   "source": [
    "After running the circuit, we can get data from the job ID as follow. Note that the output from quantum device is a dictionary, but we need to convert it into an array with the order as the output of `basis_state` function. Below I "
   ]
  },
  {
   "cell_type": "code",
   "execution_count": 4,
   "id": "15e38e0a-e333-4690-b94c-fb3e6fdff8e0",
   "metadata": {},
   "outputs": [],
   "source": [
    "def get_basis_state(nqubit):\n",
    "    if nqubit <= 0:\n",
    "        print(\"nqubit should be greater than 0\")\n",
    "        return 0\n",
    "    \n",
    "    if nqubit > 1:\n",
    "        tmp1 = ['0' + i for i in get_basis_state(nqubit-1)]\n",
    "        tmp2 = ['1' + i for i in get_basis_state(nqubit-1)]\n",
    "        return tmp1 + tmp2\n",
    "    if nqubit == 1:\n",
    "        return ['0', '1']"
   ]
  },
  {
   "cell_type": "code",
   "execution_count": 5,
   "id": "ac18ff51-54fe-4f2b-8525-2d3f6265ca7a",
   "metadata": {},
   "outputs": [],
   "source": [
    "def get_data(raw, nqubit):\n",
    "    \"\"\"\n",
    "    Make sure the raw data is in the order of basis state\n",
    "    \"\"\"\n",
    "    basis_state = get_basis_state(nqubit)\n",
    "    size = 2**nqubit\n",
    "    data = np.zeros(size) * np.nan\n",
    "    for i in range(size): \n",
    "        state = basis_state[i]\n",
    "        try: \n",
    "            data[i] = raw[state]\n",
    "        except KeyError:\n",
    "            data[i] = 0\n",
    "    \n",
    "    return data/np.sum(data)"
   ]
  },
  {
   "cell_type": "code",
   "execution_count": 6,
   "id": "dd21b4ed-95ba-4f3c-8457-7a7be750594b",
   "metadata": {},
   "outputs": [
    {
     "data": {
      "text/plain": [
       "array([0.4037 , 0.00615, 0.0198 , 0.00175, 0.01625, 0.0012 , 0.0069 ,\n",
       "       0.0042 , 0.01245, 0.0028 , 0.0012 , 0.0026 , 0.0053 , 0.0061 ,\n",
       "       0.0074 , 0.01745, 0.00575, 0.0053 , 0.00075, 0.00505, 0.0008 ,\n",
       "       0.00665, 0.00085, 0.0204 , 0.0048 , 0.0141 , 0.00155, 0.0277 ,\n",
       "       0.0037 , 0.09855, 0.0116 , 0.2772 ])"
      ]
     },
     "execution_count": 6,
     "metadata": {},
     "output_type": "execute_result"
    }
   ],
   "source": [
    "# Be careful of the order of data\n",
    "job_id = '61f8c970ad876ad08263ab73'\n",
    "raw = backend.retrieve_job(job_id).result().get_counts()\n",
    "data = get_data(raw, 5)\n",
    "data"
   ]
  },
  {
   "cell_type": "markdown",
   "id": "686ffd35-40f0-4f58-8216-bac2244cea3c",
   "metadata": {},
   "source": [
    "### B. Prepare Response Matrix\n",
    "The response matrices are obtained in different ways as mentioned in the `../response` directory. We don't need to care about how to generate the response matrices here, but only load the `.txt` files and use the data directly. Here we will test the following response matrices:\n",
    "\n",
    "* **No.1:** Classical response matrix from classical calibration experiment (`../response/classical-response.ipynb`)\n",
    "* **No.2:** Scalable classical response matrix (use data in Hamming distance as 1) (`../response/simple-scalable.ipynb`)\n",
    "* **No.3:** Classical response matrix obtained from tensor product (`../response/simple-tensor.ipynb`)\n",
    "* **No.4:** Gamma matrix obtained from tensor product (`../response/gamma-matrix.ipynb`)\n",
    "* **No.5:** Scalable gamma matrix (use data in Hamming distance as 1) (`../response/simple-scalable.ipynb`)\n",
    "\n",
    "Below I will load data from the `.txt` files with corresponding response matrix number. "
   ]
  },
  {
   "cell_type": "code",
   "execution_count": 7,
   "id": "b94dc968-434a-44a8-bb0d-7a850db7266c",
   "metadata": {},
   "outputs": [],
   "source": [
    "res1 = np.loadtxt('./result/classical-response.txt')\n",
    "res2 = np.loadtxt('./result/scalable-A.txt')\n",
    "res3 = np.loadtxt('./result/simple-tensor.txt')\n",
    "res4 = np.loadtxt('./result/gamma.txt')\n",
    "res5 = np.loadtxt('./result/scalable-gamma.txt')"
   ]
  },
  {
   "cell_type": "markdown",
   "id": "e16e0359-571f-4535-a35b-93f6e8ff6805",
   "metadata": {},
   "source": [
    "### C. Run the Correction\n",
    "In the directory `../correction`, I include three noisy data unfolding methods that are widely used in current stage: inverse matrix, least square and iterative Bayesian unfolding. Here I simply copy-paste the code there and I will use all three methods to correct the noisy data and check the performance. "
   ]
  },
  {
   "cell_type": "code",
   "execution_count": 8,
   "id": "6e88b022-26e8-4d76-9d4d-a9b4a47ea525",
   "metadata": {
    "tags": []
   },
   "outputs": [],
   "source": [
    "# Inverse matrix unfolding\n",
    "import scipy.linalg as la\n",
    "\n",
    "def pseudoInverse(initialA, rawData):\n",
    "    \"\"\"\n",
    "    Following IBM Qiskit, we define a function to compute the \n",
    "    (Moore-Penrose) pseudo-inverse of a matrix as calibration.\n",
    "    \"\"\"\n",
    "    calMatrix = la.pinv(initialA)\n",
    "    return np.matmul(calMatrix, rawData)"
   ]
  },
  {
   "cell_type": "code",
   "execution_count": 9,
   "id": "3294c6c5-b798-45c1-9d13-28bea27225c9",
   "metadata": {},
   "outputs": [],
   "source": [
    "# Least Square unfolding\n",
    "from scipy.optimize import minimize\n",
    "def leastQ(initialA, rawData):\n",
    "    \"\"\"\n",
    "    Following IBM Qiskit, we define a function to compute the calibration\n",
    "    by minimizing ||Lambda * Count_est - Count_exp||_2. Make sure input \n",
    "    parameters should be probability\n",
    "    \n",
    "    Use function in this way: \n",
    "    leastQ(resMatrix/size, data/sum(data))\n",
    "    \"\"\"\n",
    "    # Make sure the element of A is probability \n",
    "    #if np.sum(initialA) > 1:\n",
    "    #    for i, _ in enumerate(initialA):\n",
    "    #        initialA[i] = initialA[i]/np.sum(initialA[i])\n",
    "    \n",
    "    # Make sure the element of data is probability \n",
    "    #if np.sum(rawData) > 1:\n",
    "    #    rawData = rawData/np.sum(rawData)\n",
    "    \n",
    "    realData = np.copy(rawData) # Deep copy\n",
    "    \n",
    "    # Define the function need to be minimized, x is the estimated true value\n",
    "    def fun(x):\n",
    "        return sum((rawData - np.dot(initialA, x))**2)\n",
    "    \n",
    "    x0 = np.random.rand(len(rawData)) # Generate random initial fitting value\n",
    "    x0 = x0 / sum(x0) # Normalized the initial value\n",
    "    \n",
    "    cons = ({'type': 'eq', 'fun': lambda x: sum(x) - 1}) # Make sure the sum of probability is \n",
    "    bnds = tuple((0, 1) for x in x0) # Make sure probability is between 0 and 1\n",
    "    mitigation = minimize(fun, x0, method='SLSQP', constraints=cons, bounds=bnds, tol=1e-6)\n",
    "    \n",
    "    return mitigation.x"
   ]
  },
  {
   "cell_type": "code",
   "execution_count": 10,
   "id": "b5383218-8d7a-472a-ae63-a6aa5b437c05",
   "metadata": {},
   "outputs": [],
   "source": [
    "# Iterative Bayesian unfolding\n",
    "def IBU(initialA, rawData, nIter):\n",
    "    \"\"\"\n",
    "    Following public code of nature paper, we define a function to compute the calibration\n",
    "    by iterative Bayesian unfolding method. Make sure input parameters should be probability\n",
    "    \n",
    "    Use function in this way: \n",
    "    IBU(resMatrix/4096, data1/sum(data1),10)\n",
    "    \"\"\"\n",
    "    dataLen = len(rawData)\n",
    "    t0 = np.ones(dataLen)\n",
    "    tn = t0\n",
    "    \n",
    "    for k in range(nIter):\n",
    "        # for k-th iteration time\n",
    "        tmp = np.ones(dataLen) # define the t_n+1 null array\n",
    "        \n",
    "        # for each element in the array\n",
    "        for i in range(dataLen): \n",
    "            jSum = 0 # initial the sum\n",
    "            for j in range(dataLen):\n",
    "                tmpSum = np.dot(initialA[j], tn) # Get sum of R_jk*t_k^n as inner product\n",
    "                jSum += initialA[j][i] * tn[i] * rawData[j] / tmpSum # sum up R_ji * t_i^n * m_j for j \n",
    "            \n",
    "            tmp[i] = np.copy(jSum)\n",
    "\n",
    "        tn = np.copy(tmp) # return the result after k-th iteration \n",
    "    return tn"
   ]
  },
  {
   "cell_type": "markdown",
   "id": "74fca19f-83e0-4ee6-9161-553cbc8d7bd5",
   "metadata": {},
   "source": [
    "Below I will run three unfolding methods and get mitigation result corresponding to the given $5$ response matrices. Note that the result data are corrected probability of getting certain basis state. "
   ]
  },
  {
   "cell_type": "code",
   "execution_count": 11,
   "id": "55bd28ca-956f-40fd-8f78-eef43c2024ab",
   "metadata": {},
   "outputs": [],
   "source": [
    "result = {}\n",
    "response = {'res1':res1, 'res2':res2, 'res3':res3, 'res4':res4, 'res5':res5}\n",
    "for i in ['res1', 'res2', 'res3', 'res4', 'res5']:\n",
    "    tmp_res = response[i]\n",
    "    tmp_inv = pseudoInverse(tmp_res, data)\n",
    "    tmp_leq = leastQ(tmp_res, data)\n",
    "    tmp_ibu = IBU(tmp_res, data, nIter = 10)\n",
    "    result[i] = {'inv': tmp_inv, 'leq': tmp_leq, 'ibu': tmp_ibu}"
   ]
  },
  {
   "cell_type": "code",
   "execution_count": 12,
   "id": "197ed35c-fe05-43cd-aae8-92f424051951",
   "metadata": {},
   "outputs": [
    {
     "data": {
      "text/plain": [
       "{'res1': {'inv': array([ 4.21059954e-01,  1.54536981e-03,  1.75826546e-02,  6.28547097e-04,\n",
       "          1.44282019e-02,  2.97260250e-04,  7.42249442e-03,  2.96290429e-03,\n",
       "          5.36565054e-03,  1.55041505e-03,  4.49152564e-05,  1.39270737e-03,\n",
       "          5.43446195e-03, -8.33401949e-03,  8.19205708e-03, -2.92906209e-02,\n",
       "          1.83414665e-03,  5.28518351e-03,  4.84275164e-04,  3.86240376e-03,\n",
       "          5.38374200e-04,  2.49705788e-03, -1.96540980e-04,  1.07465301e-02,\n",
       "          5.14450425e-03,  4.01693454e-03,  6.48741787e-04, -3.99879520e-03,\n",
       "         -1.29243895e-03,  1.21024158e-01, -2.29850227e-03,  4.01421014e-01]),\n",
       "  'leq': array([4.20180038e-01, 0.00000000e+00, 1.64757445e-02, 0.00000000e+00,\n",
       "         1.26984783e-02, 0.00000000e+00, 6.02012476e-03, 1.00627514e-17,\n",
       "         4.42491466e-03, 1.71439469e-18, 7.79270311e-19, 3.17806762e-18,\n",
       "         3.39493075e-03, 9.24959978e-18, 4.62354219e-03, 0.00000000e+00,\n",
       "         2.12785055e-04, 3.57825298e-03, 0.00000000e+00, 1.88312077e-03,\n",
       "         1.45012041e-18, 4.68108273e-04, 5.82758668e-19, 9.19052276e-03,\n",
       "         3.37710139e-03, 2.41720989e-03, 1.33492392e-18, 2.43267862e-18,\n",
       "         6.43745040e-19, 1.17608743e-01, 2.39879731e-18, 3.93446383e-01]),\n",
       "  'ibu': array([4.20544251e-01, 1.77235842e-03, 1.75691575e-02, 7.11683155e-04,\n",
       "         1.44606010e-02, 1.11278918e-04, 7.43323906e-03, 1.58455715e-03,\n",
       "         5.54209907e-03, 5.70750886e-04, 2.15922875e-04, 8.23835671e-06,\n",
       "         4.86060971e-03, 2.08732463e-05, 6.52598584e-03, 4.19589145e-05,\n",
       "         2.14797103e-03, 5.15189188e-03, 4.58795403e-04, 3.37637244e-03,\n",
       "         3.97486677e-04, 2.90772774e-03, 4.43670430e-05, 1.24616333e-02,\n",
       "         4.88595590e-03, 5.18627575e-03, 1.32355383e-04, 3.17914162e-03,\n",
       "         3.99309797e-04, 1.11363786e-01, 1.72979918e-03, 3.64203565e-01])},\n",
       " 'res2': {'inv': array([ 4.20644128e-01,  1.51496495e-03,  1.77170021e-02,  2.60715208e-04,\n",
       "          1.43770158e-02,  9.58445342e-04,  7.24127969e-03,  4.93848021e-03,\n",
       "          5.37197965e-03,  2.71716088e-03, -5.61649787e-04,  6.40186150e-03,\n",
       "          5.90349270e-03, -6.48858645e-03,  1.03014993e-02, -2.87578669e-02,\n",
       "          1.87927997e-03,  5.57834718e-03,  3.35624535e-04,  5.35246458e-03,\n",
       "          7.05920788e-04,  3.33205922e-03,  6.97600872e-04,  1.03293148e-02,\n",
       "          5.42557816e-03,  5.71217846e-03,  2.29735516e-03, -3.95808090e-03,\n",
       "         -4.57352258e-04,  1.17098107e-01, -2.25592004e-03,  3.85387599e-01]),\n",
       "  'leq': array([4.19754305e-01, 9.12655077e-04, 1.66723109e-02, 7.86046575e-19,\n",
       "         1.34788752e-02, 9.14795583e-19, 6.33700789e-03, 2.05928533e-03,\n",
       "         4.59341516e-03, 1.23829189e-03, 0.00000000e+00, 1.50045831e-03,\n",
       "         4.37590326e-03, 0.00000000e+00, 7.11169172e-03, 1.60394159e-17,\n",
       "         8.19571611e-04, 4.60239035e-03, 3.38813179e-19, 3.73831899e-03,\n",
       "         3.04931861e-19, 1.97312392e-03, 0.00000000e+00, 9.29079648e-03,\n",
       "         4.16890729e-03, 4.44573169e-03, 2.72103040e-04, 0.00000000e+00,\n",
       "         1.43656788e-18, 1.14453837e-01, 1.35525272e-19, 3.78201021e-01]),\n",
       "  'ibu': array([4.20093997e-01, 1.81052775e-03, 1.75614620e-02, 8.04377847e-04,\n",
       "         1.44500337e-02, 6.14791520e-04, 7.46330698e-03, 3.32151438e-03,\n",
       "         5.55043648e-03, 2.06819491e-03, 1.79746964e-04, 2.10406017e-03,\n",
       "         5.51854426e-03, 4.58583217e-05, 8.32401265e-03, 8.42711527e-05,\n",
       "         2.18283043e-03, 5.44390192e-03, 4.66970806e-04, 4.55394144e-03,\n",
       "         6.14254690e-04, 3.79211297e-03, 3.44431547e-04, 1.25283790e-02,\n",
       "         5.26199287e-03, 6.53484313e-03, 1.30009008e-03, 5.09710664e-03,\n",
       "         6.11893758e-04, 1.08789960e-01, 2.08245906e-03, 3.50399696e-01])},\n",
       " 'res3': {'inv': array([ 4.27112521e-01,  6.51844302e-04,  1.53514563e-02,  1.24867224e-03,\n",
       "          1.22177891e-02,  6.53143528e-04,  6.79573063e-03,  3.83353717e-03,\n",
       "          8.93924522e-03,  2.25246201e-03,  3.67132485e-04,  1.27825805e-03,\n",
       "          5.08490570e-03,  2.14433383e-03,  7.18519069e-03,  7.47253507e-03,\n",
       "         -6.95218946e-04,  5.31018335e-03,  4.16510288e-05,  4.16723684e-03,\n",
       "          1.23661764e-04,  3.98924601e-03, -1.02894853e-03,  1.53438699e-02,\n",
       "          3.97401960e-03,  9.28287718e-03, -4.23006648e-04,  1.34624013e-02,\n",
       "         -7.29166549e-03,  1.12508269e-01, -2.14132743e-02,  3.60059941e-01]),\n",
       "  'leq': array([4.26172769e-01, 1.49806247e-17, 1.44471769e-02, 2.14015476e-04,\n",
       "         1.13685133e-02, 0.00000000e+00, 5.77558929e-03, 2.70099673e-03,\n",
       "         8.28023536e-03, 1.28779132e-03, 1.08420217e-19, 1.75782472e-04,\n",
       "         3.79786432e-03, 1.08821897e-03, 4.99574206e-03, 6.49057928e-03,\n",
       "         2.20228566e-19, 4.16370689e-03, 0.00000000e+00, 3.01147357e-03,\n",
       "         1.29257228e-18, 2.78348606e-03, 2.18534500e-18, 1.39388622e-02,\n",
       "         2.44140157e-03, 8.37382827e-03, 0.00000000e+00, 1.21658499e-02,\n",
       "         5.96819415e-18, 1.10336383e-01, 0.00000000e+00, 3.55989734e-01]),\n",
       "  'ibu': array([4.25398244e-01, 1.35523902e-03, 1.53324061e-02, 1.23609509e-03,\n",
       "         1.22115326e-02, 6.19799345e-04, 6.69557347e-03, 3.85552337e-03,\n",
       "         8.99493831e-03, 2.19795822e-03, 3.81630148e-04, 1.19517373e-03,\n",
       "         4.72392759e-03, 2.54697764e-03, 6.18182624e-03, 8.69088577e-03,\n",
       "         5.15604219e-04, 5.13268102e-03, 5.89273735e-05, 4.15010395e-03,\n",
       "         4.08500809e-05, 4.10089335e-03, 4.92140950e-07, 1.44402601e-02,\n",
       "         3.36793322e-03, 9.82022538e-03, 3.63391954e-06, 1.33293301e-02,\n",
       "         2.45500405e-06, 1.05208421e-01, 8.08047862e-06, 3.38202378e-01])},\n",
       " 'res4': {'inv': array([ 4.30493665e-01,  3.46904334e-04,  1.12790289e-02,  1.25702321e-03,\n",
       "          1.09368777e-02,  3.41328847e-04,  6.13755124e-03,  3.55039037e-03,\n",
       "          8.75086923e-03,  2.37818325e-03,  3.95269358e-04,  1.39355823e-03,\n",
       "          5.05642578e-03,  8.70884381e-04,  8.14469009e-03,  4.40432360e-03,\n",
       "          3.85885159e-04,  4.45656074e-03,  7.71190445e-05,  2.90126256e-03,\n",
       "          9.09438448e-04, -5.25609962e-03,  1.41558941e-03, -1.79501818e-02,\n",
       "          4.06012619e-03,  1.15852111e-02, -1.59997770e-03,  2.34182845e-02,\n",
       "         -9.41612376e-03,  1.03624823e-01, -3.56251346e-02,  4.21276244e-01]),\n",
       "  'leq': array([4.28706471e-01, 0.00000000e+00, 8.59562880e-03, 1.05709712e-18,\n",
       "         8.98863587e-03, 0.00000000e+00, 4.20569078e-03, 0.00000000e+00,\n",
       "         6.22275560e-03, 1.08420217e-19, 1.32814766e-18, 3.81503639e-18,\n",
       "         2.07806056e-03, 7.16928687e-18, 3.41639297e-03, 1.53818003e-03,\n",
       "         0.00000000e+00, 1.20229763e-03, 0.00000000e+00, 0.00000000e+00,\n",
       "         3.00188477e-18, 0.00000000e+00, 2.28360083e-18, 0.00000000e+00,\n",
       "         1.63968832e-04, 9.02770913e-03, 0.00000000e+00, 1.94669975e-02,\n",
       "         0.00000000e+00, 9.76705398e-02, 9.80525340e-18, 4.08716671e-01]),\n",
       "  'ibu': array([4.29097832e-01, 1.31703834e-03, 1.13575245e-02, 1.23777441e-03,\n",
       "         1.08976205e-02, 1.72295750e-04, 6.20808914e-03, 2.32615480e-03,\n",
       "         8.86015437e-03, 2.22479647e-03, 3.71517208e-04, 1.33571919e-03,\n",
       "         4.51960734e-03, 1.69746364e-03, 6.10852700e-03, 7.97458242e-03,\n",
       "         1.01730906e-03, 4.00089434e-03, 3.11041781e-05, 2.21869941e-03,\n",
       "         9.89976470e-07, 5.34604833e-05, 8.72148986e-09, 2.90871670e-04,\n",
       "         3.14870949e-03, 1.26111674e-02, 3.31356158e-06, 2.27042819e-02,\n",
       "         7.50459199e-07, 8.98231827e-02, 2.14944698e-06, 3.68386410e-01])},\n",
       " 'res5': {'inv': array([ 4.29809181e-01,  4.50623807e-04,  1.13889037e-02,  1.32335982e-03,\n",
       "          1.10672392e-02,  5.54154539e-04,  5.44664884e-03,  5.73052091e-03,\n",
       "          8.78311592e-03,  2.57748155e-03,  4.14651285e-04,  2.19686994e-03,\n",
       "          5.13907571e-03,  2.65882122e-03,  1.04845497e-02,  4.20189197e-03,\n",
       "          5.43748049e-04,  4.75518209e-03, -1.78124004e-04,  4.70109924e-03,\n",
       "          8.34683485e-04, -1.15821552e-03,  6.91552588e-03, -1.73643196e-02,\n",
       "          4.33515664e-03,  1.26980293e-02,  5.38855672e-04,  2.23168755e-02,\n",
       "         -4.76694379e-03,  9.95110053e-02, -3.44865516e-02,  3.98576904e-01]),\n",
       "  'leq': array([4.28546536e-01, 0.00000000e+00, 9.75086303e-03, 0.00000000e+00,\n",
       "         9.85362731e-03, 5.42101086e-19, 4.88707513e-03, 2.67524628e-03,\n",
       "         7.18455537e-03, 7.42458172e-04, 9.08019319e-19, 1.21972744e-19,\n",
       "         3.55013752e-03, 7.66410492e-04, 6.50000238e-03, 2.90254087e-03,\n",
       "         1.02999206e-18, 2.75008965e-03, 6.77626358e-20, 1.63542050e-03,\n",
       "         5.28548559e-19, 0.00000000e+00, 1.24683250e-18, 0.00000000e+00,\n",
       "         2.05509451e-03, 1.09239601e-02, 8.67361738e-19, 2.03319656e-02,\n",
       "         0.00000000e+00, 9.65765557e-02, 0.00000000e+00, 3.88367462e-01]),\n",
       "  'ibu': array([4.28341557e-01, 1.37757077e-03, 1.14585297e-02, 1.38871071e-03,\n",
       "         1.10724974e-02, 5.46279112e-04, 6.23222659e-03, 4.32313137e-03,\n",
       "         8.89531052e-03, 2.46189695e-03, 5.52664697e-04, 2.01404600e-03,\n",
       "         5.03846733e-03, 2.84674712e-03, 8.19313061e-03, 7.60509966e-03,\n",
       "         1.16955631e-03, 4.49997824e-03, 2.26019707e-04, 3.85883313e-03,\n",
       "         6.36630031e-04, 4.31983153e-04, 7.23659580e-04, 8.78871923e-04,\n",
       "         3.90899708e-03, 1.33476315e-02, 3.74212134e-05, 2.25837994e-02,\n",
       "         7.70573735e-06, 9.04148309e-02, 1.11071810e-05, 3.54915110e-01])}}"
      ]
     },
     "execution_count": 12,
     "metadata": {},
     "output_type": "execute_result"
    }
   ],
   "source": [
    "result"
   ]
  },
  {
   "cell_type": "markdown",
   "id": "c334f6ae-1941-4186-9236-c835ca50df08",
   "metadata": {},
   "source": [
    "### D. Evaluate the performace\n",
    "Here I will use the fidelity to measure the difference between the mitigated state $|\\psi\\rangle$ and the ideal state $|\\phi\\rangle = |{\\rm GHZ}\\rangle$. The density matrix of state $|\\phi\\rangle$ is given by $\\sigma = |{\\rm GHZ}\\rangle\\langle {\\rm GHZ}|$. Here I calculate $\\sigma$ below. "
   ]
  },
  {
   "cell_type": "code",
   "execution_count": 13,
   "id": "7234d6a8-e1c9-4895-a673-a7ccec1b51bc",
   "metadata": {},
   "outputs": [
    {
     "data": {
      "text/plain": [
       "array([[0.5, 0. , 0. , ..., 0. , 0. , 0.5],\n",
       "       [0. , 0. , 0. , ..., 0. , 0. , 0. ],\n",
       "       [0. , 0. , 0. , ..., 0. , 0. , 0. ],\n",
       "       ...,\n",
       "       [0. , 0. , 0. , ..., 0. , 0. , 0. ],\n",
       "       [0. , 0. , 0. , ..., 0. , 0. , 0. ],\n",
       "       [0.5, 0. , 0. , ..., 0. , 0. , 0.5]])"
      ]
     },
     "execution_count": 13,
     "metadata": {},
     "output_type": "execute_result"
    }
   ],
   "source": [
    "import numpy as np\n",
    "nqubit = 5\n",
    "phi = np.ones((2**nqubit, 1)) * 0 # This should be a n*1 matrix, or column matrix, or shape (2**n, 1)\n",
    "phi[0] = (1/np.sqrt(2))\n",
    "phi[-1] = (1/np.sqrt(2))\n",
    "phi_dagger = np.conjugate(phi).T # This should be a 1*n matrix, or row matrix, or shape (1, 2**n)\n",
    "sigma = np.matmul(phi, phi_dagger)\n",
    "sigma"
   ]
  },
  {
   "cell_type": "markdown",
   "id": "879e22ee-9947-4889-b9de-b67d543a4fde",
   "metadata": {},
   "source": [
    "Note that the mitigated result are in probability, and we need to add a square root to make sure they are in the form of \n",
    "\\begin{equation}\n",
    "|\\psi\\rangle = \\sum c_{i}|i\\rangle = \\sum \\sqrt{p_{i}}|i\\rangle\n",
    "\\end{equation}\n",
    "(I don't use this here) Below I define `func` to convert the given mitigated probability into complex form, which is convenient to get the $c_i$ from $\\sqrt{p_i}$ if mitigated $p_i$ is negative (especially for inverse matrix). "
   ]
  },
  {
   "cell_type": "code",
   "execution_count": 14,
   "id": "dcf95baf-110a-454d-88ed-8bc1eb006fff",
   "metadata": {},
   "outputs": [],
   "source": [
    "score = {}\n",
    "#func = lambda i:complex(i)\n",
    "for i in ['res1', 'res2', 'res3', 'res4', 'res5']:\n",
    "    tmp_score = {}\n",
    "    for j in ['leq', 'ibu']: # ['inv', 'leq', 'ibu']\n",
    "        tmp = np.array([result[i][j]]).T\n",
    "        #psi = np.sqrt(np.array(list(map(func, result[i][j]))))\n",
    "        psi = np.sqrt(tmp)   # use this if probability are all non-negative\n",
    "        tmp_score[j] = fidelity(psi, sigma)\n",
    "        \n",
    "    score[i] = tmp_score"
   ]
  },
  {
   "cell_type": "markdown",
   "id": "256561be-619d-447a-9043-9e751113f612",
   "metadata": {},
   "source": [
    "Recall here we have five response with number:\n",
    "* **No.1:** Classical response matrix\n",
    "* **No.2:** Scalable classical response matrix\n",
    "* **No.3:** Classical response matrix obtained from tensor product\n",
    "* **No.4:** Gamma matrix obtained from tensor product (`../response/gamma-matrix.ipynb`)\n",
    "* **No.5:** Scalable gamma matrix"
   ]
  },
  {
   "cell_type": "code",
   "execution_count": 15,
   "id": "bb9bfdb4-4191-405f-b0c7-15b452398ee5",
   "metadata": {},
   "outputs": [
    {
     "data": {
      "text/plain": [
       "{'res1': {'leq': 0.9018906593570427, 'ibu': 0.8852882412194392},\n",
       " 'res2': {'leq': 0.8929803969365567, 'ibu': 0.8768776552601821},\n",
       " 'res3': {'leq': 0.8835071870182769, 'ibu': 0.8724122999955259},\n",
       " 'res4': {'leq': 0.9150430773269651, 'ibu': 0.8923716114997946},\n",
       " 'res5': {'leq': 0.9035594372314838, 'ibu': 0.8840430007871095}}"
      ]
     },
     "execution_count": 15,
     "metadata": {},
     "output_type": "execute_result"
    }
   ],
   "source": [
    "score"
   ]
  }
 ],
 "metadata": {
  "kernelspec": {
   "display_name": "Qiskit v0.34.1 (ipykernel)",
   "language": "python",
   "name": "python3"
  },
  "language_info": {
   "codemirror_mode": {
    "name": "ipython",
    "version": 3
   },
   "file_extension": ".py",
   "mimetype": "text/x-python",
   "name": "python",
   "nbconvert_exporter": "python",
   "pygments_lexer": "ipython3",
   "version": "3.8.12"
  },
  "widgets": {
   "application/vnd.jupyter.widget-state+json": {
    "state": {},
    "version_major": 2,
    "version_minor": 0
   }
  }
 },
 "nbformat": 4,
 "nbformat_minor": 5
}
