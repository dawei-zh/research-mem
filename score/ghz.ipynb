{
 "cells": [
  {
   "cell_type": "markdown",
   "id": "f8aeef99-424c-42c8-9f6c-f03b6f4b4754",
   "metadata": {},
   "source": [
    "# GHZ State Correction\n",
    "\n",
    "In this notebook, I will provide a code to correct GHZ state with different response matrix, and compare the performance of different error mitigation method. \n",
    "\n",
    "## I. Introduction of Background Knowledge\n",
    "In this section, I will introduce GHZ state and the fidelity. \n",
    "### A. The GHZ State\n",
    "To evaluate the performance of various measurement error mitigation method, we need to compare the mitigation result of different methods with given ideal state. One of commonly used quantum state in quantum computation is the Greenberger–Horne–Zeilinger state (GHZ state). GHZ state was firstly designed for a 3 qubits case, and we can generalize the GHZ state to any $n\\geq 2$ case as\n",
    "\\begin{equation}\n",
    "|{\\rm GHZ}\\rangle = \\frac{|0\\rangle^{\\otimes n} +|1\\rangle^{\\otimes n} }{\\sqrt{2}}\n",
    "\\end{equation}\n",
    "As an example, I will evaluate the performance of different mitigation method using the ideal $n=5$ GHZ state\n",
    "\\begin{equation}\n",
    "|{\\rm GHZ}\\rangle = \\frac{|00000\\rangle +|11111\\rangle }{\\sqrt{2}}\n",
    "\\end{equation}\n",
    "\n",
    "\n",
    "### B. The Fidelity\n",
    "The fidelity is used to measure the difference of two quantum state $\\rho = |\\psi\\rangle\\langle\\psi|$ and $\\sigma = |\\phi\\rangle\\langle\\phi|$, \n",
    "\\begin{equation}\n",
    "F(\\rho, \\sigma) = {\\rm tr}\\left(\\sqrt{\\rho^{1/2}\\sigma\\rho^{1/2}}\\right)\n",
    "\\end{equation}\n",
    "Note that $0\\leq F\\leq 1$, $F = 1$ if $\\rho=\\sigma$ and $F=0$ if $\\langle \\psi|\\phi\\rangle = 0$. For a pure state $|\\psi\\rangle$ and arbitrary state $\\sigma$, the fidelity can be re-written as\n",
    "\\begin{equation}\n",
    "F(|\\psi\\rangle, \\sigma) = \\sqrt{\\langle\\psi|\\sigma|\\psi\\rangle}\n",
    "\\end{equation}\n",
    "\n",
    "Below I define a function `fidelity` to get the fidelity between 5-qubit GHZ state and the correction state. Note that function `fidelity` bases on the definition for pure state $|\\psi\\rangle$. "
   ]
  },
  {
   "cell_type": "code",
   "execution_count": null,
   "id": "8d2ada30-0a34-498e-bf46-cd8b09f538ac",
   "metadata": {},
   "outputs": [],
   "source": [
    "def fidelity(psi, sigma):\n",
    "    # Make sure psi is a column vector\n",
    "    try: \n",
    "        if psi.shape[1] != 1:\n",
    "            return np.nan\n",
    "    except IndexError:\n",
    "        return np.nan\n",
    "    \n",
    "    psi_dagger = np.conjugate(psi).T\n",
    "    # Make sure output is a number\n",
    "    return np.sqrt(np.matmul(psi_dagger, np.matmul(sigma, psi)))[0,0]"
   ]
  },
  {
   "cell_type": "code",
   "execution_count": null,
   "id": "6e88b022-26e8-4d76-9d4d-a9b4a47ea525",
   "metadata": {},
   "outputs": [],
   "source": []
  }
 ],
 "metadata": {
  "kernelspec": {
   "display_name": "Qiskit v0.34.1 (ipykernel)",
   "language": "python",
   "name": "python3"
  },
  "language_info": {
   "codemirror_mode": {
    "name": "ipython",
    "version": 3
   },
   "file_extension": ".py",
   "mimetype": "text/x-python",
   "name": "python",
   "nbconvert_exporter": "python",
   "pygments_lexer": "ipython3",
   "version": "3.8.12"
  },
  "widgets": {
   "application/vnd.jupyter.widget-state+json": {
    "state": {},
    "version_major": 2,
    "version_minor": 0
   }
  }
 },
 "nbformat": 4,
 "nbformat_minor": 5
}
