{
 "cells": [
  {
   "cell_type": "code",
   "execution_count": 1,
   "id": "f7fd36f9-c1f1-448d-8658-cd96da1dbde7",
   "metadata": {},
   "outputs": [],
   "source": [
    "import numpy as np\n",
    "\n",
    "# Importing standard Qiskit libraries\n",
    "from qiskit import QuantumCircuit, transpile, Aer, IBMQ\n",
    "from qiskit.tools.jupyter import *\n",
    "from qiskit.visualization import *\n",
    "from ibm_quantum_widgets import *\n",
    "from qiskit.providers.aer import QasmSimulator\n",
    "\n",
    "# Loading your IBM Quantum account(s)\n",
    "provider = IBMQ.load_account()"
   ]
  },
  {
   "cell_type": "markdown",
   "id": "4178e2de-4dd3-454f-a2ee-3f2e95d6ee33",
   "metadata": {},
   "source": [
    "### Hamming Distance Region"
   ]
  },
  {
   "cell_type": "code",
   "execution_count": 2,
   "id": "d513c979-1a4d-4872-a345-c9a21208c758",
   "metadata": {},
   "outputs": [],
   "source": [
    "def HammingD(rowLabel, colLabel):\n",
    "    HammingD = 0\n",
    "    rowLabel = str(rowLabel)\n",
    "    colLabel = str(colLabel)\n",
    "    \n",
    "    if len(rowLabel) != len(colLabel):\n",
    "        return np.nan\n",
    "        \n",
    "    for i in range(len(rowLabel)):\n",
    "        if rowLabel[i] != colLabel[i]:\n",
    "            HammingD += 1\n",
    "    return HammingD"
   ]
  },
  {
   "cell_type": "code",
   "execution_count": 3,
   "id": "3ae31b9b-e661-444d-a5b2-730c046121d0",
   "metadata": {},
   "outputs": [],
   "source": [
    "nQubit  = 4\n",
    "rowLabel = ['0000', '0001', '0010', '0011', '0100', '0101', '0110', '0111', \n",
    "            '1000', '1001', '1010', '1011', '1100', '1101', '1110', '1111']\n",
    "colLabel = ['0000', '0001', '0010', '0011', '0100', '0101', '0110', '0111', \n",
    "            '1000', '1001', '1010', '1011', '1100', '1101', '1110', '1111']\n",
    "\n",
    "HammingMap = np.ones((len(rowLabel),len(colLabel))) * 0\n",
    "for i in range(len(rowLabel)):\n",
    "    for j in range(len(colLabel)):\n",
    "        HammingMap[i][j] = HammingD(rowLabel[i], colLabel[j])"
   ]
  },
  {
   "cell_type": "code",
   "execution_count": 4,
   "id": "d833b54b-3966-4d5b-881c-713c61b8480d",
   "metadata": {},
   "outputs": [],
   "source": [
    "rowLabel5 = ['00000', '00001', '00010', '00011', '00100', '00101', '00110', '00111', \n",
    "            '01000', '01001', '01010', '01011', '01100', '01101', '01110', '01111', \n",
    "            '10000', '10001', '10010', '10011', '10100', '10101', '10110', '10111', \n",
    "            '11000', '11001', '11010', '11011', '11100', '11101', '11110', '11111']\n",
    "colLabel5 = ['00000', '00001', '00010', '00011', '00100', '00101', '00110', '00111', \n",
    "            '01000', '01001', '01010', '01011', '01100', '01101', '01110', '01111', \n",
    "            '10000', '10001', '10010', '10011', '10100', '10101', '10110', '10111', \n",
    "            '11000', '11001', '11010', '11011', '11100', '11101', '11110', '11111']\n",
    "\n",
    "HammingMap5 = np.ones((len(rowLabel5),len(colLabel5))) * 0\n",
    "for i in range(len(rowLabel5)):\n",
    "    for j in range(len(colLabel5)):\n",
    "        HammingMap5[i][j] = HammingD(rowLabel5[i], colLabel5[j])"
   ]
  },
  {
   "cell_type": "code",
   "execution_count": 5,
   "id": "89822beb-6218-4dc1-a231-8f5fa3da891b",
   "metadata": {},
   "outputs": [
    {
     "data": {
      "text/plain": [
       "<AxesSubplot:>"
      ]
     },
     "execution_count": 5,
     "metadata": {},
     "output_type": "execute_result"
    },
    {
     "data": {
      "image/png": "[encoded data removed]",
      "text/plain": [
       "<Figure size 432x288 with 2 Axes>"
      ]
     },
     "metadata": {
      "needs_background": "light"
     },
     "output_type": "display_data"
    }
   ],
   "source": [
    "import seaborn as sns\n",
    "\n",
    "sns.heatmap(\n",
    "    HammingMap, \n",
    "    vmin=0, vmax=4,\n",
    "    cmap=sns.diverging_palette(20, 220, n=200),\n",
    "    square=True\n",
    ")"
   ]
  },
  {
   "cell_type": "code",
   "execution_count": 6,
   "id": "37b73dd5-2c33-4eb0-aa51-51a8d33f459d",
   "metadata": {},
   "outputs": [
    {
     "data": {
      "text/plain": [
       "<AxesSubplot:>"
      ]
     },
     "execution_count": 6,
     "metadata": {},
     "output_type": "execute_result"
    },
    {
     "data": {
      "image/png": "[encoded data removed]",
      "text/plain": [
       "<Figure size 432x288 with 2 Axes>"
      ]
     },
     "metadata": {
      "needs_background": "light"
     },
     "output_type": "display_data"
    }
   ],
   "source": [
    "import seaborn as sns\n",
    "\n",
    "sns.heatmap(\n",
    "    HammingMap5, \n",
    "    vmin=0, vmax=4,\n",
    "    cmap=sns.diverging_palette(20, 220, n=200),\n",
    "    square=True\n",
    ")"
   ]
  },
  {
   "cell_type": "markdown",
   "id": "56eae301-9999-4436-bd2c-ad7404c927ee",
   "metadata": {},
   "source": [
    "### Data\n",
    "\n",
    "Below is three output for 4-qubit GHZ state. "
   ]
  },
  {
   "cell_type": "code",
   "execution_count": 7,
   "id": "48a806e9-07e5-4b7e-b55f-d80400cc81e2",
   "metadata": {},
   "outputs": [],
   "source": [
    "data1 = np.array([1731, 44, 29, 86, 8, 9, 6, 80, 23, 2, 4, 78, 38, 82, 135, 1741])\n",
    "data2 = np.array([1713, 88, 33, 54, 11, 19, 13, 74, 22, 3, 18, 77, 32, 91, 130, 1718])\n",
    "data3 = np.array([8284, 155, 125, 307, 156, 73, 49, 731, 127, 38, 97, 284, 311, 444, 553, 8266])"
   ]
  },
  {
   "cell_type": "code",
   "execution_count": 8,
   "id": "73a3174d-9c9d-4169-8db0-966ce17ad7b7",
   "metadata": {},
   "outputs": [],
   "source": [
    "# Make sure data counts are in probability\n",
    "data1 = data1/sum(data1)\n",
    "data2 = data1/sum(data2)\n",
    "data3 = data1/sum(data3)"
   ]
  },
  {
   "cell_type": "markdown",
   "id": "ff904483-90aa-4430-be27-99e979b685dc",
   "metadata": {},
   "source": [
    "### Response Construction\n",
    "\n",
    "I perform a calibration experiment with IBMq-lima, and below is the calibration matrix for 4096 shots. More precise result should consider the statistical fluctuation of individual calibration experiment."
   ]
  },
  {
   "cell_type": "code",
   "execution_count": 9,
   "id": "15bf201b-c18d-469a-8716-bf11b617ea06",
   "metadata": {},
   "outputs": [],
   "source": [
    "# Calibration matrix\n",
    "resMatrix = np.array([[3977, 23, 21, 0, 21, 0, 1, 0, 48, 0, 0, 0, 5, 0, 0, 0],\n",
    "                      [119, 3861, 4, 19, 2, 28, 0, 1, 1, 55, 0, 1, 1, 4, 0, 0], \n",
    "                      [168, 2, 3803, 25, 5, 0, 38, 0, 2, 0, 49, 0, 0, 0, 4, 0], \n",
    "                      [5, 134, 133, 3750, 1, 1, 0, 21, 0, 1, 2, 43, 0, 1, 0, 4], \n",
    "                      [169, 0, 3, 0, 3834, 20, 13, 0, 7, 0, 0, 0, 49, 1, 0, 0], \n",
    "                      [6, 154, 1, 4, 153, 3723, 1, 20, 0, 5, 0, 0, 1, 26, 0, 1], \n",
    "                      [12, 0, 180, 2, 134, 3, 3710, 13, 0, 0, 2, 0, 0, 0, 39, 1], \n",
    "                      [1, 6, 5, 151, 8, 128, 142, 3609, 0, 0, 0, 8, 0, 0, 1, 37], \n",
    "                      [150, 0, 1, 0, 1, 0, 0, 0, 3877, 21, 11, 0, 33, 0, 2, 0], \n",
    "                      [7, 112, 1, 2, 0, 6, 0, 0, 117, 3806, 1, 25, 2, 17, 0, 0], \n",
    "                      [10, 0, 147, 1, 0, 0, 1, 0, 139, 2, 3746, 17, 2, 0, 31, 0], \n",
    "                      [0, 2, 9, 120, 0, 0, 0, 3, 7, 161, 140, 3635, 0, 2, 0, 17], \n",
    "                      [10, 0, 0, 0, 137, 0, 2, 0, 172, 3, 1, 1, 3726, 24, 19, 1], \n",
    "                      [0, 13, 0, 2, 6, 134, 0, 1, 6, 196, 0, 1, 138, 3585, 0, 14], \n",
    "                      [1, 0, 6, 0, 6, 0, 153, 1, 1, 0, 156, 2, 131, 0, 3612, 27], \n",
    "                      [0, 0, 0, 17, 0, 5, 4, 127, 1, 6, 7, 129, 3, 169, 105, 3523]])\n",
    "\n",
    "# Make sure each element A_ij is in P(m = i|t = j)\n",
    "resMatrix = resMatrix/4096"
   ]
  },
  {
   "cell_type": "code",
   "execution_count": 10,
   "id": "b7bccfd8-5fd8-4916-a360-c8ca3339b435",
   "metadata": {},
   "outputs": [],
   "source": [
    "import matplotlib.pyplot as plt\n",
    "\n",
    "tmpRes = np.copy(resMatrix)\n",
    "for i, _ in enumerate(resMatrix):\n",
    "    tmpRes[i][i] = 0"
   ]
  },
  {
   "cell_type": "code",
   "execution_count": 11,
   "id": "918462de-fc76-4b4c-9595-9ff879ef6adc",
   "metadata": {},
   "outputs": [
    {
     "data": {
      "image/png": "[encoded data removed]",
      "text/plain": [
       "<Figure size 432x288 with 2 Axes>"
      ]
     },
     "metadata": {
      "needs_background": "light"
     },
     "output_type": "display_data"
    }
   ],
   "source": [
    "sns.heatmap(\n",
    "    tmpRes, \n",
    "    vmin=0, vmax=0.05,\n",
    "    #cmap=sns.color_palette(\"Blues\", as_cmap=True),\n",
    "    cmap = YlGnBu\n",
    "    xticklabels = rowLabel,\n",
    "    yticklabels = colLabel,\n",
    "    square=True\n",
    ")\n",
    "plt.savefig('response.pdf')"
   ]
  },
  {
   "cell_type": "code",
   "execution_count": 12,
   "id": "155b53b3-e819-469d-a6b6-f4b106496aa0",
   "metadata": {},
   "outputs": [],
   "source": [
    "import scipy.linalg as la\n",
    "\n",
    "def pseudoInverse(initialA, rawData):\n",
    "    \"\"\"\n",
    "    Following IBM Qiskit, we define a function to compute the \n",
    "    (Moore-Penrose) pseudo-inverse of a matrix as calibration.\n",
    "    \"\"\"\n",
    "    calMatrix = la.pinv(initialA)\n",
    "    return np.dot(calMatrix, initialA)"
   ]
  },
  {
   "cell_type": "code",
   "execution_count": 13,
   "id": "616f1537-722b-407b-84b4-ae41759a7128",
   "metadata": {},
   "outputs": [],
   "source": [
    "from scipy.optimize import minimize\n",
    "def leastQ(initialA, rawData):\n",
    "    \"\"\"\n",
    "    Following IBM Qiskit, we define a function to compute the calibration\n",
    "    by minimizing ||Lambda * Count_est - Count_exp||_2. Make sure input \n",
    "    parameters should be probability\n",
    "    \n",
    "    Use function in this way: \n",
    "    leastQ(resMatrix/size, data/sum(data))\n",
    "    \"\"\"\n",
    "    # Make sure the element of A is probability \n",
    "    #if np.sum(initialA) > 1:\n",
    "    #    for i, _ in enumerate(initialA):\n",
    "    #        initialA[i] = initialA[i]/np.sum(initialA[i])\n",
    "    \n",
    "    # Make sure the element of data is probability \n",
    "    #if np.sum(rawData) > 1:\n",
    "    #    rawData = rawData/np.sum(rawData)\n",
    "    \n",
    "    realData = np.copy(rawData) # Deep copy\n",
    "    \n",
    "    # Define the function need to be minimized, x is the estimated true value\n",
    "    def fun(x):\n",
    "        return sum((rawData - np.dot(initialA, x))**2)\n",
    "    \n",
    "    x0 = np.random.rand(len(rawData)) # Generate random initial fitting value\n",
    "    x0 = x0 / sum(x0) # Normalized the initial value\n",
    "    \n",
    "    cons = ({'type': 'eq', 'fun': lambda x: sum(x) - 1}) # Make sure the sum of probability is \n",
    "    bnds = tuple((0, 1) for x in x0) # Make sure probability is between 0 and 1\n",
    "    mitigation = minimize(fun, x0, method='SLSQP', constraints=cons, bounds=bnds, tol=1e-6)\n",
    "    \n",
    "    return mitigation.x"
   ]
  },
  {
   "cell_type": "code",
   "execution_count": 14,
   "id": "28014fa5-fd3c-4d9c-bc2a-8738e7c0fe88",
   "metadata": {},
   "outputs": [],
   "source": [
    "def IBU(initialA, rawData, nIter):\n",
    "    \"\"\"\n",
    "    Following public code of nature paper, we define a function to compute the calibration\n",
    "    by iterative Bayesian unfolding method. Make sure input parameters should be probability\n",
    "    \n",
    "    Use function in this way: \n",
    "    IBU(resMatrix/4096, data1/sum(data1),10)\n",
    "    \"\"\"\n",
    "    dataLen = len(rawData)\n",
    "    t0 = np.ones(dataLen)\n",
    "    tn = t0\n",
    "    \n",
    "    for k in range(nIter):\n",
    "        # for k-th iteration time\n",
    "        tmp = np.ones(dataLen) # define the t_n+1 null array\n",
    "        \n",
    "        # for each element in the array\n",
    "        for i in range(dataLen): \n",
    "            jSum = 0 # initial the sum\n",
    "            for j in range(dataLen):\n",
    "                tmpSum = np.dot(initialA[j], tn) # Get sum of R_jk*t_k^n as inner product\n",
    "                jSum += initialA[j][i] * tn[i] * rawData[j] / tmpSum # sum up R_ji * t_i^n * m_j for j \n",
    "            \n",
    "            tmp[i] = np.copy(jSum)\n",
    "\n",
    "        tn = np.copy(tmp) # return the result after k-th iteration \n",
    "    return tn"
   ]
  },
  {
   "cell_type": "code",
   "execution_count": 15,
   "id": "18d5497a-a525-44ad-a4d3-9a79c27c7b71",
   "metadata": {},
   "outputs": [],
   "source": [
    "Gamma = np.array([[9.92520864e-01, 1.24239043e-02, 1.07439364e-02, 1.34487487e-04,\n",
    "        6.26478454e-03, 7.84195941e-05, 6.78156490e-05, 8.48884050e-07,\n",
    "        6.26478454e-03, 7.84195941e-05, 6.78156490e-05, 8.48884050e-07,\n",
    "        3.95432748e-05, 4.94983913e-07, 4.28051887e-07, 5.35815000e-09],\n",
    "       [1.39147728e-03, 9.81488437e-01, 1.50625986e-05, 1.06245115e-02,\n",
    "        8.78299454e-06, 6.19514794e-03, 9.50750136e-08, 6.70618400e-05,\n",
    "        8.78299454e-06, 6.19514794e-03, 9.50750136e-08, 6.70618400e-05,\n",
    "        5.54381982e-08, 3.91037291e-05, 6.00112800e-10, 4.23293850e-07],\n",
    "       [2.28806053e-03, 2.86408538e-05, 9.84064989e-01, 1.23180576e-02,\n",
    "        1.44422215e-05, 1.80780863e-07, 6.21141111e-03, 7.77514910e-05,\n",
    "        1.44422215e-05, 1.80780863e-07, 6.21141111e-03, 7.77514910e-05,\n",
    "        9.11591982e-08, 1.14108750e-09, 3.92063821e-05, 4.90766850e-07],\n",
    "       [3.20777562e-06, 2.26262745e-03, 1.37962246e-03, 9.73126553e-01,\n",
    "        2.02474566e-08, 1.42816881e-05, 8.70816699e-06, 6.14236779e-03,\n",
    "        2.02474566e-08, 1.42816881e-05, 8.70816699e-06, 6.14236779e-03,\n",
    "        1.27801800e-10, 9.01459125e-08, 5.49658872e-08, 3.87705811e-05],\n",
    "       [1.88937946e-03, 2.36503538e-05, 2.04523386e-05, 2.56012650e-07,\n",
    "        9.88145459e-01, 1.23691350e-02, 1.06965731e-02, 1.33894616e-04,\n",
    "        1.19257495e-05, 1.49280863e-07, 1.29095014e-07, 1.61595000e-09,\n",
    "        6.23716701e-03, 7.80738911e-05, 6.75166921e-05, 8.45141850e-07],\n",
    "       [2.64883962e-06, 1.86837795e-03, 2.86734168e-08, 2.02249994e-05,\n",
    "        1.38534312e-03, 9.77161667e-01, 1.49961970e-05, 1.05776747e-02,\n",
    "        1.67194566e-08, 1.17931881e-05, 1.80986400e-10, 1.27660050e-07,\n",
    "        8.74427580e-06, 6.16783740e-03, 9.46558872e-08, 6.67662062e-05],\n",
    "       [4.35559062e-06, 5.45212125e-08, 1.87328272e-03, 2.34488624e-05,\n",
    "        2.27797390e-03, 2.85145941e-05, 9.79726860e-01, 1.22637550e-02,\n",
    "        2.74924566e-08, 3.44137500e-10, 1.18241470e-05, 1.48009050e-07,\n",
    "        1.43785548e-05, 1.79983913e-07, 6.18402887e-03, 7.74087332e-05],\n",
    "       [6.10637580e-09, 4.30717579e-06, 2.62627258e-06, 1.85246013e-03,\n",
    "        3.19363454e-06, 2.25265294e-03, 1.37354056e-03, 9.68836646e-01,\n",
    "        3.85434000e-11, 2.71868625e-08, 1.65770136e-08, 1.16927150e-05,\n",
    "        2.01581982e-08, 1.42187291e-05, 8.66977811e-06, 6.11528992e-03],\n",
    "       [1.88937946e-03, 2.36503538e-05, 2.04523386e-05, 2.56012650e-07,\n",
    "        1.19257495e-05, 1.49280863e-07, 1.29095014e-07, 1.61595000e-09,\n",
    "        9.88145459e-01, 1.23691350e-02, 1.06965731e-02, 1.33894616e-04,\n",
    "        6.23716701e-03, 7.80738911e-05, 6.75166921e-05, 8.45141850e-07],\n",
    "       [2.64883962e-06, 1.86837795e-03, 2.86734168e-08, 2.02249994e-05,\n",
    "        1.67194566e-08, 1.17931881e-05, 1.80986400e-10, 1.27660050e-07,\n",
    "        1.38534312e-03, 9.77161667e-01, 1.49961970e-05, 1.05776747e-02,\n",
    "        8.74427580e-06, 6.16783740e-03, 9.46558872e-08, 6.67662062e-05],\n",
    "       [4.35559062e-06, 5.45212125e-08, 1.87328272e-03, 2.34488624e-05,\n",
    "        2.74924566e-08, 3.44137500e-10, 1.18241470e-05, 1.48009050e-07,\n",
    "        2.27797390e-03, 2.85145941e-05, 9.79726860e-01, 1.22637550e-02,\n",
    "        1.43785548e-05, 1.79983913e-07, 6.18402887e-03, 7.74087332e-05],\n",
    "       [6.10637580e-09, 4.30717579e-06, 2.62627258e-06, 1.85246013e-03,\n",
    "        3.85434000e-11, 2.71868625e-08, 1.65770136e-08, 1.16927150e-05,\n",
    "        3.19363454e-06, 2.25265294e-03, 1.37354056e-03, 9.68836646e-01,\n",
    "        2.01581982e-08, 1.42187291e-05, 8.66977811e-06, 6.11528992e-03],\n",
    "       [3.59665462e-06, 4.50212125e-08, 3.89334168e-08, 4.87350000e-10,\n",
    "        1.88105037e-03, 2.35460941e-05, 2.03621770e-05, 2.54884050e-07,\n",
    "        1.88105037e-03, 2.35460941e-05, 2.03621770e-05, 2.54884050e-07,\n",
    "        9.83789343e-01, 1.23146072e-02, 1.06494186e-02, 1.33304358e-04],\n",
    "       [5.04237580e-09, 3.55667579e-06, 5.45832000e-11, 3.85006500e-08,\n",
    "        2.63716254e-06, 1.86014144e-03, 2.85470136e-08, 2.01358400e-05,\n",
    "        2.63716254e-06, 1.86014144e-03, 2.85470136e-08, 2.01358400e-05,\n",
    "        1.37923601e-03, 9.72853971e-01, 1.49300881e-05, 1.05310443e-02],\n",
    "       [8.29137580e-09, 1.03787500e-10, 3.56601258e-06, 4.46376500e-08,\n",
    "        4.33638954e-06, 5.42808625e-08, 1.86502458e-03, 2.33454910e-05,\n",
    "        4.33638954e-06, 5.42808625e-08, 1.86502458e-03, 2.33454910e-05,\n",
    "        2.26793173e-03, 2.83888911e-05, 9.75407856e-01, 1.22096918e-02],\n",
    "       [1.16242000e-11, 8.19921250e-09, 4.99941680e-09, 3.52637435e-06,\n",
    "        6.07945660e-09, 4.28818814e-06, 2.61469499e-06, 1.84429379e-03,\n",
    "        6.07945660e-09, 4.28818814e-06, 2.61469499e-06, 1.84429379e-03,\n",
    "        3.17955580e-06, 2.24272240e-03, 1.36748548e-03, 9.64565650e-01]])"
   ]
  },
  {
   "cell_type": "markdown",
   "id": "013bd966-9d44-4860-9cc9-816d03a07585",
   "metadata": {},
   "source": [
    "### Scalable Response"
   ]
  },
  {
   "cell_type": "code",
   "execution_count": 16,
   "id": "f8db5cbd-066e-462f-83d7-00f80b2923e3",
   "metadata": {},
   "outputs": [],
   "source": [
    "HammingMap1 = np.copy(HammingMap)\n",
    "for i in range(0,16):\n",
    "    for j in range(0,16):\n",
    "        if HammingMap1[i][j] > 1:\n",
    "            HammingMap1[i][j] = 0\n",
    "        else: \n",
    "            HammingMap1[i][j] = 1"
   ]
  },
  {
   "cell_type": "code",
   "execution_count": 17,
   "id": "d717eb26-b567-4a7f-a6f4-f3f03652a5a7",
   "metadata": {},
   "outputs": [
    {
     "data": {
      "text/plain": [
       "array([[0.97094727, 0.00561523, 0.00512695, 0.        , 0.00512695,\n",
       "        0.        , 0.        , 0.        , 0.01171875, 0.        ,\n",
       "        0.        , 0.        , 0.        , 0.        , 0.        ,\n",
       "        0.        ],\n",
       "       [0.02905273, 0.94262695, 0.        , 0.00463867, 0.        ,\n",
       "        0.00683594, 0.        , 0.        , 0.        , 0.01342773,\n",
       "        0.        , 0.        , 0.        , 0.        , 0.        ,\n",
       "        0.        ],\n",
       "       [0.04101562, 0.        , 0.9284668 , 0.00610352, 0.        ,\n",
       "        0.        , 0.00927734, 0.        , 0.        , 0.        ,\n",
       "        0.01196289, 0.        , 0.        , 0.        , 0.        ,\n",
       "        0.        ],\n",
       "       [0.        , 0.03271484, 0.0324707 , 0.91552734, 0.        ,\n",
       "        0.        , 0.        , 0.00512695, 0.        , 0.        ,\n",
       "        0.        , 0.01049805, 0.        , 0.        , 0.        ,\n",
       "        0.        ],\n",
       "       [0.04125977, 0.        , 0.        , 0.        , 0.93603516,\n",
       "        0.00488281, 0.00317383, 0.        , 0.        , 0.        ,\n",
       "        0.        , 0.        , 0.01196289, 0.        , 0.        ,\n",
       "        0.        ],\n",
       "       [0.        , 0.03759766, 0.        , 0.        , 0.03735352,\n",
       "        0.90893555, 0.        , 0.00488281, 0.        , 0.        ,\n",
       "        0.        , 0.        , 0.        , 0.00634766, 0.        ,\n",
       "        0.        ],\n",
       "       [0.        , 0.        , 0.04394531, 0.        , 0.03271484,\n",
       "        0.        , 0.90576172, 0.00317383, 0.        , 0.        ,\n",
       "        0.        , 0.        , 0.        , 0.        , 0.00952148,\n",
       "        0.        ],\n",
       "       [0.        , 0.        , 0.        , 0.03686523, 0.        ,\n",
       "        0.03125   , 0.03466797, 0.88110352, 0.        , 0.        ,\n",
       "        0.        , 0.        , 0.        , 0.        , 0.        ,\n",
       "        0.0090332 ],\n",
       "       [0.03662109, 0.        , 0.        , 0.        , 0.        ,\n",
       "        0.        , 0.        , 0.        , 0.9465332 , 0.00512695,\n",
       "        0.00268555, 0.        , 0.00805664, 0.        , 0.        ,\n",
       "        0.        ],\n",
       "       [0.        , 0.02734375, 0.        , 0.        , 0.        ,\n",
       "        0.        , 0.        , 0.        , 0.02856445, 0.92919922,\n",
       "        0.        , 0.00610352, 0.        , 0.00415039, 0.        ,\n",
       "        0.        ],\n",
       "       [0.        , 0.        , 0.03588867, 0.        , 0.        ,\n",
       "        0.        , 0.        , 0.        , 0.03393555, 0.        ,\n",
       "        0.91455078, 0.00415039, 0.        , 0.        , 0.00756836,\n",
       "        0.        ],\n",
       "       [0.        , 0.        , 0.        , 0.02929688, 0.        ,\n",
       "        0.        , 0.        , 0.        , 0.        , 0.03930664,\n",
       "        0.03417969, 0.88745117, 0.        , 0.        , 0.        ,\n",
       "        0.00415039],\n",
       "       [0.        , 0.        , 0.        , 0.        , 0.03344727,\n",
       "        0.        , 0.        , 0.        , 0.04199219, 0.        ,\n",
       "        0.        , 0.        , 0.90966797, 0.00585938, 0.00463867,\n",
       "        0.        ],\n",
       "       [0.        , 0.        , 0.        , 0.        , 0.        ,\n",
       "        0.03271484, 0.        , 0.        , 0.        , 0.04785156,\n",
       "        0.        , 0.        , 0.03369141, 0.87524414, 0.        ,\n",
       "        0.00341797],\n",
       "       [0.        , 0.        , 0.        , 0.        , 0.        ,\n",
       "        0.        , 0.03735352, 0.        , 0.        , 0.        ,\n",
       "        0.03808594, 0.        , 0.03198242, 0.        , 0.88183594,\n",
       "        0.0065918 ],\n",
       "       [0.        , 0.        , 0.        , 0.        , 0.        ,\n",
       "        0.        , 0.        , 0.03100586, 0.        , 0.        ,\n",
       "        0.        , 0.03149414, 0.        , 0.04125977, 0.02563477,\n",
       "        0.86010742]])"
      ]
     },
     "execution_count": 17,
     "metadata": {},
     "output_type": "execute_result"
    }
   ],
   "source": [
    "resMatrix1 = HammingMap1 * resMatrix\n",
    "resMatrix1"
   ]
  },
  {
   "cell_type": "code",
   "execution_count": 18,
   "id": "2ab1a74f-4b94-4e67-b72e-dcf4c8be69f3",
   "metadata": {},
   "outputs": [
    {
     "data": {
      "text/plain": [
       "array([[0.99252086, 0.0124239 , 0.01074394, 0.        , 0.00626478,\n",
       "        0.        , 0.        , 0.        , 0.00626478, 0.        ,\n",
       "        0.        , 0.        , 0.        , 0.        , 0.        ,\n",
       "        0.        ],\n",
       "       [0.00139148, 0.98148844, 0.        , 0.01062451, 0.        ,\n",
       "        0.00619515, 0.        , 0.        , 0.        , 0.00619515,\n",
       "        0.        , 0.        , 0.        , 0.        , 0.        ,\n",
       "        0.        ],\n",
       "       [0.00228806, 0.        , 0.98406499, 0.01231806, 0.        ,\n",
       "        0.        , 0.00621141, 0.        , 0.        , 0.        ,\n",
       "        0.00621141, 0.        , 0.        , 0.        , 0.        ,\n",
       "        0.        ],\n",
       "       [0.        , 0.00226263, 0.00137962, 0.97312655, 0.        ,\n",
       "        0.        , 0.        , 0.00614237, 0.        , 0.        ,\n",
       "        0.        , 0.00614237, 0.        , 0.        , 0.        ,\n",
       "        0.        ],\n",
       "       [0.00188938, 0.        , 0.        , 0.        , 0.98814546,\n",
       "        0.01236913, 0.01069657, 0.        , 0.        , 0.        ,\n",
       "        0.        , 0.        , 0.00623717, 0.        , 0.        ,\n",
       "        0.        ],\n",
       "       [0.        , 0.00186838, 0.        , 0.        , 0.00138534,\n",
       "        0.97716167, 0.        , 0.01057767, 0.        , 0.        ,\n",
       "        0.        , 0.        , 0.        , 0.00616784, 0.        ,\n",
       "        0.        ],\n",
       "       [0.        , 0.        , 0.00187328, 0.        , 0.00227797,\n",
       "        0.        , 0.97972686, 0.01226375, 0.        , 0.        ,\n",
       "        0.        , 0.        , 0.        , 0.        , 0.00618403,\n",
       "        0.        ],\n",
       "       [0.        , 0.        , 0.        , 0.00185246, 0.        ,\n",
       "        0.00225265, 0.00137354, 0.96883665, 0.        , 0.        ,\n",
       "        0.        , 0.        , 0.        , 0.        , 0.        ,\n",
       "        0.00611529],\n",
       "       [0.00188938, 0.        , 0.        , 0.        , 0.        ,\n",
       "        0.        , 0.        , 0.        , 0.98814546, 0.01236913,\n",
       "        0.01069657, 0.        , 0.00623717, 0.        , 0.        ,\n",
       "        0.        ],\n",
       "       [0.        , 0.00186838, 0.        , 0.        , 0.        ,\n",
       "        0.        , 0.        , 0.        , 0.00138534, 0.97716167,\n",
       "        0.        , 0.01057767, 0.        , 0.00616784, 0.        ,\n",
       "        0.        ],\n",
       "       [0.        , 0.        , 0.00187328, 0.        , 0.        ,\n",
       "        0.        , 0.        , 0.        , 0.00227797, 0.        ,\n",
       "        0.97972686, 0.01226375, 0.        , 0.        , 0.00618403,\n",
       "        0.        ],\n",
       "       [0.        , 0.        , 0.        , 0.00185246, 0.        ,\n",
       "        0.        , 0.        , 0.        , 0.        , 0.00225265,\n",
       "        0.00137354, 0.96883665, 0.        , 0.        , 0.        ,\n",
       "        0.00611529],\n",
       "       [0.        , 0.        , 0.        , 0.        , 0.00188105,\n",
       "        0.        , 0.        , 0.        , 0.00188105, 0.        ,\n",
       "        0.        , 0.        , 0.98378934, 0.01231461, 0.01064942,\n",
       "        0.        ],\n",
       "       [0.        , 0.        , 0.        , 0.        , 0.        ,\n",
       "        0.00186014, 0.        , 0.        , 0.        , 0.00186014,\n",
       "        0.        , 0.        , 0.00137924, 0.97285397, 0.        ,\n",
       "        0.01053104],\n",
       "       [0.        , 0.        , 0.        , 0.        , 0.        ,\n",
       "        0.        , 0.00186502, 0.        , 0.        , 0.        ,\n",
       "        0.00186502, 0.        , 0.00226793, 0.        , 0.97540786,\n",
       "        0.01220969],\n",
       "       [0.        , 0.        , 0.        , 0.        , 0.        ,\n",
       "        0.        , 0.        , 0.00184429, 0.        , 0.        ,\n",
       "        0.        , 0.00184429, 0.        , 0.00224272, 0.00136749,\n",
       "        0.96456565]])"
      ]
     },
     "execution_count": 18,
     "metadata": {},
     "output_type": "execute_result"
    }
   ],
   "source": [
    "Gamma1 = HammingMap1 * Gamma\n",
    "Gamma1"
   ]
  },
  {
   "cell_type": "code",
   "execution_count": 19,
   "id": "7d63d5da-7b1e-4de3-9d7d-d01e3a0a43ab",
   "metadata": {},
   "outputs": [],
   "source": [
    "for i in range(16):\n",
    "    resMatrix1[i] = resMatrix1[i]/np.sum(resMatrix1[i])"
   ]
  },
  {
   "cell_type": "code",
   "execution_count": 20,
   "id": "87ab4f93-d0b0-4660-bd79-051a125f642e",
   "metadata": {},
   "outputs": [],
   "source": [
    "for i in range(16):\n",
    "    Gamma1[i] = Gamma1[i]/np.sum(Gamma1[i])"
   ]
  },
  {
   "cell_type": "code",
   "execution_count": 21,
   "id": "e9d86a7b-ef0c-4aa7-886e-593e63932476",
   "metadata": {},
   "outputs": [],
   "source": [
    "res1 = IBU(resMatrix, data1, 10)\n",
    "res2 = IBU(resMatrix1, data1, 10)\n",
    "res3 = IBU(Gamma, data1, 10)\n",
    "res4 = IBU(Gamma1, data1, 10)"
   ]
  },
  {
   "cell_type": "code",
   "execution_count": 29,
   "id": "910bf78c-8c8d-4c5b-9217-870898ddffd4",
   "metadata": {},
   "outputs": [
    {
     "data": {
      "text/plain": [
       "array([4.51958267e-01, 6.35873110e-04, 4.17114324e-06, 2.15347209e-02,\n",
       "       1.86577437e-09, 1.25450764e-03, 7.23224969e-05, 1.49751065e-02,\n",
       "       2.00934944e-06, 2.16876078e-06, 2.08184890e-05, 1.73937399e-02,\n",
       "       8.44263938e-03, 1.92698836e-02, 3.08959983e-02, 4.33537772e-01])"
      ]
     },
     "execution_count": 29,
     "metadata": {},
     "output_type": "execute_result"
    }
   ],
   "source": [
    "res1"
   ]
  },
  {
   "cell_type": "code",
   "execution_count": 22,
   "id": "1f21e39e-9933-4e98-86e0-6a662b36f163",
   "metadata": {},
   "outputs": [],
   "source": [
    "ideal = np.array([0.5, 0, 0, 0, 0, 0, 0, 0, 0, 0, 0, 0, 0, 0, 0, 0.5])"
   ]
  },
  {
   "cell_type": "code",
   "execution_count": 34,
   "id": "bc9275f1-55be-4b21-ac55-7469c4dd4d63",
   "metadata": {},
   "outputs": [],
   "source": [
    "d1 = np.sum(np.absolute(ideal-res1))/2\n",
    "d2 = np.sum(np.absolute(ideal-res2))/2\n",
    "d3 = np.sum(np.absolute(ideal-res3))/2\n",
    "d4 = np.sum(np.absolute(ideal-res4))/2"
   ]
  },
  {
   "cell_type": "code",
   "execution_count": 35,
   "id": "2f848be3-5b65-4e18-84d2-ce79d14cabca",
   "metadata": {},
   "outputs": [
    {
     "data": {
      "text/plain": [
       "0.11450396143090663"
      ]
     },
     "execution_count": 35,
     "metadata": {},
     "output_type": "execute_result"
    }
   ],
   "source": [
    "d1"
   ]
  },
  {
   "cell_type": "code",
   "execution_count": 36,
   "id": "b5210057-ffaf-43fb-b132-f0f752829b9e",
   "metadata": {},
   "outputs": [
    {
     "data": {
      "text/plain": [
       "0.11996597902528781"
      ]
     },
     "execution_count": 36,
     "metadata": {},
     "output_type": "execute_result"
    }
   ],
   "source": [
    "d2"
   ]
  },
  {
   "cell_type": "code",
   "execution_count": 37,
   "id": "7fcb5680-02bd-462a-86c4-98334c97400c",
   "metadata": {},
   "outputs": [
    {
     "data": {
      "text/plain": [
       "0.13391771686323956"
      ]
     },
     "execution_count": 37,
     "metadata": {},
     "output_type": "execute_result"
    }
   ],
   "source": [
    "d3"
   ]
  },
  {
   "cell_type": "code",
   "execution_count": 38,
   "id": "a1b55892-ee51-4e73-b7b1-f558907aaefc",
   "metadata": {},
   "outputs": [
    {
     "data": {
      "text/plain": [
       "0.13413024190727163"
      ]
     },
     "execution_count": 38,
     "metadata": {},
     "output_type": "execute_result"
    }
   ],
   "source": [
    "d4"
   ]
  }
 ],
 "metadata": {
  "kernelspec": {
   "display_name": "Qiskit v0.34.0 (ipykernel)",
   "language": "python",
   "name": "python3"
  },
  "language_info": {
   "codemirror_mode": {
    "name": "ipython",
    "version": 3
   },
   "file_extension": ".py",
   "mimetype": "text/x-python",
   "name": "python",
   "nbconvert_exporter": "python",
   "pygments_lexer": "ipython3",
   "version": "3.8.10"
  },
  "widgets": {
   "application/vnd.jupyter.widget-state+json": {
    "state": {},
    "version_major": 2,
    "version_minor": 0
   }
  }
 },
 "nbformat": 4,
 "nbformat_minor": 5
}
