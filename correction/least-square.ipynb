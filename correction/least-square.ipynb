{
 "cells": [
  {
   "cell_type": "markdown",
   "id": "d8b59e0e-ecfb-4b6c-8601-04405e84f691",
   "metadata": {},
   "source": [
    "# Least Square Unfolding\n",
    "\n",
    "In this notebook, I will provide a code to conduct the unfolding of noisy data with linear regression techniques. "
   ]
  },
  {
   "cell_type": "code",
   "execution_count": null,
   "id": "9f71ab4e-40c6-4c56-9794-3415b8dae1a8",
   "metadata": {},
   "outputs": [],
   "source": [
    "from scipy.optimize import minimize\n",
    "def leastQ(initialA, rawData):\n",
    "    \"\"\"\n",
    "    Following IBM Qiskit, we define a function to compute the calibration\n",
    "    by minimizing ||Lambda * Count_est - Count_exp||_2. Make sure input \n",
    "    parameters should be probability\n",
    "    \n",
    "    Use function in this way: \n",
    "    leastQ(resMatrix/size, data/sum(data))\n",
    "    \"\"\"\n",
    "    # Make sure the element of A is probability \n",
    "    #if np.sum(initialA) > 1:\n",
    "    #    for i, _ in enumerate(initialA):\n",
    "    #        initialA[i] = initialA[i]/np.sum(initialA[i])\n",
    "    \n",
    "    # Make sure the element of data is probability \n",
    "    #if np.sum(rawData) > 1:\n",
    "    #    rawData = rawData/np.sum(rawData)\n",
    "    \n",
    "    realData = np.copy(rawData) # Deep copy\n",
    "    \n",
    "    # Define the function need to be minimized, x is the estimated true value\n",
    "    def fun(x):\n",
    "        return sum((rawData - np.dot(initialA, x))**2)\n",
    "    \n",
    "    x0 = np.random.rand(len(rawData)) # Generate random initial fitting value\n",
    "    x0 = x0 / sum(x0) # Normalized the initial value\n",
    "    \n",
    "    cons = ({'type': 'eq', 'fun': lambda x: sum(x) - 1}) # Make sure the sum of probability is \n",
    "    bnds = tuple((0, 1) for x in x0) # Make sure probability is between 0 and 1\n",
    "    mitigation = minimize(fun, x0, method='SLSQP', constraints=cons, bounds=bnds, tol=1e-6)\n",
    "    \n",
    "    return mitigation.x"
   ]
  }
 ],
 "metadata": {
  "kernelspec": {
   "display_name": "Qiskit v0.34.1 (ipykernel)",
   "language": "python",
   "name": "python3"
  },
  "language_info": {
   "codemirror_mode": {
    "name": "ipython",
    "version": 3
   },
   "file_extension": ".py",
   "mimetype": "text/x-python",
   "name": "python",
   "nbconvert_exporter": "python",
   "pygments_lexer": "ipython3",
   "version": "3.8.12"
  },
  "widgets": {
   "application/vnd.jupyter.widget-state+json": {
    "state": {},
    "version_major": 2,
    "version_minor": 0
   }
  }
 },
 "nbformat": 4,
 "nbformat_minor": 5
}
