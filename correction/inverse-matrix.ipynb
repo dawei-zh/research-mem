{
 "cells": [
  {
   "cell_type": "markdown",
   "id": "62bc28bc-49dd-4426-8519-4f9a9db1ae5b",
   "metadata": {},
   "source": [
    "# Inverse Matrix Unfolding\n",
    "\n",
    "In this notebook, I will provide a code to conduct the unfolding of noisy data with inverse matrix techniques. "
   ]
  },
  {
   "cell_type": "code",
   "execution_count": null,
   "id": "1bc5c847-79db-4b36-a3f1-97d22afb818d",
   "metadata": {},
   "outputs": [],
   "source": [
    "import scipy.linalg as la\n",
    "\n",
    "def pseudoInverse(initialA, rawData):\n",
    "    \"\"\"\n",
    "    Following IBM Qiskit, we define a function to compute the \n",
    "    (Moore-Penrose) pseudo-inverse of a matrix as calibration.\n",
    "    \"\"\"\n",
    "    calMatrix = la.pinv(initialA)\n",
    "    return np.dot(calMatrix, initialA)"
   ]
  }
 ],
 "metadata": {
  "kernelspec": {
   "display_name": "Qiskit v0.34.1 (ipykernel)",
   "language": "python",
   "name": "python3"
  },
  "language_info": {
   "codemirror_mode": {
    "name": "ipython",
    "version": 3
   },
   "file_extension": ".py",
   "mimetype": "text/x-python",
   "name": "python",
   "nbconvert_exporter": "python",
   "pygments_lexer": "ipython3",
   "version": "3.8.12"
  },
  "widgets": {
   "application/vnd.jupyter.widget-state+json": {
    "state": {},
    "version_major": 2,
    "version_minor": 0
   }
  }
 },
 "nbformat": 4,
 "nbformat_minor": 5
}
