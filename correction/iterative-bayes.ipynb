{
 "cells": [
  {
   "cell_type": "markdown",
   "id": "eb745b09-eab6-49a0-bda7-ba37c98d3a02",
   "metadata": {},
   "source": [
    "# Iterative Bayesian Unfolding\n",
    "\n",
    "In this notebook, I will provide a code to conduct the unfolding of noisy data with iterative Bayesian techniques. "
   ]
  },
  {
   "cell_type": "code",
   "execution_count": null,
   "id": "d521f51b-9dff-44ac-be45-19d5db7a5950",
   "metadata": {},
   "outputs": [],
   "source": [
    "def IBU(initialA, rawData, nIter):\n",
    "    \"\"\"\n",
    "    Following public code of nature paper, we define a function to compute the calibration\n",
    "    by iterative Bayesian unfolding method. Make sure input parameters should be probability\n",
    "    \n",
    "    Use function in this way: \n",
    "    IBU(resMatrix/4096, data1/sum(data1),10)\n",
    "    \"\"\"\n",
    "    dataLen = len(rawData)\n",
    "    t0 = np.ones(dataLen)\n",
    "    tn = t0\n",
    "    \n",
    "    for k in range(nIter):\n",
    "        # for k-th iteration time\n",
    "        tmp = np.ones(dataLen) # define the t_n+1 null array\n",
    "        \n",
    "        # for each element in the array\n",
    "        for i in range(dataLen): \n",
    "            jSum = 0 # initial the sum\n",
    "            for j in range(dataLen):\n",
    "                tmpSum = np.dot(initialA[j], tn) # Get sum of R_jk*t_k^n as inner product\n",
    "                jSum += initialA[j][i] * tn[i] * rawData[j] / tmpSum # sum up R_ji * t_i^n * m_j for j \n",
    "            \n",
    "            tmp[i] = np.copy(jSum)\n",
    "\n",
    "        tn = np.copy(tmp) # return the result after k-th iteration \n",
    "    return tn"
   ]
  }
 ],
 "metadata": {
  "kernelspec": {
   "display_name": "Qiskit v0.34.1 (ipykernel)",
   "language": "python",
   "name": "python3"
  },
  "language_info": {
   "codemirror_mode": {
    "name": "ipython",
    "version": 3
   },
   "file_extension": ".py",
   "mimetype": "text/x-python",
   "name": "python",
   "nbconvert_exporter": "python",
   "pygments_lexer": "ipython3",
   "version": "3.8.12"
  },
  "widgets": {
   "application/vnd.jupyter.widget-state+json": {
    "state": {},
    "version_major": 2,
    "version_minor": 0
   }
  }
 },
 "nbformat": 4,
 "nbformat_minor": 5
}
